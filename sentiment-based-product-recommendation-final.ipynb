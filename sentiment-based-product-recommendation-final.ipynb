{
 "cells": [
  {
   "cell_type": "code",
   "execution_count": 569,
   "metadata": {
    "colab": {
     "base_uri": "https://localhost:8080/"
    },
    "id": "70y-_u-YRPvw",
    "outputId": "933a429c-3eed-4aab-a486-b9e6a4697c59"
   },
   "outputs": [
    {
     "name": "stderr",
     "output_type": "stream",
     "text": [
      "UsageError: Line magic function `%` not found.\n"
     ]
    }
   ],
   "source": [
    "import pandas as pd\n",
    "import numpy as np\n",
    "import re\n",
    "from tabulate import tabulate\n",
    "import time \n",
    "import datetime\n",
    "\n",
    "import matplotlib.pyplot as plt\n",
    "import seaborn as sns\n",
    "import nltk\n",
    "from nltk.corpus import stopwords\n",
    "\n",
    "from sklearn.feature_extraction.text import TfidfVectorizer, TfidfTransformer\n",
    "from sklearn.feature_extraction.text import CountVectorizer\n",
    "\n",
    "from sklearn.model_selection import cross_val_score\n",
    "\n",
    "from sklearn.metrics import accuracy_score\n",
    "from sklearn.model_selection import train_test_split\n",
    "from sklearn.linear_model import LogisticRegression\n",
    "from sklearn.metrics import *\n",
    "from sklearn import *\n",
    "\n",
    "import sklearn.externals\n",
    "import joblib\n",
    "\n",
    "from imblearn.over_sampling import SMOTE\n",
    "\n",
    "\n",
    "import sklearn.neighbors._base\n",
    "import warnings\n",
    "warnings.filterwarnings('ignore')\n",
    "\n",
    "% matplotlib inline"
   ]
  },
  {
   "cell_type": "code",
   "execution_count": 570,
   "metadata": {
    "id": "69cgHjba8amC"
   },
   "outputs": [],
   "source": [
    "## Reading the csv file\n",
    "reviews = pd.read_csv(\"sample30.csv\")"
   ]
  },
  {
   "cell_type": "code",
   "execution_count": 571,
   "metadata": {
    "colab": {
     "base_uri": "https://localhost:8080/",
     "height": 591
    },
    "id": "BBXseJbC9T8n",
    "outputId": "96ccae0f-7b50-4dce-bba8-0596b4830370"
   },
   "outputs": [
    {
     "data": {
      "text/html": [
       "<div>\n",
       "<style scoped>\n",
       "    .dataframe tbody tr th:only-of-type {\n",
       "        vertical-align: middle;\n",
       "    }\n",
       "\n",
       "    .dataframe tbody tr th {\n",
       "        vertical-align: top;\n",
       "    }\n",
       "\n",
       "    .dataframe thead th {\n",
       "        text-align: right;\n",
       "    }\n",
       "</style>\n",
       "<table border=\"1\" class=\"dataframe\">\n",
       "  <thead>\n",
       "    <tr style=\"text-align: right;\">\n",
       "      <th></th>\n",
       "      <th>id</th>\n",
       "      <th>brand</th>\n",
       "      <th>categories</th>\n",
       "      <th>manufacturer</th>\n",
       "      <th>name</th>\n",
       "      <th>reviews_date</th>\n",
       "      <th>reviews_didPurchase</th>\n",
       "      <th>reviews_doRecommend</th>\n",
       "      <th>reviews_rating</th>\n",
       "      <th>reviews_text</th>\n",
       "      <th>reviews_title</th>\n",
       "      <th>reviews_userCity</th>\n",
       "      <th>reviews_userProvince</th>\n",
       "      <th>reviews_username</th>\n",
       "      <th>user_sentiment</th>\n",
       "    </tr>\n",
       "  </thead>\n",
       "  <tbody>\n",
       "    <tr>\n",
       "      <td>0</td>\n",
       "      <td>AV13O1A8GV-KLJ3akUyj</td>\n",
       "      <td>Universal Music</td>\n",
       "      <td>Movies, Music &amp; Books,Music,R&amp;b,Movies &amp; TV,Mo...</td>\n",
       "      <td>Universal Music Group / Cash Money</td>\n",
       "      <td>Pink Friday: Roman Reloaded Re-Up (w/dvd)</td>\n",
       "      <td>2012-11-30T06:21:45.000Z</td>\n",
       "      <td>NaN</td>\n",
       "      <td>NaN</td>\n",
       "      <td>5</td>\n",
       "      <td>i love this album. it's very good. more to the...</td>\n",
       "      <td>Just Awesome</td>\n",
       "      <td>Los Angeles</td>\n",
       "      <td>NaN</td>\n",
       "      <td>joshua</td>\n",
       "      <td>Positive</td>\n",
       "    </tr>\n",
       "    <tr>\n",
       "      <td>1</td>\n",
       "      <td>AV14LG0R-jtxr-f38QfS</td>\n",
       "      <td>Lundberg</td>\n",
       "      <td>Food,Packaged Foods,Snacks,Crackers,Snacks, Co...</td>\n",
       "      <td>Lundberg</td>\n",
       "      <td>Lundberg Organic Cinnamon Toast Rice Cakes</td>\n",
       "      <td>2017-07-09T00:00:00.000Z</td>\n",
       "      <td>True</td>\n",
       "      <td>NaN</td>\n",
       "      <td>5</td>\n",
       "      <td>Good flavor. This review was collected as part...</td>\n",
       "      <td>Good</td>\n",
       "      <td>NaN</td>\n",
       "      <td>NaN</td>\n",
       "      <td>dorothy w</td>\n",
       "      <td>Positive</td>\n",
       "    </tr>\n",
       "    <tr>\n",
       "      <td>2</td>\n",
       "      <td>AV14LG0R-jtxr-f38QfS</td>\n",
       "      <td>Lundberg</td>\n",
       "      <td>Food,Packaged Foods,Snacks,Crackers,Snacks, Co...</td>\n",
       "      <td>Lundberg</td>\n",
       "      <td>Lundberg Organic Cinnamon Toast Rice Cakes</td>\n",
       "      <td>2017-07-09T00:00:00.000Z</td>\n",
       "      <td>True</td>\n",
       "      <td>NaN</td>\n",
       "      <td>5</td>\n",
       "      <td>Good flavor.</td>\n",
       "      <td>Good</td>\n",
       "      <td>NaN</td>\n",
       "      <td>NaN</td>\n",
       "      <td>dorothy w</td>\n",
       "      <td>Positive</td>\n",
       "    </tr>\n",
       "    <tr>\n",
       "      <td>3</td>\n",
       "      <td>AV16khLE-jtxr-f38VFn</td>\n",
       "      <td>K-Y</td>\n",
       "      <td>Personal Care,Medicine Cabinet,Lubricant/Sperm...</td>\n",
       "      <td>K-Y</td>\n",
       "      <td>K-Y Love Sensuality Pleasure Gel</td>\n",
       "      <td>2016-01-06T00:00:00.000Z</td>\n",
       "      <td>False</td>\n",
       "      <td>False</td>\n",
       "      <td>1</td>\n",
       "      <td>I read through the reviews on here before look...</td>\n",
       "      <td>Disappointed</td>\n",
       "      <td>NaN</td>\n",
       "      <td>NaN</td>\n",
       "      <td>rebecca</td>\n",
       "      <td>Negative</td>\n",
       "    </tr>\n",
       "    <tr>\n",
       "      <td>4</td>\n",
       "      <td>AV16khLE-jtxr-f38VFn</td>\n",
       "      <td>K-Y</td>\n",
       "      <td>Personal Care,Medicine Cabinet,Lubricant/Sperm...</td>\n",
       "      <td>K-Y</td>\n",
       "      <td>K-Y Love Sensuality Pleasure Gel</td>\n",
       "      <td>2016-12-21T00:00:00.000Z</td>\n",
       "      <td>False</td>\n",
       "      <td>False</td>\n",
       "      <td>1</td>\n",
       "      <td>My husband bought this gel for us. The gel cau...</td>\n",
       "      <td>Irritation</td>\n",
       "      <td>NaN</td>\n",
       "      <td>NaN</td>\n",
       "      <td>walker557</td>\n",
       "      <td>Negative</td>\n",
       "    </tr>\n",
       "  </tbody>\n",
       "</table>\n",
       "</div>"
      ],
      "text/plain": [
       "                     id            brand  \\\n",
       "0  AV13O1A8GV-KLJ3akUyj  Universal Music   \n",
       "1  AV14LG0R-jtxr-f38QfS         Lundberg   \n",
       "2  AV14LG0R-jtxr-f38QfS         Lundberg   \n",
       "3  AV16khLE-jtxr-f38VFn              K-Y   \n",
       "4  AV16khLE-jtxr-f38VFn              K-Y   \n",
       "\n",
       "                                          categories  \\\n",
       "0  Movies, Music & Books,Music,R&b,Movies & TV,Mo...   \n",
       "1  Food,Packaged Foods,Snacks,Crackers,Snacks, Co...   \n",
       "2  Food,Packaged Foods,Snacks,Crackers,Snacks, Co...   \n",
       "3  Personal Care,Medicine Cabinet,Lubricant/Sperm...   \n",
       "4  Personal Care,Medicine Cabinet,Lubricant/Sperm...   \n",
       "\n",
       "                         manufacturer  \\\n",
       "0  Universal Music Group / Cash Money   \n",
       "1                            Lundberg   \n",
       "2                            Lundberg   \n",
       "3                                 K-Y   \n",
       "4                                 K-Y   \n",
       "\n",
       "                                         name              reviews_date  \\\n",
       "0   Pink Friday: Roman Reloaded Re-Up (w/dvd)  2012-11-30T06:21:45.000Z   \n",
       "1  Lundberg Organic Cinnamon Toast Rice Cakes  2017-07-09T00:00:00.000Z   \n",
       "2  Lundberg Organic Cinnamon Toast Rice Cakes  2017-07-09T00:00:00.000Z   \n",
       "3            K-Y Love Sensuality Pleasure Gel  2016-01-06T00:00:00.000Z   \n",
       "4            K-Y Love Sensuality Pleasure Gel  2016-12-21T00:00:00.000Z   \n",
       "\n",
       "  reviews_didPurchase reviews_doRecommend  reviews_rating  \\\n",
       "0                 NaN                 NaN               5   \n",
       "1                True                 NaN               5   \n",
       "2                True                 NaN               5   \n",
       "3               False               False               1   \n",
       "4               False               False               1   \n",
       "\n",
       "                                        reviews_text reviews_title  \\\n",
       "0  i love this album. it's very good. more to the...  Just Awesome   \n",
       "1  Good flavor. This review was collected as part...          Good   \n",
       "2                                       Good flavor.          Good   \n",
       "3  I read through the reviews on here before look...  Disappointed   \n",
       "4  My husband bought this gel for us. The gel cau...    Irritation   \n",
       "\n",
       "  reviews_userCity reviews_userProvince reviews_username user_sentiment  \n",
       "0      Los Angeles                  NaN           joshua       Positive  \n",
       "1              NaN                  NaN        dorothy w       Positive  \n",
       "2              NaN                  NaN        dorothy w       Positive  \n",
       "3              NaN                  NaN          rebecca       Negative  \n",
       "4              NaN                  NaN        walker557       Negative  "
      ]
     },
     "execution_count": 571,
     "metadata": {},
     "output_type": "execute_result"
    }
   ],
   "source": [
    "## Displaying the head\n",
    "reviews.head()"
   ]
  },
  {
   "cell_type": "markdown",
   "metadata": {
    "id": "rgG6JsrTd4te"
   },
   "source": [
    "# Data Cleansing and Pre-processing"
   ]
  },
  {
   "cell_type": "code",
   "execution_count": 572,
   "metadata": {
    "colab": {
     "base_uri": "https://localhost:8080/"
    },
    "id": "4K11NaGH9V4q",
    "outputId": "126aef08-431a-405c-bb38-4acc949ec8f2"
   },
   "outputs": [
    {
     "data": {
      "text/plain": [
       "(30000, 15)"
      ]
     },
     "execution_count": 572,
     "metadata": {},
     "output_type": "execute_result"
    }
   ],
   "source": [
    "## Checking the shape of the data frame\n",
    "reviews.shape"
   ]
  },
  {
   "cell_type": "code",
   "execution_count": 573,
   "metadata": {
    "colab": {
     "base_uri": "https://localhost:8080/"
    },
    "id": "qDv1mcR12qC7",
    "outputId": "8a0b5dbb-543f-42bb-95e0-1a64472e265c"
   },
   "outputs": [
    {
     "name": "stdout",
     "output_type": "stream",
     "text": [
      "<class 'pandas.core.frame.DataFrame'>\n",
      "RangeIndex: 30000 entries, 0 to 29999\n",
      "Data columns (total 15 columns):\n",
      "id                      30000 non-null object\n",
      "brand                   30000 non-null object\n",
      "categories              30000 non-null object\n",
      "manufacturer            29859 non-null object\n",
      "name                    30000 non-null object\n",
      "reviews_date            29954 non-null object\n",
      "reviews_didPurchase     15932 non-null object\n",
      "reviews_doRecommend     27430 non-null object\n",
      "reviews_rating          30000 non-null int64\n",
      "reviews_text            30000 non-null object\n",
      "reviews_title           29810 non-null object\n",
      "reviews_userCity        1929 non-null object\n",
      "reviews_userProvince    170 non-null object\n",
      "reviews_username        29937 non-null object\n",
      "user_sentiment          29999 non-null object\n",
      "dtypes: int64(1), object(14)\n",
      "memory usage: 3.4+ MB\n"
     ]
    }
   ],
   "source": [
    "## Checking the info of the data set\n",
    "reviews.info()"
   ]
  },
  {
   "cell_type": "code",
   "execution_count": 574,
   "metadata": {
    "colab": {
     "base_uri": "https://localhost:8080/"
    },
    "id": "shFYh2E82tgk",
    "outputId": "fd14258b-6ed9-4c66-a772-3a26c9a1fd21"
   },
   "outputs": [
    {
     "data": {
      "text/plain": [
       "id                          0\n",
       "brand                       0\n",
       "categories                  0\n",
       "manufacturer              141\n",
       "name                        0\n",
       "reviews_date               46\n",
       "reviews_didPurchase     14068\n",
       "reviews_doRecommend      2570\n",
       "reviews_rating              0\n",
       "reviews_text                0\n",
       "reviews_title             190\n",
       "reviews_userCity        28071\n",
       "reviews_userProvince    29830\n",
       "reviews_username           63\n",
       "user_sentiment              1\n",
       "dtype: int64"
      ]
     },
     "execution_count": 574,
     "metadata": {},
     "output_type": "execute_result"
    }
   ],
   "source": [
    "## Checking for the null value counts\n",
    "reviews.isnull().sum()"
   ]
  },
  {
   "cell_type": "code",
   "execution_count": 575,
   "metadata": {
    "colab": {
     "base_uri": "https://localhost:8080/"
    },
    "id": "gVLIJMex8vdE",
    "outputId": "245f5b07-f62a-483a-beaf-662628302909"
   },
   "outputs": [
    {
     "data": {
      "text/plain": [
       "id                       0.00\n",
       "brand                    0.00\n",
       "categories               0.00\n",
       "manufacturer             0.47\n",
       "name                     0.00\n",
       "reviews_date             0.15\n",
       "reviews_didPurchase     46.89\n",
       "reviews_doRecommend      8.57\n",
       "reviews_rating           0.00\n",
       "reviews_text             0.00\n",
       "reviews_title            0.63\n",
       "reviews_userCity        93.57\n",
       "reviews_userProvince    99.43\n",
       "reviews_username         0.21\n",
       "user_sentiment           0.00\n",
       "dtype: float64"
      ]
     },
     "execution_count": 575,
     "metadata": {},
     "output_type": "execute_result"
    }
   ],
   "source": [
    "## Checking the Null value count percentages\n",
    "round(100*reviews.isnull().sum()/reviews.shape[0],2)"
   ]
  },
  {
   "cell_type": "code",
   "execution_count": 576,
   "metadata": {
    "colab": {
     "base_uri": "https://localhost:8080/"
    },
    "id": "XWK3eGtJ3pkX",
    "outputId": "9746acb0-deec-4151-cf0f-e1c123c82b00"
   },
   "outputs": [
    {
     "data": {
      "text/plain": [
       "(30000, 13)"
      ]
     },
     "execution_count": 576,
     "metadata": {},
     "output_type": "execute_result"
    }
   ],
   "source": [
    "## Dropping the columns reviews_userCity and reviews_userProvince as they have more than 90% null values and seems to be no importance for the analysis\n",
    "reviews = reviews.drop(['reviews_userCity','reviews_userProvince'],axis=1)\n",
    "reviews.shape"
   ]
  },
  {
   "cell_type": "code",
   "execution_count": 577,
   "metadata": {
    "colab": {
     "base_uri": "https://localhost:8080/"
    },
    "id": "_ElucGT23_R1",
    "outputId": "5ac7fc7a-954e-4d05-a83b-63b419571466"
   },
   "outputs": [
    {
     "data": {
      "text/plain": [
       "id                      0.00\n",
       "brand                   0.00\n",
       "categories              0.00\n",
       "manufacturer            0.47\n",
       "name                    0.00\n",
       "reviews_date            0.15\n",
       "reviews_didPurchase    46.89\n",
       "reviews_doRecommend     8.57\n",
       "reviews_rating          0.00\n",
       "reviews_text            0.00\n",
       "reviews_title           0.63\n",
       "reviews_username        0.21\n",
       "user_sentiment          0.00\n",
       "dtype: float64"
      ]
     },
     "execution_count": 577,
     "metadata": {},
     "output_type": "execute_result"
    }
   ],
   "source": [
    "## checking again the null value percentages\n",
    "round(100*reviews.isnull().sum()/reviews.shape[0],2)"
   ]
  },
  {
   "cell_type": "code",
   "execution_count": 578,
   "metadata": {
    "colab": {
     "base_uri": "https://localhost:8080/",
     "height": 591
    },
    "id": "0D-GfSQz0CDB",
    "outputId": "dc007cf6-16b2-4a0a-d2d6-aadce16573f4"
   },
   "outputs": [
    {
     "data": {
      "text/html": [
       "<div>\n",
       "<style scoped>\n",
       "    .dataframe tbody tr th:only-of-type {\n",
       "        vertical-align: middle;\n",
       "    }\n",
       "\n",
       "    .dataframe tbody tr th {\n",
       "        vertical-align: top;\n",
       "    }\n",
       "\n",
       "    .dataframe thead th {\n",
       "        text-align: right;\n",
       "    }\n",
       "</style>\n",
       "<table border=\"1\" class=\"dataframe\">\n",
       "  <thead>\n",
       "    <tr style=\"text-align: right;\">\n",
       "      <th></th>\n",
       "      <th>id</th>\n",
       "      <th>brand</th>\n",
       "      <th>categories</th>\n",
       "      <th>manufacturer</th>\n",
       "      <th>name</th>\n",
       "      <th>reviews_date</th>\n",
       "      <th>reviews_didPurchase</th>\n",
       "      <th>reviews_doRecommend</th>\n",
       "      <th>reviews_rating</th>\n",
       "      <th>reviews_text</th>\n",
       "      <th>reviews_title</th>\n",
       "      <th>reviews_username</th>\n",
       "      <th>user_sentiment</th>\n",
       "    </tr>\n",
       "  </thead>\n",
       "  <tbody>\n",
       "    <tr>\n",
       "      <td>0</td>\n",
       "      <td>AV13O1A8GV-KLJ3akUyj</td>\n",
       "      <td>Universal Music</td>\n",
       "      <td>Movies, Music &amp; Books,Music,R&amp;b,Movies &amp; TV,Mo...</td>\n",
       "      <td>Universal Music Group / Cash Money</td>\n",
       "      <td>Pink Friday: Roman Reloaded Re-Up (w/dvd)</td>\n",
       "      <td>2012-11-30T06:21:45.000Z</td>\n",
       "      <td>NaN</td>\n",
       "      <td>NaN</td>\n",
       "      <td>5</td>\n",
       "      <td>i love this album. it's very good. more to the...</td>\n",
       "      <td>Just Awesome</td>\n",
       "      <td>joshua</td>\n",
       "      <td>Positive</td>\n",
       "    </tr>\n",
       "    <tr>\n",
       "      <td>1</td>\n",
       "      <td>AV14LG0R-jtxr-f38QfS</td>\n",
       "      <td>Lundberg</td>\n",
       "      <td>Food,Packaged Foods,Snacks,Crackers,Snacks, Co...</td>\n",
       "      <td>Lundberg</td>\n",
       "      <td>Lundberg Organic Cinnamon Toast Rice Cakes</td>\n",
       "      <td>2017-07-09T00:00:00.000Z</td>\n",
       "      <td>True</td>\n",
       "      <td>NaN</td>\n",
       "      <td>5</td>\n",
       "      <td>Good flavor. This review was collected as part...</td>\n",
       "      <td>Good</td>\n",
       "      <td>dorothy w</td>\n",
       "      <td>Positive</td>\n",
       "    </tr>\n",
       "    <tr>\n",
       "      <td>2</td>\n",
       "      <td>AV14LG0R-jtxr-f38QfS</td>\n",
       "      <td>Lundberg</td>\n",
       "      <td>Food,Packaged Foods,Snacks,Crackers,Snacks, Co...</td>\n",
       "      <td>Lundberg</td>\n",
       "      <td>Lundberg Organic Cinnamon Toast Rice Cakes</td>\n",
       "      <td>2017-07-09T00:00:00.000Z</td>\n",
       "      <td>True</td>\n",
       "      <td>NaN</td>\n",
       "      <td>5</td>\n",
       "      <td>Good flavor.</td>\n",
       "      <td>Good</td>\n",
       "      <td>dorothy w</td>\n",
       "      <td>Positive</td>\n",
       "    </tr>\n",
       "    <tr>\n",
       "      <td>3</td>\n",
       "      <td>AV16khLE-jtxr-f38VFn</td>\n",
       "      <td>K-Y</td>\n",
       "      <td>Personal Care,Medicine Cabinet,Lubricant/Sperm...</td>\n",
       "      <td>K-Y</td>\n",
       "      <td>K-Y Love Sensuality Pleasure Gel</td>\n",
       "      <td>2016-01-06T00:00:00.000Z</td>\n",
       "      <td>False</td>\n",
       "      <td>False</td>\n",
       "      <td>1</td>\n",
       "      <td>I read through the reviews on here before look...</td>\n",
       "      <td>Disappointed</td>\n",
       "      <td>rebecca</td>\n",
       "      <td>Negative</td>\n",
       "    </tr>\n",
       "    <tr>\n",
       "      <td>4</td>\n",
       "      <td>AV16khLE-jtxr-f38VFn</td>\n",
       "      <td>K-Y</td>\n",
       "      <td>Personal Care,Medicine Cabinet,Lubricant/Sperm...</td>\n",
       "      <td>K-Y</td>\n",
       "      <td>K-Y Love Sensuality Pleasure Gel</td>\n",
       "      <td>2016-12-21T00:00:00.000Z</td>\n",
       "      <td>False</td>\n",
       "      <td>False</td>\n",
       "      <td>1</td>\n",
       "      <td>My husband bought this gel for us. The gel cau...</td>\n",
       "      <td>Irritation</td>\n",
       "      <td>walker557</td>\n",
       "      <td>Negative</td>\n",
       "    </tr>\n",
       "  </tbody>\n",
       "</table>\n",
       "</div>"
      ],
      "text/plain": [
       "                     id            brand  \\\n",
       "0  AV13O1A8GV-KLJ3akUyj  Universal Music   \n",
       "1  AV14LG0R-jtxr-f38QfS         Lundberg   \n",
       "2  AV14LG0R-jtxr-f38QfS         Lundberg   \n",
       "3  AV16khLE-jtxr-f38VFn              K-Y   \n",
       "4  AV16khLE-jtxr-f38VFn              K-Y   \n",
       "\n",
       "                                          categories  \\\n",
       "0  Movies, Music & Books,Music,R&b,Movies & TV,Mo...   \n",
       "1  Food,Packaged Foods,Snacks,Crackers,Snacks, Co...   \n",
       "2  Food,Packaged Foods,Snacks,Crackers,Snacks, Co...   \n",
       "3  Personal Care,Medicine Cabinet,Lubricant/Sperm...   \n",
       "4  Personal Care,Medicine Cabinet,Lubricant/Sperm...   \n",
       "\n",
       "                         manufacturer  \\\n",
       "0  Universal Music Group / Cash Money   \n",
       "1                            Lundberg   \n",
       "2                            Lundberg   \n",
       "3                                 K-Y   \n",
       "4                                 K-Y   \n",
       "\n",
       "                                         name              reviews_date  \\\n",
       "0   Pink Friday: Roman Reloaded Re-Up (w/dvd)  2012-11-30T06:21:45.000Z   \n",
       "1  Lundberg Organic Cinnamon Toast Rice Cakes  2017-07-09T00:00:00.000Z   \n",
       "2  Lundberg Organic Cinnamon Toast Rice Cakes  2017-07-09T00:00:00.000Z   \n",
       "3            K-Y Love Sensuality Pleasure Gel  2016-01-06T00:00:00.000Z   \n",
       "4            K-Y Love Sensuality Pleasure Gel  2016-12-21T00:00:00.000Z   \n",
       "\n",
       "  reviews_didPurchase reviews_doRecommend  reviews_rating  \\\n",
       "0                 NaN                 NaN               5   \n",
       "1                True                 NaN               5   \n",
       "2                True                 NaN               5   \n",
       "3               False               False               1   \n",
       "4               False               False               1   \n",
       "\n",
       "                                        reviews_text reviews_title  \\\n",
       "0  i love this album. it's very good. more to the...  Just Awesome   \n",
       "1  Good flavor. This review was collected as part...          Good   \n",
       "2                                       Good flavor.          Good   \n",
       "3  I read through the reviews on here before look...  Disappointed   \n",
       "4  My husband bought this gel for us. The gel cau...    Irritation   \n",
       "\n",
       "  reviews_username user_sentiment  \n",
       "0           joshua       Positive  \n",
       "1        dorothy w       Positive  \n",
       "2        dorothy w       Positive  \n",
       "3          rebecca       Negative  \n",
       "4        walker557       Negative  "
      ]
     },
     "execution_count": 578,
     "metadata": {},
     "output_type": "execute_result"
    }
   ],
   "source": [
    "## Displaying the head\n",
    "reviews.head()"
   ]
  },
  {
   "cell_type": "code",
   "execution_count": 579,
   "metadata": {
    "colab": {
     "base_uri": "https://localhost:8080/",
     "height": 188
    },
    "id": "vR82JHp8i9c4",
    "outputId": "89003188-b7c6-4f8a-cfdc-36778f2081f3"
   },
   "outputs": [
    {
     "data": {
      "text/html": [
       "<div>\n",
       "<style scoped>\n",
       "    .dataframe tbody tr th:only-of-type {\n",
       "        vertical-align: middle;\n",
       "    }\n",
       "\n",
       "    .dataframe tbody tr th {\n",
       "        vertical-align: top;\n",
       "    }\n",
       "\n",
       "    .dataframe thead th {\n",
       "        text-align: right;\n",
       "    }\n",
       "</style>\n",
       "<table border=\"1\" class=\"dataframe\">\n",
       "  <thead>\n",
       "    <tr style=\"text-align: right;\">\n",
       "      <th></th>\n",
       "      <th>id</th>\n",
       "      <th>brand</th>\n",
       "      <th>categories</th>\n",
       "      <th>manufacturer</th>\n",
       "      <th>name</th>\n",
       "      <th>reviews_date</th>\n",
       "      <th>reviews_didPurchase</th>\n",
       "      <th>reviews_doRecommend</th>\n",
       "      <th>reviews_rating</th>\n",
       "      <th>reviews_text</th>\n",
       "      <th>reviews_title</th>\n",
       "      <th>reviews_username</th>\n",
       "      <th>user_sentiment</th>\n",
       "    </tr>\n",
       "  </thead>\n",
       "  <tbody>\n",
       "    <tr>\n",
       "      <td>28354</td>\n",
       "      <td>AVpfRTh1ilAPnD_xYic2</td>\n",
       "      <td>Disney</td>\n",
       "      <td>Movies, Music &amp; Books,Movies,Kids' &amp; Family,Wa...</td>\n",
       "      <td>Walt Disney</td>\n",
       "      <td>Planes: Fire Rescue (2 Discs) (includes Digita...</td>\n",
       "      <td>2014-11-07T00:00:00.000Z</td>\n",
       "      <td>NaN</td>\n",
       "      <td>True</td>\n",
       "      <td>5</td>\n",
       "      <td>my kids absolutely loved this film so much tha...</td>\n",
       "      <td>a super hit with my children. they loved it!!??</td>\n",
       "      <td>7.87E+11</td>\n",
       "      <td>NaN</td>\n",
       "    </tr>\n",
       "  </tbody>\n",
       "</table>\n",
       "</div>"
      ],
      "text/plain": [
       "                         id   brand  \\\n",
       "28354  AVpfRTh1ilAPnD_xYic2  Disney   \n",
       "\n",
       "                                              categories manufacturer  \\\n",
       "28354  Movies, Music & Books,Movies,Kids' & Family,Wa...  Walt Disney   \n",
       "\n",
       "                                                    name  \\\n",
       "28354  Planes: Fire Rescue (2 Discs) (includes Digita...   \n",
       "\n",
       "                   reviews_date reviews_didPurchase reviews_doRecommend  \\\n",
       "28354  2014-11-07T00:00:00.000Z                 NaN                True   \n",
       "\n",
       "       reviews_rating                                       reviews_text  \\\n",
       "28354               5  my kids absolutely loved this film so much tha...   \n",
       "\n",
       "                                         reviews_title reviews_username  \\\n",
       "28354  a super hit with my children. they loved it!!??         7.87E+11   \n",
       "\n",
       "      user_sentiment  \n",
       "28354            NaN  "
      ]
     },
     "execution_count": 579,
     "metadata": {},
     "output_type": "execute_result"
    }
   ],
   "source": [
    "## Checking the user_sentiment which has null value\n",
    "reviews[reviews['user_sentiment'].isnull()]"
   ]
  },
  {
   "cell_type": "markdown",
   "metadata": {
    "id": "VR8fTtyZjzfI"
   },
   "source": [
    "## Imputing default values for the Null Values"
   ]
  },
  {
   "cell_type": "code",
   "execution_count": 580,
   "metadata": {
    "id": "b1Uz9PuR0VP-"
   },
   "outputs": [],
   "source": [
    "## There are Null values in manufacturer column and we can impute the Brand values as Brand and Manufacturer seems to have similarity\n",
    "reviews['manufacturer'] = np.where(reviews['manufacturer'].isnull(),reviews['brand'],reviews['manufacturer'])\n",
    "\n",
    "## There is one record with user_sengtiment as Null and imputed manually with Positive based on the reviews_rating column.\n",
    "reviews['user_sentiment'] = np.where(reviews['user_sentiment'].isnull(),'Positive',reviews['user_sentiment'])\n",
    "\n",
    "## reviews_didPurchase and reviews_doRecommend has Null values and I will impute them with \"N/A\" \n",
    "reviews['reviews_didPurchase'] = reviews['reviews_didPurchase'].fillna('N/A')\n",
    "reviews['reviews_doRecommend'] = reviews['reviews_doRecommend'].fillna('N/A')\n",
    "\n",
    "## We could see there is null values for Reviews_date and can be imputed with default date.\n",
    "reviews['reviews_date'] = reviews['reviews_date'].fillna('1969-12-31T00:00:00.000Z')\n",
    "\n",
    "## There are some records with reviews_username as Null and i will impute with \"Anonymus\" user.\n",
    "reviews['reviews_username'] = reviews['reviews_username'].fillna('Anonymus')\n",
    "\n",
    "## Imputing Niull values in reviews_title with reviews_text as title also has similar text\n",
    "reviews['reviews_title'] = np.where(reviews['reviews_title'].isnull(),reviews['reviews_text'],reviews['reviews_title'])\n",
    "\n"
   ]
  },
  {
   "cell_type": "code",
   "execution_count": 581,
   "metadata": {
    "id": "gAyO4GFGJDFL"
   },
   "outputs": [],
   "source": [
    "def is_date_matching(date_str):\n",
    "    try:\n",
    "        return datetime.datetime.strptime(date_str, '%Y-%m-%d')\n",
    "    except ValueError:\n",
    "        return datetime.datetime.strptime('1969-12-31', '%Y-%m-%d')"
   ]
  },
  {
   "cell_type": "code",
   "execution_count": 582,
   "metadata": {
    "id": "Cfs5aX2u66m5"
   },
   "outputs": [],
   "source": [
    "## Extracting date part alone as timestamp part is not required for our analysis\n",
    "reviews['reviews_date'] = reviews['reviews_date'].apply(lambda x: x.split('T')[0])\n",
    "## Cleaning date column with proper default date and creating reviews_year column for analysis\n",
    "reviews['reviews_date'] = reviews['reviews_date'].apply(lambda x: is_date_matching(x))\n",
    "reviews['reviews_year'] = reviews['reviews_date'].apply(lambda x: x.year)"
   ]
  },
  {
   "cell_type": "code",
   "execution_count": 583,
   "metadata": {
    "colab": {
     "base_uri": "https://localhost:8080/",
     "height": 591
    },
    "id": "-3V_tscSNx6y",
    "outputId": "a3fe3574-5976-4e2f-d081-2d52dec29cfc"
   },
   "outputs": [
    {
     "data": {
      "text/html": [
       "<div>\n",
       "<style scoped>\n",
       "    .dataframe tbody tr th:only-of-type {\n",
       "        vertical-align: middle;\n",
       "    }\n",
       "\n",
       "    .dataframe tbody tr th {\n",
       "        vertical-align: top;\n",
       "    }\n",
       "\n",
       "    .dataframe thead th {\n",
       "        text-align: right;\n",
       "    }\n",
       "</style>\n",
       "<table border=\"1\" class=\"dataframe\">\n",
       "  <thead>\n",
       "    <tr style=\"text-align: right;\">\n",
       "      <th></th>\n",
       "      <th>id</th>\n",
       "      <th>brand</th>\n",
       "      <th>categories</th>\n",
       "      <th>manufacturer</th>\n",
       "      <th>name</th>\n",
       "      <th>reviews_date</th>\n",
       "      <th>reviews_didPurchase</th>\n",
       "      <th>reviews_doRecommend</th>\n",
       "      <th>reviews_rating</th>\n",
       "      <th>reviews_text</th>\n",
       "      <th>reviews_title</th>\n",
       "      <th>reviews_username</th>\n",
       "      <th>user_sentiment</th>\n",
       "      <th>reviews_year</th>\n",
       "    </tr>\n",
       "  </thead>\n",
       "  <tbody>\n",
       "    <tr>\n",
       "      <td>0</td>\n",
       "      <td>AV13O1A8GV-KLJ3akUyj</td>\n",
       "      <td>Universal Music</td>\n",
       "      <td>Movies, Music &amp; Books,Music,R&amp;b,Movies &amp; TV,Mo...</td>\n",
       "      <td>Universal Music Group / Cash Money</td>\n",
       "      <td>Pink Friday: Roman Reloaded Re-Up (w/dvd)</td>\n",
       "      <td>2012-11-30</td>\n",
       "      <td>N/A</td>\n",
       "      <td>N/A</td>\n",
       "      <td>5</td>\n",
       "      <td>i love this album. it's very good. more to the...</td>\n",
       "      <td>Just Awesome</td>\n",
       "      <td>joshua</td>\n",
       "      <td>Positive</td>\n",
       "      <td>2012</td>\n",
       "    </tr>\n",
       "    <tr>\n",
       "      <td>1</td>\n",
       "      <td>AV14LG0R-jtxr-f38QfS</td>\n",
       "      <td>Lundberg</td>\n",
       "      <td>Food,Packaged Foods,Snacks,Crackers,Snacks, Co...</td>\n",
       "      <td>Lundberg</td>\n",
       "      <td>Lundberg Organic Cinnamon Toast Rice Cakes</td>\n",
       "      <td>2017-07-09</td>\n",
       "      <td>True</td>\n",
       "      <td>N/A</td>\n",
       "      <td>5</td>\n",
       "      <td>Good flavor. This review was collected as part...</td>\n",
       "      <td>Good</td>\n",
       "      <td>dorothy w</td>\n",
       "      <td>Positive</td>\n",
       "      <td>2017</td>\n",
       "    </tr>\n",
       "    <tr>\n",
       "      <td>2</td>\n",
       "      <td>AV14LG0R-jtxr-f38QfS</td>\n",
       "      <td>Lundberg</td>\n",
       "      <td>Food,Packaged Foods,Snacks,Crackers,Snacks, Co...</td>\n",
       "      <td>Lundberg</td>\n",
       "      <td>Lundberg Organic Cinnamon Toast Rice Cakes</td>\n",
       "      <td>2017-07-09</td>\n",
       "      <td>True</td>\n",
       "      <td>N/A</td>\n",
       "      <td>5</td>\n",
       "      <td>Good flavor.</td>\n",
       "      <td>Good</td>\n",
       "      <td>dorothy w</td>\n",
       "      <td>Positive</td>\n",
       "      <td>2017</td>\n",
       "    </tr>\n",
       "    <tr>\n",
       "      <td>3</td>\n",
       "      <td>AV16khLE-jtxr-f38VFn</td>\n",
       "      <td>K-Y</td>\n",
       "      <td>Personal Care,Medicine Cabinet,Lubricant/Sperm...</td>\n",
       "      <td>K-Y</td>\n",
       "      <td>K-Y Love Sensuality Pleasure Gel</td>\n",
       "      <td>2016-01-06</td>\n",
       "      <td>False</td>\n",
       "      <td>False</td>\n",
       "      <td>1</td>\n",
       "      <td>I read through the reviews on here before look...</td>\n",
       "      <td>Disappointed</td>\n",
       "      <td>rebecca</td>\n",
       "      <td>Negative</td>\n",
       "      <td>2016</td>\n",
       "    </tr>\n",
       "    <tr>\n",
       "      <td>4</td>\n",
       "      <td>AV16khLE-jtxr-f38VFn</td>\n",
       "      <td>K-Y</td>\n",
       "      <td>Personal Care,Medicine Cabinet,Lubricant/Sperm...</td>\n",
       "      <td>K-Y</td>\n",
       "      <td>K-Y Love Sensuality Pleasure Gel</td>\n",
       "      <td>2016-12-21</td>\n",
       "      <td>False</td>\n",
       "      <td>False</td>\n",
       "      <td>1</td>\n",
       "      <td>My husband bought this gel for us. The gel cau...</td>\n",
       "      <td>Irritation</td>\n",
       "      <td>walker557</td>\n",
       "      <td>Negative</td>\n",
       "      <td>2016</td>\n",
       "    </tr>\n",
       "  </tbody>\n",
       "</table>\n",
       "</div>"
      ],
      "text/plain": [
       "                     id            brand  \\\n",
       "0  AV13O1A8GV-KLJ3akUyj  Universal Music   \n",
       "1  AV14LG0R-jtxr-f38QfS         Lundberg   \n",
       "2  AV14LG0R-jtxr-f38QfS         Lundberg   \n",
       "3  AV16khLE-jtxr-f38VFn              K-Y   \n",
       "4  AV16khLE-jtxr-f38VFn              K-Y   \n",
       "\n",
       "                                          categories  \\\n",
       "0  Movies, Music & Books,Music,R&b,Movies & TV,Mo...   \n",
       "1  Food,Packaged Foods,Snacks,Crackers,Snacks, Co...   \n",
       "2  Food,Packaged Foods,Snacks,Crackers,Snacks, Co...   \n",
       "3  Personal Care,Medicine Cabinet,Lubricant/Sperm...   \n",
       "4  Personal Care,Medicine Cabinet,Lubricant/Sperm...   \n",
       "\n",
       "                         manufacturer  \\\n",
       "0  Universal Music Group / Cash Money   \n",
       "1                            Lundberg   \n",
       "2                            Lundberg   \n",
       "3                                 K-Y   \n",
       "4                                 K-Y   \n",
       "\n",
       "                                         name reviews_date  \\\n",
       "0   Pink Friday: Roman Reloaded Re-Up (w/dvd)   2012-11-30   \n",
       "1  Lundberg Organic Cinnamon Toast Rice Cakes   2017-07-09   \n",
       "2  Lundberg Organic Cinnamon Toast Rice Cakes   2017-07-09   \n",
       "3            K-Y Love Sensuality Pleasure Gel   2016-01-06   \n",
       "4            K-Y Love Sensuality Pleasure Gel   2016-12-21   \n",
       "\n",
       "  reviews_didPurchase reviews_doRecommend  reviews_rating  \\\n",
       "0                 N/A                 N/A               5   \n",
       "1                True                 N/A               5   \n",
       "2                True                 N/A               5   \n",
       "3               False               False               1   \n",
       "4               False               False               1   \n",
       "\n",
       "                                        reviews_text reviews_title  \\\n",
       "0  i love this album. it's very good. more to the...  Just Awesome   \n",
       "1  Good flavor. This review was collected as part...          Good   \n",
       "2                                       Good flavor.          Good   \n",
       "3  I read through the reviews on here before look...  Disappointed   \n",
       "4  My husband bought this gel for us. The gel cau...    Irritation   \n",
       "\n",
       "  reviews_username user_sentiment  reviews_year  \n",
       "0           joshua       Positive          2012  \n",
       "1        dorothy w       Positive          2017  \n",
       "2        dorothy w       Positive          2017  \n",
       "3          rebecca       Negative          2016  \n",
       "4        walker557       Negative          2016  "
      ]
     },
     "execution_count": 583,
     "metadata": {},
     "output_type": "execute_result"
    }
   ],
   "source": [
    "## Checking for the transformed columns\n",
    "reviews.head()"
   ]
  },
  {
   "cell_type": "markdown",
   "metadata": {
    "id": "hcqoWPookIdM"
   },
   "source": [
    "## Tranforming Target column"
   ]
  },
  {
   "cell_type": "code",
   "execution_count": 584,
   "metadata": {
    "id": "EDVFROM5L042"
   },
   "outputs": [],
   "source": [
    "## Tranforming the user_sentiment from Categorical to Numeric as this is our prediction variable\n",
    "reviews['user_sentiment'] = reviews['user_sentiment'].map({'Positive': 1, 'Negative': 0}).astype('int')"
   ]
  },
  {
   "cell_type": "code",
   "execution_count": 585,
   "metadata": {
    "colab": {
     "base_uri": "https://localhost:8080/"
    },
    "id": "psolWGL0yTlQ",
    "outputId": "8d72bf0f-d963-449c-9d9c-d3165b1baac5"
   },
   "outputs": [
    {
     "name": "stdout",
     "output_type": "stream",
     "text": [
      "<class 'pandas.core.frame.DataFrame'>\n",
      "RangeIndex: 30000 entries, 0 to 29999\n",
      "Data columns (total 14 columns):\n",
      "id                     30000 non-null object\n",
      "brand                  30000 non-null object\n",
      "categories             30000 non-null object\n",
      "manufacturer           30000 non-null object\n",
      "name                   30000 non-null object\n",
      "reviews_date           30000 non-null datetime64[ns]\n",
      "reviews_didPurchase    30000 non-null object\n",
      "reviews_doRecommend    30000 non-null object\n",
      "reviews_rating         30000 non-null int64\n",
      "reviews_text           30000 non-null object\n",
      "reviews_title          30000 non-null object\n",
      "reviews_username       30000 non-null object\n",
      "user_sentiment         30000 non-null int64\n",
      "reviews_year           30000 non-null int64\n",
      "dtypes: datetime64[ns](1), int64(3), object(10)\n",
      "memory usage: 3.2+ MB\n"
     ]
    }
   ],
   "source": [
    "## Lets check again info of the data\n",
    "reviews.info()"
   ]
  },
  {
   "cell_type": "markdown",
   "metadata": {
    "id": "SmuOwAzsZGPQ"
   },
   "source": [
    "# Model Building"
   ]
  },
  {
   "cell_type": "code",
   "execution_count": 663,
   "metadata": {
    "id": "nY8M51z7XlUp"
   },
   "outputs": [],
   "source": [
    "## Assigning X,y,seed values for the model building \n",
    "seed = 42\n",
    "X = reviews['reviews_text']\n",
    "y = reviews['user_sentiment']"
   ]
  },
  {
   "cell_type": "code",
   "execution_count": 664,
   "metadata": {
    "id": "035r0phsFUf0"
   },
   "outputs": [],
   "source": [
    "## Pre-processing the reviews_text\n",
    "## Keeping only alphabets which are necessary for classification. Also convert the text to lower case\n",
    "X = X.apply(lambda x: re.sub('[^a-zA-Z]+', ' ', x.lower()).strip())"
   ]
  },
  {
   "cell_type": "code",
   "execution_count": 668,
   "metadata": {},
   "outputs": [
    {
     "name": "stderr",
     "output_type": "stream",
     "text": [
      "[nltk_data] Error loading wordnet: <urlopen error [SSL:\n",
      "[nltk_data]     CERTIFICATE_VERIFY_FAILED] certificate verify failed:\n",
      "[nltk_data]     unable to get local issuer certificate (_ssl.c:1076)>\n"
     ]
    },
    {
     "data": {
      "text/plain": [
       "False"
      ]
     },
     "execution_count": 668,
     "metadata": {},
     "output_type": "execute_result"
    }
   ],
   "source": [
    "nltk.download('wordnet')"
   ]
  },
  {
   "cell_type": "code",
   "execution_count": 666,
   "metadata": {},
   "outputs": [
    {
     "ename": "LookupError",
     "evalue": "\n**********************************************************************\n  Resource \u001b[93mwordnet\u001b[0m not found.\n  Please use the NLTK Downloader to obtain the resource:\n\n  \u001b[31m>>> import nltk\n  >>> nltk.download('wordnet')\n  \u001b[0m\n  For more information see: https://www.nltk.org/data.html\n\n  Attempted to load \u001b[93mcorpora/wordnet\u001b[0m\n\n  Searched in:\n    - '/Users/vlatha/nltk_data'\n    - '/opt/anaconda3/nltk_data'\n    - '/opt/anaconda3/share/nltk_data'\n    - '/opt/anaconda3/lib/nltk_data'\n    - '/usr/share/nltk_data'\n    - '/usr/local/share/nltk_data'\n    - '/usr/lib/nltk_data'\n    - '/usr/local/lib/nltk_data'\n**********************************************************************\n",
     "output_type": "error",
     "traceback": [
      "\u001b[0;31m---------------------------------------------------------------------------\u001b[0m",
      "\u001b[0;31mLookupError\u001b[0m                               Traceback (most recent call last)",
      "\u001b[0;32m~/.local/lib/python3.7/site-packages/nltk/corpus/util.py\u001b[0m in \u001b[0;36m__load\u001b[0;34m(self)\u001b[0m\n\u001b[1;32m     82\u001b[0m                 \u001b[0;32mtry\u001b[0m\u001b[0;34m:\u001b[0m\u001b[0;34m\u001b[0m\u001b[0;34m\u001b[0m\u001b[0m\n\u001b[0;32m---> 83\u001b[0;31m                     \u001b[0mroot\u001b[0m \u001b[0;34m=\u001b[0m \u001b[0mnltk\u001b[0m\u001b[0;34m.\u001b[0m\u001b[0mdata\u001b[0m\u001b[0;34m.\u001b[0m\u001b[0mfind\u001b[0m\u001b[0;34m(\u001b[0m\u001b[0;34m\"{}/{}\"\u001b[0m\u001b[0;34m.\u001b[0m\u001b[0mformat\u001b[0m\u001b[0;34m(\u001b[0m\u001b[0mself\u001b[0m\u001b[0;34m.\u001b[0m\u001b[0msubdir\u001b[0m\u001b[0;34m,\u001b[0m \u001b[0mzip_name\u001b[0m\u001b[0;34m)\u001b[0m\u001b[0;34m)\u001b[0m\u001b[0;34m\u001b[0m\u001b[0;34m\u001b[0m\u001b[0m\n\u001b[0m\u001b[1;32m     84\u001b[0m                 \u001b[0;32mexcept\u001b[0m \u001b[0mLookupError\u001b[0m\u001b[0;34m:\u001b[0m\u001b[0;34m\u001b[0m\u001b[0;34m\u001b[0m\u001b[0m\n",
      "\u001b[0;32m~/.local/lib/python3.7/site-packages/nltk/data.py\u001b[0m in \u001b[0;36mfind\u001b[0;34m(resource_name, paths)\u001b[0m\n\u001b[1;32m    584\u001b[0m     \u001b[0mresource_not_found\u001b[0m \u001b[0;34m=\u001b[0m \u001b[0;34m\"\\n%s\\n%s\\n%s\\n\"\u001b[0m \u001b[0;34m%\u001b[0m \u001b[0;34m(\u001b[0m\u001b[0msep\u001b[0m\u001b[0;34m,\u001b[0m \u001b[0mmsg\u001b[0m\u001b[0;34m,\u001b[0m \u001b[0msep\u001b[0m\u001b[0;34m)\u001b[0m\u001b[0;34m\u001b[0m\u001b[0;34m\u001b[0m\u001b[0m\n\u001b[0;32m--> 585\u001b[0;31m     \u001b[0;32mraise\u001b[0m \u001b[0mLookupError\u001b[0m\u001b[0;34m(\u001b[0m\u001b[0mresource_not_found\u001b[0m\u001b[0;34m)\u001b[0m\u001b[0;34m\u001b[0m\u001b[0;34m\u001b[0m\u001b[0m\n\u001b[0m\u001b[1;32m    586\u001b[0m \u001b[0;34m\u001b[0m\u001b[0m\n",
      "\u001b[0;31mLookupError\u001b[0m: \n**********************************************************************\n  Resource \u001b[93mwordnet\u001b[0m not found.\n  Please use the NLTK Downloader to obtain the resource:\n\n  \u001b[31m>>> import nltk\n  >>> nltk.download('wordnet')\n  \u001b[0m\n  For more information see: https://www.nltk.org/data.html\n\n  Attempted to load \u001b[93mcorpora/wordnet.zip/wordnet/\u001b[0m\n\n  Searched in:\n    - '/Users/vlatha/nltk_data'\n    - '/opt/anaconda3/nltk_data'\n    - '/opt/anaconda3/share/nltk_data'\n    - '/opt/anaconda3/lib/nltk_data'\n    - '/usr/share/nltk_data'\n    - '/usr/local/share/nltk_data'\n    - '/usr/lib/nltk_data'\n    - '/usr/local/lib/nltk_data'\n**********************************************************************\n",
      "\nDuring handling of the above exception, another exception occurred:\n",
      "\u001b[0;31mLookupError\u001b[0m                               Traceback (most recent call last)",
      "\u001b[0;32m<ipython-input-666-3b8f1f7c32ff>\u001b[0m in \u001b[0;36m<module>\u001b[0;34m\u001b[0m\n\u001b[1;32m      5\u001b[0m \u001b[0;31m# tokenise text\u001b[0m\u001b[0;34m\u001b[0m\u001b[0;34m\u001b[0m\u001b[0;34m\u001b[0m\u001b[0m\n\u001b[1;32m      6\u001b[0m \u001b[0mwordnet_lemmatizer\u001b[0m \u001b[0;34m=\u001b[0m \u001b[0mWordNetLemmatizer\u001b[0m\u001b[0;34m(\u001b[0m\u001b[0;34m)\u001b[0m\u001b[0;34m\u001b[0m\u001b[0;34m\u001b[0m\u001b[0m\n\u001b[0;32m----> 7\u001b[0;31m \u001b[0mX\u001b[0m \u001b[0;34m=\u001b[0m \u001b[0mX\u001b[0m\u001b[0;34m.\u001b[0m\u001b[0mapply\u001b[0m\u001b[0;34m(\u001b[0m\u001b[0;32mlambda\u001b[0m \u001b[0mx\u001b[0m\u001b[0;34m:\u001b[0m \u001b[0;34m' '\u001b[0m\u001b[0;34m.\u001b[0m\u001b[0mjoin\u001b[0m\u001b[0;34m(\u001b[0m\u001b[0;34m[\u001b[0m\u001b[0mwordnet_lemmatizer\u001b[0m\u001b[0;34m.\u001b[0m\u001b[0mlemmatize\u001b[0m\u001b[0;34m(\u001b[0m\u001b[0mtoken\u001b[0m\u001b[0;34m,\u001b[0m \u001b[0mpos\u001b[0m\u001b[0;34m=\u001b[0m\u001b[0;34m'n'\u001b[0m\u001b[0;34m)\u001b[0m \u001b[0;32mfor\u001b[0m \u001b[0mtoken\u001b[0m \u001b[0;32min\u001b[0m \u001b[0mword_tokenize\u001b[0m\u001b[0;34m(\u001b[0m\u001b[0mx\u001b[0m\u001b[0;34m)\u001b[0m\u001b[0;34m]\u001b[0m\u001b[0;34m)\u001b[0m\u001b[0;34m)\u001b[0m\u001b[0;34m\u001b[0m\u001b[0;34m\u001b[0m\u001b[0m\n\u001b[0m\u001b[1;32m      8\u001b[0m \u001b[0;31m#X = X.apply(lambda x: ' '.join([Word(word).lemmatize() for word in x.split()]))\u001b[0m\u001b[0;34m\u001b[0m\u001b[0;34m\u001b[0m\u001b[0;34m\u001b[0m\u001b[0m\n",
      "\u001b[0;32m/opt/anaconda3/lib/python3.7/site-packages/pandas/core/series.py\u001b[0m in \u001b[0;36mapply\u001b[0;34m(self, func, convert_dtype, args, **kwds)\u001b[0m\n\u001b[1;32m   4040\u001b[0m             \u001b[0;32melse\u001b[0m\u001b[0;34m:\u001b[0m\u001b[0;34m\u001b[0m\u001b[0;34m\u001b[0m\u001b[0m\n\u001b[1;32m   4041\u001b[0m                 \u001b[0mvalues\u001b[0m \u001b[0;34m=\u001b[0m \u001b[0mself\u001b[0m\u001b[0;34m.\u001b[0m\u001b[0mastype\u001b[0m\u001b[0;34m(\u001b[0m\u001b[0mobject\u001b[0m\u001b[0;34m)\u001b[0m\u001b[0;34m.\u001b[0m\u001b[0mvalues\u001b[0m\u001b[0;34m\u001b[0m\u001b[0;34m\u001b[0m\u001b[0m\n\u001b[0;32m-> 4042\u001b[0;31m                 \u001b[0mmapped\u001b[0m \u001b[0;34m=\u001b[0m \u001b[0mlib\u001b[0m\u001b[0;34m.\u001b[0m\u001b[0mmap_infer\u001b[0m\u001b[0;34m(\u001b[0m\u001b[0mvalues\u001b[0m\u001b[0;34m,\u001b[0m \u001b[0mf\u001b[0m\u001b[0;34m,\u001b[0m \u001b[0mconvert\u001b[0m\u001b[0;34m=\u001b[0m\u001b[0mconvert_dtype\u001b[0m\u001b[0;34m)\u001b[0m\u001b[0;34m\u001b[0m\u001b[0;34m\u001b[0m\u001b[0m\n\u001b[0m\u001b[1;32m   4043\u001b[0m \u001b[0;34m\u001b[0m\u001b[0m\n\u001b[1;32m   4044\u001b[0m         \u001b[0;32mif\u001b[0m \u001b[0mlen\u001b[0m\u001b[0;34m(\u001b[0m\u001b[0mmapped\u001b[0m\u001b[0;34m)\u001b[0m \u001b[0;32mand\u001b[0m \u001b[0misinstance\u001b[0m\u001b[0;34m(\u001b[0m\u001b[0mmapped\u001b[0m\u001b[0;34m[\u001b[0m\u001b[0;36m0\u001b[0m\u001b[0;34m]\u001b[0m\u001b[0;34m,\u001b[0m \u001b[0mSeries\u001b[0m\u001b[0;34m)\u001b[0m\u001b[0;34m:\u001b[0m\u001b[0;34m\u001b[0m\u001b[0;34m\u001b[0m\u001b[0m\n",
      "\u001b[0;32mpandas/_libs/lib.pyx\u001b[0m in \u001b[0;36mpandas._libs.lib.map_infer\u001b[0;34m()\u001b[0m\n",
      "\u001b[0;32m<ipython-input-666-3b8f1f7c32ff>\u001b[0m in \u001b[0;36m<lambda>\u001b[0;34m(x)\u001b[0m\n\u001b[1;32m      5\u001b[0m \u001b[0;31m# tokenise text\u001b[0m\u001b[0;34m\u001b[0m\u001b[0;34m\u001b[0m\u001b[0;34m\u001b[0m\u001b[0m\n\u001b[1;32m      6\u001b[0m \u001b[0mwordnet_lemmatizer\u001b[0m \u001b[0;34m=\u001b[0m \u001b[0mWordNetLemmatizer\u001b[0m\u001b[0;34m(\u001b[0m\u001b[0;34m)\u001b[0m\u001b[0;34m\u001b[0m\u001b[0;34m\u001b[0m\u001b[0m\n\u001b[0;32m----> 7\u001b[0;31m \u001b[0mX\u001b[0m \u001b[0;34m=\u001b[0m \u001b[0mX\u001b[0m\u001b[0;34m.\u001b[0m\u001b[0mapply\u001b[0m\u001b[0;34m(\u001b[0m\u001b[0;32mlambda\u001b[0m \u001b[0mx\u001b[0m\u001b[0;34m:\u001b[0m \u001b[0;34m' '\u001b[0m\u001b[0;34m.\u001b[0m\u001b[0mjoin\u001b[0m\u001b[0;34m(\u001b[0m\u001b[0;34m[\u001b[0m\u001b[0mwordnet_lemmatizer\u001b[0m\u001b[0;34m.\u001b[0m\u001b[0mlemmatize\u001b[0m\u001b[0;34m(\u001b[0m\u001b[0mtoken\u001b[0m\u001b[0;34m,\u001b[0m \u001b[0mpos\u001b[0m\u001b[0;34m=\u001b[0m\u001b[0;34m'n'\u001b[0m\u001b[0;34m)\u001b[0m \u001b[0;32mfor\u001b[0m \u001b[0mtoken\u001b[0m \u001b[0;32min\u001b[0m \u001b[0mword_tokenize\u001b[0m\u001b[0;34m(\u001b[0m\u001b[0mx\u001b[0m\u001b[0;34m)\u001b[0m\u001b[0;34m]\u001b[0m\u001b[0;34m)\u001b[0m\u001b[0;34m)\u001b[0m\u001b[0;34m\u001b[0m\u001b[0;34m\u001b[0m\u001b[0m\n\u001b[0m\u001b[1;32m      8\u001b[0m \u001b[0;31m#X = X.apply(lambda x: ' '.join([Word(word).lemmatize() for word in x.split()]))\u001b[0m\u001b[0;34m\u001b[0m\u001b[0;34m\u001b[0m\u001b[0;34m\u001b[0m\u001b[0m\n",
      "\u001b[0;32m<ipython-input-666-3b8f1f7c32ff>\u001b[0m in \u001b[0;36m<listcomp>\u001b[0;34m(.0)\u001b[0m\n\u001b[1;32m      5\u001b[0m \u001b[0;31m# tokenise text\u001b[0m\u001b[0;34m\u001b[0m\u001b[0;34m\u001b[0m\u001b[0;34m\u001b[0m\u001b[0m\n\u001b[1;32m      6\u001b[0m \u001b[0mwordnet_lemmatizer\u001b[0m \u001b[0;34m=\u001b[0m \u001b[0mWordNetLemmatizer\u001b[0m\u001b[0;34m(\u001b[0m\u001b[0;34m)\u001b[0m\u001b[0;34m\u001b[0m\u001b[0;34m\u001b[0m\u001b[0m\n\u001b[0;32m----> 7\u001b[0;31m \u001b[0mX\u001b[0m \u001b[0;34m=\u001b[0m \u001b[0mX\u001b[0m\u001b[0;34m.\u001b[0m\u001b[0mapply\u001b[0m\u001b[0;34m(\u001b[0m\u001b[0;32mlambda\u001b[0m \u001b[0mx\u001b[0m\u001b[0;34m:\u001b[0m \u001b[0;34m' '\u001b[0m\u001b[0;34m.\u001b[0m\u001b[0mjoin\u001b[0m\u001b[0;34m(\u001b[0m\u001b[0;34m[\u001b[0m\u001b[0mwordnet_lemmatizer\u001b[0m\u001b[0;34m.\u001b[0m\u001b[0mlemmatize\u001b[0m\u001b[0;34m(\u001b[0m\u001b[0mtoken\u001b[0m\u001b[0;34m,\u001b[0m \u001b[0mpos\u001b[0m\u001b[0;34m=\u001b[0m\u001b[0;34m'n'\u001b[0m\u001b[0;34m)\u001b[0m \u001b[0;32mfor\u001b[0m \u001b[0mtoken\u001b[0m \u001b[0;32min\u001b[0m \u001b[0mword_tokenize\u001b[0m\u001b[0;34m(\u001b[0m\u001b[0mx\u001b[0m\u001b[0;34m)\u001b[0m\u001b[0;34m]\u001b[0m\u001b[0;34m)\u001b[0m\u001b[0;34m)\u001b[0m\u001b[0;34m\u001b[0m\u001b[0;34m\u001b[0m\u001b[0m\n\u001b[0m\u001b[1;32m      8\u001b[0m \u001b[0;31m#X = X.apply(lambda x: ' '.join([Word(word).lemmatize() for word in x.split()]))\u001b[0m\u001b[0;34m\u001b[0m\u001b[0;34m\u001b[0m\u001b[0;34m\u001b[0m\u001b[0m\n",
      "\u001b[0;32m~/.local/lib/python3.7/site-packages/nltk/stem/wordnet.py\u001b[0m in \u001b[0;36mlemmatize\u001b[0;34m(self, word, pos)\u001b[0m\n\u001b[1;32m     36\u001b[0m \u001b[0;34m\u001b[0m\u001b[0m\n\u001b[1;32m     37\u001b[0m     \u001b[0;32mdef\u001b[0m \u001b[0mlemmatize\u001b[0m\u001b[0;34m(\u001b[0m\u001b[0mself\u001b[0m\u001b[0;34m,\u001b[0m \u001b[0mword\u001b[0m\u001b[0;34m,\u001b[0m \u001b[0mpos\u001b[0m\u001b[0;34m=\u001b[0m\u001b[0mNOUN\u001b[0m\u001b[0;34m)\u001b[0m\u001b[0;34m:\u001b[0m\u001b[0;34m\u001b[0m\u001b[0;34m\u001b[0m\u001b[0m\n\u001b[0;32m---> 38\u001b[0;31m         \u001b[0mlemmas\u001b[0m \u001b[0;34m=\u001b[0m \u001b[0mwordnet\u001b[0m\u001b[0;34m.\u001b[0m\u001b[0m_morphy\u001b[0m\u001b[0;34m(\u001b[0m\u001b[0mword\u001b[0m\u001b[0;34m,\u001b[0m \u001b[0mpos\u001b[0m\u001b[0;34m)\u001b[0m\u001b[0;34m\u001b[0m\u001b[0;34m\u001b[0m\u001b[0m\n\u001b[0m\u001b[1;32m     39\u001b[0m         \u001b[0;32mreturn\u001b[0m \u001b[0mmin\u001b[0m\u001b[0;34m(\u001b[0m\u001b[0mlemmas\u001b[0m\u001b[0;34m,\u001b[0m \u001b[0mkey\u001b[0m\u001b[0;34m=\u001b[0m\u001b[0mlen\u001b[0m\u001b[0;34m)\u001b[0m \u001b[0;32mif\u001b[0m \u001b[0mlemmas\u001b[0m \u001b[0;32melse\u001b[0m \u001b[0mword\u001b[0m\u001b[0;34m\u001b[0m\u001b[0;34m\u001b[0m\u001b[0m\n\u001b[1;32m     40\u001b[0m \u001b[0;34m\u001b[0m\u001b[0m\n",
      "\u001b[0;32m~/.local/lib/python3.7/site-packages/nltk/corpus/util.py\u001b[0m in \u001b[0;36m__getattr__\u001b[0;34m(self, attr)\u001b[0m\n\u001b[1;32m    118\u001b[0m             \u001b[0;32mraise\u001b[0m \u001b[0mAttributeError\u001b[0m\u001b[0;34m(\u001b[0m\u001b[0;34m\"LazyCorpusLoader object has no attribute '__bases__'\"\u001b[0m\u001b[0;34m)\u001b[0m\u001b[0;34m\u001b[0m\u001b[0;34m\u001b[0m\u001b[0m\n\u001b[1;32m    119\u001b[0m \u001b[0;34m\u001b[0m\u001b[0m\n\u001b[0;32m--> 120\u001b[0;31m         \u001b[0mself\u001b[0m\u001b[0;34m.\u001b[0m\u001b[0m__load\u001b[0m\u001b[0;34m(\u001b[0m\u001b[0;34m)\u001b[0m\u001b[0;34m\u001b[0m\u001b[0;34m\u001b[0m\u001b[0m\n\u001b[0m\u001b[1;32m    121\u001b[0m         \u001b[0;31m# This looks circular, but its not, since __load() changes our\u001b[0m\u001b[0;34m\u001b[0m\u001b[0;34m\u001b[0m\u001b[0;34m\u001b[0m\u001b[0m\n\u001b[1;32m    122\u001b[0m         \u001b[0;31m# __class__ to something new:\u001b[0m\u001b[0;34m\u001b[0m\u001b[0;34m\u001b[0m\u001b[0;34m\u001b[0m\u001b[0m\n",
      "\u001b[0;32m~/.local/lib/python3.7/site-packages/nltk/corpus/util.py\u001b[0m in \u001b[0;36m__load\u001b[0;34m(self)\u001b[0m\n\u001b[1;32m     83\u001b[0m                     \u001b[0mroot\u001b[0m \u001b[0;34m=\u001b[0m \u001b[0mnltk\u001b[0m\u001b[0;34m.\u001b[0m\u001b[0mdata\u001b[0m\u001b[0;34m.\u001b[0m\u001b[0mfind\u001b[0m\u001b[0;34m(\u001b[0m\u001b[0;34m\"{}/{}\"\u001b[0m\u001b[0;34m.\u001b[0m\u001b[0mformat\u001b[0m\u001b[0;34m(\u001b[0m\u001b[0mself\u001b[0m\u001b[0;34m.\u001b[0m\u001b[0msubdir\u001b[0m\u001b[0;34m,\u001b[0m \u001b[0mzip_name\u001b[0m\u001b[0;34m)\u001b[0m\u001b[0;34m)\u001b[0m\u001b[0;34m\u001b[0m\u001b[0;34m\u001b[0m\u001b[0m\n\u001b[1;32m     84\u001b[0m                 \u001b[0;32mexcept\u001b[0m \u001b[0mLookupError\u001b[0m\u001b[0;34m:\u001b[0m\u001b[0;34m\u001b[0m\u001b[0;34m\u001b[0m\u001b[0m\n\u001b[0;32m---> 85\u001b[0;31m                     \u001b[0;32mraise\u001b[0m \u001b[0me\u001b[0m\u001b[0;34m\u001b[0m\u001b[0;34m\u001b[0m\u001b[0m\n\u001b[0m\u001b[1;32m     86\u001b[0m \u001b[0;34m\u001b[0m\u001b[0m\n\u001b[1;32m     87\u001b[0m         \u001b[0;31m# Load the corpus.\u001b[0m\u001b[0;34m\u001b[0m\u001b[0;34m\u001b[0m\u001b[0;34m\u001b[0m\u001b[0m\n",
      "\u001b[0;32m~/.local/lib/python3.7/site-packages/nltk/corpus/util.py\u001b[0m in \u001b[0;36m__load\u001b[0;34m(self)\u001b[0m\n\u001b[1;32m     78\u001b[0m         \u001b[0;32melse\u001b[0m\u001b[0;34m:\u001b[0m\u001b[0;34m\u001b[0m\u001b[0;34m\u001b[0m\u001b[0m\n\u001b[1;32m     79\u001b[0m             \u001b[0;32mtry\u001b[0m\u001b[0;34m:\u001b[0m\u001b[0;34m\u001b[0m\u001b[0;34m\u001b[0m\u001b[0m\n\u001b[0;32m---> 80\u001b[0;31m                 \u001b[0mroot\u001b[0m \u001b[0;34m=\u001b[0m \u001b[0mnltk\u001b[0m\u001b[0;34m.\u001b[0m\u001b[0mdata\u001b[0m\u001b[0;34m.\u001b[0m\u001b[0mfind\u001b[0m\u001b[0;34m(\u001b[0m\u001b[0;34m\"{}/{}\"\u001b[0m\u001b[0;34m.\u001b[0m\u001b[0mformat\u001b[0m\u001b[0;34m(\u001b[0m\u001b[0mself\u001b[0m\u001b[0;34m.\u001b[0m\u001b[0msubdir\u001b[0m\u001b[0;34m,\u001b[0m \u001b[0mself\u001b[0m\u001b[0;34m.\u001b[0m\u001b[0m__name\u001b[0m\u001b[0;34m)\u001b[0m\u001b[0;34m)\u001b[0m\u001b[0;34m\u001b[0m\u001b[0;34m\u001b[0m\u001b[0m\n\u001b[0m\u001b[1;32m     81\u001b[0m             \u001b[0;32mexcept\u001b[0m \u001b[0mLookupError\u001b[0m \u001b[0;32mas\u001b[0m \u001b[0me\u001b[0m\u001b[0;34m:\u001b[0m\u001b[0;34m\u001b[0m\u001b[0;34m\u001b[0m\u001b[0m\n\u001b[1;32m     82\u001b[0m                 \u001b[0;32mtry\u001b[0m\u001b[0;34m:\u001b[0m\u001b[0;34m\u001b[0m\u001b[0;34m\u001b[0m\u001b[0m\n",
      "\u001b[0;32m~/.local/lib/python3.7/site-packages/nltk/data.py\u001b[0m in \u001b[0;36mfind\u001b[0;34m(resource_name, paths)\u001b[0m\n\u001b[1;32m    583\u001b[0m     \u001b[0msep\u001b[0m \u001b[0;34m=\u001b[0m \u001b[0;34m\"*\"\u001b[0m \u001b[0;34m*\u001b[0m \u001b[0;36m70\u001b[0m\u001b[0;34m\u001b[0m\u001b[0;34m\u001b[0m\u001b[0m\n\u001b[1;32m    584\u001b[0m     \u001b[0mresource_not_found\u001b[0m \u001b[0;34m=\u001b[0m \u001b[0;34m\"\\n%s\\n%s\\n%s\\n\"\u001b[0m \u001b[0;34m%\u001b[0m \u001b[0;34m(\u001b[0m\u001b[0msep\u001b[0m\u001b[0;34m,\u001b[0m \u001b[0mmsg\u001b[0m\u001b[0;34m,\u001b[0m \u001b[0msep\u001b[0m\u001b[0;34m)\u001b[0m\u001b[0;34m\u001b[0m\u001b[0;34m\u001b[0m\u001b[0m\n\u001b[0;32m--> 585\u001b[0;31m     \u001b[0;32mraise\u001b[0m \u001b[0mLookupError\u001b[0m\u001b[0;34m(\u001b[0m\u001b[0mresource_not_found\u001b[0m\u001b[0;34m)\u001b[0m\u001b[0;34m\u001b[0m\u001b[0;34m\u001b[0m\u001b[0m\n\u001b[0m\u001b[1;32m    586\u001b[0m \u001b[0;34m\u001b[0m\u001b[0m\n\u001b[1;32m    587\u001b[0m \u001b[0;34m\u001b[0m\u001b[0m\n",
      "\u001b[0;31mLookupError\u001b[0m: \n**********************************************************************\n  Resource \u001b[93mwordnet\u001b[0m not found.\n  Please use the NLTK Downloader to obtain the resource:\n\n  \u001b[31m>>> import nltk\n  >>> nltk.download('wordnet')\n  \u001b[0m\n  For more information see: https://www.nltk.org/data.html\n\n  Attempted to load \u001b[93mcorpora/wordnet\u001b[0m\n\n  Searched in:\n    - '/Users/vlatha/nltk_data'\n    - '/opt/anaconda3/nltk_data'\n    - '/opt/anaconda3/share/nltk_data'\n    - '/opt/anaconda3/lib/nltk_data'\n    - '/usr/share/nltk_data'\n    - '/usr/local/share/nltk_data'\n    - '/usr/lib/nltk_data'\n    - '/usr/local/lib/nltk_data'\n**********************************************************************\n"
     ]
    }
   ],
   "source": [
    "## Applying Lemmatization to the review_text\n",
    "from nltk.stem import WordNetLemmatizer\n",
    "from nltk.tokenize import word_tokenize\n",
    "\n",
    "# tokenise text\n",
    "wordnet_lemmatizer = WordNetLemmatizer()\n",
    "X = X.apply(lambda x: ' '.join([wordnet_lemmatizer.lemmatize(token, pos='n') for token in word_tokenize(x)]))\n",
    "#X = X.apply(lambda x: ' '.join([Word(word).lemmatize() for word in x.split()]))"
   ]
  },
  {
   "cell_type": "markdown",
   "metadata": {
    "id": "5yr1K-j-aL3H"
   },
   "source": [
    "# Feature Extraction\n"
   ]
  },
  {
   "cell_type": "code",
   "execution_count": 590,
   "metadata": {},
   "outputs": [],
   "source": [
    "## Getting the stowords from nltk for Text analysis\n",
    "stop_words = set(stopwords.words('english'))"
   ]
  },
  {
   "cell_type": "markdown",
   "metadata": {
    "id": "DDvyOAxrbknp"
   },
   "source": [
    "## TF-IDF"
   ]
  },
  {
   "cell_type": "code",
   "execution_count": 591,
   "metadata": {
    "colab": {
     "base_uri": "https://localhost:8080/"
    },
    "id": "cGWYZVSf-qXn",
    "outputId": "aa9dc951-b4e4-4924-8405-54d91fa7f0da"
   },
   "outputs": [],
   "source": [
    "## Getting the features\n",
    "tfidf_vec = TfidfVectorizer(\n",
    "    max_features=None, \n",
    "    lowercase=True, \n",
    "    analyzer='word', \n",
    "    stop_words= stop_words, \n",
    "    ngram_range=(1, 1))\n"
   ]
  },
  {
   "cell_type": "markdown",
   "metadata": {
    "id": "AU9fNRWjcQ2y"
   },
   "source": [
    "# Logistic Regression"
   ]
  },
  {
   "cell_type": "markdown",
   "metadata": {
    "id": "i8v67oKbdztl"
   },
   "source": [
    "## Lets now check if we have class imbalance"
   ]
  },
  {
   "cell_type": "code",
   "execution_count": 592,
   "metadata": {
    "colab": {
     "base_uri": "https://localhost:8080/"
    },
    "id": "b6SXesAYz2Gm",
    "outputId": "923e23c8-bfb4-4285-f382-c883bd0156dd"
   },
   "outputs": [
    {
     "data": {
      "text/plain": [
       "1    26633\n",
       "0     3367\n",
       "Name: user_sentiment, dtype: int64"
      ]
     },
     "execution_count": 592,
     "metadata": {},
     "output_type": "execute_result"
    }
   ],
   "source": [
    "# Checking class imbalnce is present or not\n",
    "y.value_counts()"
   ]
  },
  {
   "cell_type": "markdown",
   "metadata": {
    "id": "22zqAXLd0A5u"
   },
   "source": [
    "## Above clearly shows there is imbalance in the sentiments. I will apply SMOTE technique to overcome that after splitting into Train and Test daat sets."
   ]
  },
  {
   "cell_type": "code",
   "execution_count": 593,
   "metadata": {},
   "outputs": [],
   "source": [
    "## Splitting the data to train and test\n",
    "X_train, X_test, y_train, y_test = train_test_split(X, y, test_size = 0.2, random_state=seed)\n",
    "\n",
    "## Applying TF-IDF to extract train, test feature set\n",
    "tfidf_vec.fit(X_train)\n",
    "X_train = tfidf_vec.transform(X_train)\n",
    "X_test = tfidf_vec.transform(X_test)\n",
    "\n",
    "## Applying SMOTE for imbalance data\n",
    "sm = SMOTE()\n",
    "X_train_smote, y_train_smote = sm.fit_sample(X_train, y_train)\n",
    "X_test_smote, y_test_smote = sm.fit_sample(X_test, y_test)\n"
   ]
  },
  {
   "cell_type": "code",
   "execution_count": 594,
   "metadata": {},
   "outputs": [],
   "source": [
    "## Logistic Regression\n",
    "model = LogisticRegression(penalty=\"l2\", random_state=seed, max_iter=500)\n",
    "\n",
    "## Model fit\n",
    "model.fit(X_train_smote, y_train_smote)\n",
    "\n",
    "## Model Prediction\n",
    "y_pred = model.predict(X_test_smote)"
   ]
  },
  {
   "cell_type": "code",
   "execution_count": 595,
   "metadata": {},
   "outputs": [
    {
     "name": "stdout",
     "output_type": "stream",
     "text": [
      "\n",
      "              precision    recall  f1-score   support\n",
      "\n",
      "           0       0.93      0.93      0.93      5349\n",
      "           1       0.93      0.93      0.93      5349\n",
      "\n",
      "    accuracy                           0.93     10698\n",
      "   macro avg       0.93      0.93      0.93     10698\n",
      "weighted avg       0.93      0.93      0.93     10698\n",
      "\n",
      "\n",
      "Training Accuracy:  0.96\n",
      "Testing Accuracy:  0.93\n",
      "ROC_AUC score:  0.97\n"
     ]
    }
   ],
   "source": [
    "## Accuracy\n",
    "train_accuracy = model.score(X_train_smote, y_train_smote)\n",
    "test_accuracy = model.score(X_test_smote, y_test_smote)\n",
    "\n",
    "## Classification report\n",
    "model_performance = classification_report(y_test_smote, y_pred)\n",
    "\n",
    "y_pred_proba = model.predict_proba(X_test_smote)\n",
    "roc_auc = roc_auc_score(y_test_smote, y_pred_proba[:,1])\n",
    "\n",
    "\n",
    "print('')\n",
    "print(model_performance)\n",
    "print('')\n",
    "\n",
    "print ('Training Accuracy: ', round(train_accuracy,2))\n",
    "print ('Testing Accuracy: ', round(test_accuracy,2))\n",
    "print('ROC_AUC score: ', round(roc_auc,2))"
   ]
  },
  {
   "cell_type": "markdown",
   "metadata": {},
   "source": [
    "## Save the ML Model"
   ]
  },
  {
   "cell_type": "code",
   "execution_count": 596,
   "metadata": {},
   "outputs": [
    {
     "data": {
      "text/plain": [
       "['models/tfidf_model.pkl']"
      ]
     },
     "execution_count": 596,
     "metadata": {},
     "output_type": "execute_result"
    }
   ],
   "source": [
    "# Save the model as a pickle in a file \n",
    "joblib.dump(model, 'models/lr_model.pkl') \n",
    "# Save the TF-IDF model as a pickle in a file \n",
    "joblib.dump(tfidf_vec, 'models/tfidf_model.pkl') "
   ]
  },
  {
   "cell_type": "markdown",
   "metadata": {},
   "source": [
    "## Load the ML Model"
   ]
  },
  {
   "cell_type": "code",
   "execution_count": 597,
   "metadata": {},
   "outputs": [],
   "source": [
    "# Load the model from the file \n",
    "lr_pickle_model = joblib.load('models/lr_model.pkl') \n",
    "# Load the model from the file \n",
    "tfidf_pickle_model = joblib.load('models/tfidf_model.pkl') "
   ]
  },
  {
   "cell_type": "code",
   "execution_count": 598,
   "metadata": {},
   "outputs": [],
   "source": [
    "# Use the loaded model to make predictions\n",
    "response_lr_model = lr_pickle_model.predict(X_test)"
   ]
  },
  {
   "cell_type": "markdown",
   "metadata": {},
   "source": [
    "## Evaluate the Loaded Model"
   ]
  },
  {
   "cell_type": "code",
   "execution_count": 599,
   "metadata": {},
   "outputs": [
    {
     "name": "stdout",
     "output_type": "stream",
     "text": [
      "[[ 579   72]\n",
      " [ 388 4961]]\n",
      "Accuracy: \t 0.92\n",
      "ROC:    \t 0.97\n"
     ]
    }
   ],
   "source": [
    "# predict sentiment on test data\n",
    "y_pred_load = lr_pickle_model.predict(X_test)\n",
    "\n",
    "# create onfusion matrix\n",
    "cm_load = confusion_matrix(y_test, y_pred_load)\n",
    "print(cm_load)\n",
    "\n",
    "#Checking the accuracy\n",
    "print(\"Accuracy: \\t\",round(lr_pickle_model.score(X_test, y_test),2))\n",
    "\n",
    "# check area under curve\n",
    "y_pred_prob_load = lr_pickle_model.predict_proba(X_test)[:, 1]\n",
    "print(\"ROC:    \\t\", round(roc_auc_score(y_test, y_pred_prob_load),2))"
   ]
  },
  {
   "cell_type": "markdown",
   "metadata": {
    "id": "JEHURiqn2nbN"
   },
   "source": [
    "# Product Recommendation\n",
    "\n",
    "### Now lets get the top 15 products from the Recommendation system.\n",
    "### We are going to execute Item-based Recommendation system\n",
    "\n"
   ]
  },
  {
   "cell_type": "markdown",
   "metadata": {
    "id": "cSFfNO2v-Wx7"
   },
   "source": [
    "### Dividing the dataset into train and test"
   ]
  },
  {
   "cell_type": "code",
   "execution_count": 600,
   "metadata": {
    "colab": {
     "base_uri": "https://localhost:8080/",
     "height": 206
    },
    "id": "h5fUSMp1-9EH",
    "outputId": "27e5fd37-a15d-4ad7-d59a-60ab5dece377"
   },
   "outputs": [
    {
     "data": {
      "text/html": [
       "<div>\n",
       "<style scoped>\n",
       "    .dataframe tbody tr th:only-of-type {\n",
       "        vertical-align: middle;\n",
       "    }\n",
       "\n",
       "    .dataframe tbody tr th {\n",
       "        vertical-align: top;\n",
       "    }\n",
       "\n",
       "    .dataframe thead th {\n",
       "        text-align: right;\n",
       "    }\n",
       "</style>\n",
       "<table border=\"1\" class=\"dataframe\">\n",
       "  <thead>\n",
       "    <tr style=\"text-align: right;\">\n",
       "      <th></th>\n",
       "      <th>reviews_username</th>\n",
       "      <th>id</th>\n",
       "      <th>reviews_rating</th>\n",
       "    </tr>\n",
       "  </thead>\n",
       "  <tbody>\n",
       "    <tr>\n",
       "      <td>0</td>\n",
       "      <td>joshua</td>\n",
       "      <td>AV13O1A8GV-KLJ3akUyj</td>\n",
       "      <td>5</td>\n",
       "    </tr>\n",
       "    <tr>\n",
       "      <td>1</td>\n",
       "      <td>dorothy w</td>\n",
       "      <td>AV14LG0R-jtxr-f38QfS</td>\n",
       "      <td>5</td>\n",
       "    </tr>\n",
       "    <tr>\n",
       "      <td>2</td>\n",
       "      <td>dorothy w</td>\n",
       "      <td>AV14LG0R-jtxr-f38QfS</td>\n",
       "      <td>5</td>\n",
       "    </tr>\n",
       "    <tr>\n",
       "      <td>3</td>\n",
       "      <td>rebecca</td>\n",
       "      <td>AV16khLE-jtxr-f38VFn</td>\n",
       "      <td>1</td>\n",
       "    </tr>\n",
       "    <tr>\n",
       "      <td>4</td>\n",
       "      <td>walker557</td>\n",
       "      <td>AV16khLE-jtxr-f38VFn</td>\n",
       "      <td>1</td>\n",
       "    </tr>\n",
       "  </tbody>\n",
       "</table>\n",
       "</div>"
      ],
      "text/plain": [
       "  reviews_username                    id  reviews_rating\n",
       "0           joshua  AV13O1A8GV-KLJ3akUyj               5\n",
       "1        dorothy w  AV14LG0R-jtxr-f38QfS               5\n",
       "2        dorothy w  AV14LG0R-jtxr-f38QfS               5\n",
       "3          rebecca  AV16khLE-jtxr-f38VFn               1\n",
       "4        walker557  AV16khLE-jtxr-f38VFn               1"
      ]
     },
     "execution_count": 600,
     "metadata": {},
     "output_type": "execute_result"
    }
   ],
   "source": [
    "## Taking the required columns - username,brand(product) and ratings from the data set\n",
    "df_recommend = pd.DataFrame(data = reviews[['reviews_username','id','reviews_rating']])\n",
    "## Checking the data set\n",
    "df_recommend.head()"
   ]
  },
  {
   "cell_type": "code",
   "execution_count": 601,
   "metadata": {
    "id": "RivmDRSaj1LL"
   },
   "outputs": [],
   "source": [
    "## If there are any duplicate ratings present for user and product combination then lets apply mean and take the average rating\n",
    "df_recommend = df_recommend.groupby(['reviews_username','id'],as_index=False).agg({'reviews_rating':pd.Series.mode,'reviews_rating':np.mean})"
   ]
  },
  {
   "cell_type": "code",
   "execution_count": 602,
   "metadata": {
    "colab": {
     "base_uri": "https://localhost:8080/",
     "height": 206
    },
    "id": "s_jQd5TanqUw",
    "outputId": "4e882188-1a0a-42f9-ce59-4a1621b13941"
   },
   "outputs": [
    {
     "data": {
      "text/html": [
       "<div>\n",
       "<style scoped>\n",
       "    .dataframe tbody tr th:only-of-type {\n",
       "        vertical-align: middle;\n",
       "    }\n",
       "\n",
       "    .dataframe tbody tr th {\n",
       "        vertical-align: top;\n",
       "    }\n",
       "\n",
       "    .dataframe thead th {\n",
       "        text-align: right;\n",
       "    }\n",
       "</style>\n",
       "<table border=\"1\" class=\"dataframe\">\n",
       "  <thead>\n",
       "    <tr style=\"text-align: right;\">\n",
       "      <th></th>\n",
       "      <th>username</th>\n",
       "      <th>product</th>\n",
       "      <th>rating</th>\n",
       "    </tr>\n",
       "  </thead>\n",
       "  <tbody>\n",
       "    <tr>\n",
       "      <td>0</td>\n",
       "      <td>00dog3</td>\n",
       "      <td>AVpe6FfKilAPnD_xQmHi</td>\n",
       "      <td>4.0</td>\n",
       "    </tr>\n",
       "    <tr>\n",
       "      <td>1</td>\n",
       "      <td>00sab00</td>\n",
       "      <td>AVpe41TqilAPnD_xQH3d</td>\n",
       "      <td>1.0</td>\n",
       "    </tr>\n",
       "    <tr>\n",
       "      <td>2</td>\n",
       "      <td>00sab00</td>\n",
       "      <td>AVpe59io1cnluZ0-ZgDU</td>\n",
       "      <td>3.0</td>\n",
       "    </tr>\n",
       "    <tr>\n",
       "      <td>3</td>\n",
       "      <td>01impala</td>\n",
       "      <td>AVpfPaoqLJeJML435Xk9</td>\n",
       "      <td>3.0</td>\n",
       "    </tr>\n",
       "    <tr>\n",
       "      <td>4</td>\n",
       "      <td>02dakota</td>\n",
       "      <td>AVpfPaoqLJeJML435Xk9</td>\n",
       "      <td>5.0</td>\n",
       "    </tr>\n",
       "  </tbody>\n",
       "</table>\n",
       "</div>"
      ],
      "text/plain": [
       "   username               product  rating\n",
       "0    00dog3  AVpe6FfKilAPnD_xQmHi     4.0\n",
       "1   00sab00  AVpe41TqilAPnD_xQH3d     1.0\n",
       "2   00sab00  AVpe59io1cnluZ0-ZgDU     3.0\n",
       "3  01impala  AVpfPaoqLJeJML435Xk9     3.0\n",
       "4  02dakota  AVpfPaoqLJeJML435Xk9     5.0"
      ]
     },
     "execution_count": 602,
     "metadata": {},
     "output_type": "execute_result"
    }
   ],
   "source": [
    "## Changing column names for better understanding and representation\n",
    "df_recommend['username'] = df_recommend['reviews_username']\n",
    "df_recommend['product'] = df_recommend['id']\n",
    "df_recommend['rating'] = round(df_recommend['reviews_rating'],1)\n",
    "## Dropping the old columns and checking the data\n",
    "df_recommend = df_recommend.drop(['reviews_username','id','reviews_rating'],axis=1)\n",
    "df_recommend.head()"
   ]
  },
  {
   "cell_type": "code",
   "execution_count": 603,
   "metadata": {
    "colab": {
     "base_uri": "https://localhost:8080/"
    },
    "id": "juiVn6O3KcUL",
    "outputId": "8c21faa4-4a3a-4c2f-9dbd-1fb5a4b2abdc"
   },
   "outputs": [
    {
     "name": "stdout",
     "output_type": "stream",
     "text": [
      "(22084, 3)\n",
      "(5521, 3)\n"
     ]
    }
   ],
   "source": [
    "## Splitting the data into train and test sets\n",
    "train, test = train_test_split(df_recommend, test_size=0.2, random_state=seed)\n",
    "## check the shape of the data sets\n",
    "print(train.shape)\n",
    "print(test.shape)"
   ]
  },
  {
   "cell_type": "code",
   "execution_count": 604,
   "metadata": {
    "colab": {
     "base_uri": "https://localhost:8080/"
    },
    "id": "_ae0_yFkEoaq",
    "outputId": "5f41f482-8e00-49f0-f2a7-aee0d5a2e800"
   },
   "outputs": [
    {
     "name": "stdout",
     "output_type": "stream",
     "text": [
      "<class 'pandas.core.frame.DataFrame'>\n",
      "Int64Index: 27605 entries, 0 to 27604\n",
      "Data columns (total 3 columns):\n",
      "username    27605 non-null object\n",
      "product     27605 non-null object\n",
      "rating      27605 non-null float64\n",
      "dtypes: float64(1), object(2)\n",
      "memory usage: 862.7+ KB\n"
     ]
    }
   ],
   "source": [
    "## Checking info of the data frame\n",
    "df_recommend.info()"
   ]
  },
  {
   "cell_type": "code",
   "execution_count": 605,
   "metadata": {
    "id": "qX6eEXgN-YqN"
   },
   "outputs": [],
   "source": [
    "# Apply pivot to see the user ratings for each product and give '0' wherever rating is not provided by the user\n",
    "df_product_features = train.pivot(\n",
    "    index='username',\n",
    "    columns='product',\n",
    "    values='rating'\n",
    ").fillna(0)"
   ]
  },
  {
   "cell_type": "code",
   "execution_count": 606,
   "metadata": {
    "colab": {
     "base_uri": "https://localhost:8080/",
     "height": 322
    },
    "id": "h-mhPj7s9DF_",
    "outputId": "b3ab4c18-afd2-4029-ea63-14a81b05ed66"
   },
   "outputs": [
    {
     "data": {
      "text/html": [
       "<div>\n",
       "<style scoped>\n",
       "    .dataframe tbody tr th:only-of-type {\n",
       "        vertical-align: middle;\n",
       "    }\n",
       "\n",
       "    .dataframe tbody tr th {\n",
       "        vertical-align: top;\n",
       "    }\n",
       "\n",
       "    .dataframe thead th {\n",
       "        text-align: right;\n",
       "    }\n",
       "</style>\n",
       "<table border=\"1\" class=\"dataframe\">\n",
       "  <thead>\n",
       "    <tr style=\"text-align: right;\">\n",
       "      <th>product</th>\n",
       "      <th>AV13O1A8GV-KLJ3akUyj</th>\n",
       "      <th>AV14LG0R-jtxr-f38QfS</th>\n",
       "      <th>AV16khLE-jtxr-f38VFn</th>\n",
       "      <th>AV1YGDqsGV-KLJ3adc-O</th>\n",
       "      <th>AV1YlENIglJLPUi8IHsX</th>\n",
       "      <th>AV1YmBrdGV-KLJ3adewb</th>\n",
       "      <th>AV1YmDL9vKc47QAVgr7_</th>\n",
       "      <th>AV1Ymf_rglJLPUi8II2v</th>\n",
       "      <th>AV1Yn94nvKc47QAVgtst</th>\n",
       "      <th>AV1YnUMYglJLPUi8IJpK</th>\n",
       "      <th>...</th>\n",
       "      <th>AVpfrfHF1cnluZ0-pRai</th>\n",
       "      <th>AVpfrgjFLJeJML43BvCc</th>\n",
       "      <th>AVpfs0tUilAPnD_xgqN2</th>\n",
       "      <th>AVpfsQoeilAPnD_xgfx5</th>\n",
       "      <th>AVpfshNsLJeJML43CB8q</th>\n",
       "      <th>AVpfthSailAPnD_xg3ON</th>\n",
       "      <th>AVpftikC1cnluZ0-p31V</th>\n",
       "      <th>AVpftymALJeJML43CZ6y</th>\n",
       "      <th>AVpfv4TlilAPnD_xhjNS</th>\n",
       "      <th>AVpfvieo1cnluZ0-qdnu</th>\n",
       "    </tr>\n",
       "    <tr>\n",
       "      <th>username</th>\n",
       "      <th></th>\n",
       "      <th></th>\n",
       "      <th></th>\n",
       "      <th></th>\n",
       "      <th></th>\n",
       "      <th></th>\n",
       "      <th></th>\n",
       "      <th></th>\n",
       "      <th></th>\n",
       "      <th></th>\n",
       "      <th></th>\n",
       "      <th></th>\n",
       "      <th></th>\n",
       "      <th></th>\n",
       "      <th></th>\n",
       "      <th></th>\n",
       "      <th></th>\n",
       "      <th></th>\n",
       "      <th></th>\n",
       "      <th></th>\n",
       "      <th></th>\n",
       "    </tr>\n",
       "  </thead>\n",
       "  <tbody>\n",
       "    <tr>\n",
       "      <td>00dog3</td>\n",
       "      <td>0.0</td>\n",
       "      <td>0.0</td>\n",
       "      <td>0.0</td>\n",
       "      <td>0.0</td>\n",
       "      <td>0.0</td>\n",
       "      <td>0.0</td>\n",
       "      <td>0.0</td>\n",
       "      <td>0.0</td>\n",
       "      <td>0.0</td>\n",
       "      <td>0.0</td>\n",
       "      <td>...</td>\n",
       "      <td>0.0</td>\n",
       "      <td>0.0</td>\n",
       "      <td>0.0</td>\n",
       "      <td>0.0</td>\n",
       "      <td>0.0</td>\n",
       "      <td>0.0</td>\n",
       "      <td>0.0</td>\n",
       "      <td>0.0</td>\n",
       "      <td>0.0</td>\n",
       "      <td>0.0</td>\n",
       "    </tr>\n",
       "    <tr>\n",
       "      <td>00sab00</td>\n",
       "      <td>0.0</td>\n",
       "      <td>0.0</td>\n",
       "      <td>0.0</td>\n",
       "      <td>0.0</td>\n",
       "      <td>0.0</td>\n",
       "      <td>0.0</td>\n",
       "      <td>0.0</td>\n",
       "      <td>0.0</td>\n",
       "      <td>0.0</td>\n",
       "      <td>0.0</td>\n",
       "      <td>...</td>\n",
       "      <td>0.0</td>\n",
       "      <td>0.0</td>\n",
       "      <td>0.0</td>\n",
       "      <td>0.0</td>\n",
       "      <td>0.0</td>\n",
       "      <td>0.0</td>\n",
       "      <td>0.0</td>\n",
       "      <td>0.0</td>\n",
       "      <td>0.0</td>\n",
       "      <td>0.0</td>\n",
       "    </tr>\n",
       "    <tr>\n",
       "      <td>02dakota</td>\n",
       "      <td>0.0</td>\n",
       "      <td>0.0</td>\n",
       "      <td>0.0</td>\n",
       "      <td>0.0</td>\n",
       "      <td>0.0</td>\n",
       "      <td>0.0</td>\n",
       "      <td>0.0</td>\n",
       "      <td>0.0</td>\n",
       "      <td>0.0</td>\n",
       "      <td>0.0</td>\n",
       "      <td>...</td>\n",
       "      <td>0.0</td>\n",
       "      <td>0.0</td>\n",
       "      <td>0.0</td>\n",
       "      <td>0.0</td>\n",
       "      <td>0.0</td>\n",
       "      <td>0.0</td>\n",
       "      <td>0.0</td>\n",
       "      <td>0.0</td>\n",
       "      <td>0.0</td>\n",
       "      <td>0.0</td>\n",
       "    </tr>\n",
       "    <tr>\n",
       "      <td>02deuce</td>\n",
       "      <td>0.0</td>\n",
       "      <td>0.0</td>\n",
       "      <td>0.0</td>\n",
       "      <td>0.0</td>\n",
       "      <td>0.0</td>\n",
       "      <td>0.0</td>\n",
       "      <td>0.0</td>\n",
       "      <td>0.0</td>\n",
       "      <td>0.0</td>\n",
       "      <td>0.0</td>\n",
       "      <td>...</td>\n",
       "      <td>0.0</td>\n",
       "      <td>0.0</td>\n",
       "      <td>0.0</td>\n",
       "      <td>0.0</td>\n",
       "      <td>0.0</td>\n",
       "      <td>0.0</td>\n",
       "      <td>0.0</td>\n",
       "      <td>0.0</td>\n",
       "      <td>0.0</td>\n",
       "      <td>0.0</td>\n",
       "    </tr>\n",
       "    <tr>\n",
       "      <td>06stidriver</td>\n",
       "      <td>0.0</td>\n",
       "      <td>0.0</td>\n",
       "      <td>0.0</td>\n",
       "      <td>0.0</td>\n",
       "      <td>0.0</td>\n",
       "      <td>0.0</td>\n",
       "      <td>0.0</td>\n",
       "      <td>0.0</td>\n",
       "      <td>0.0</td>\n",
       "      <td>0.0</td>\n",
       "      <td>...</td>\n",
       "      <td>0.0</td>\n",
       "      <td>0.0</td>\n",
       "      <td>0.0</td>\n",
       "      <td>0.0</td>\n",
       "      <td>0.0</td>\n",
       "      <td>0.0</td>\n",
       "      <td>0.0</td>\n",
       "      <td>0.0</td>\n",
       "      <td>0.0</td>\n",
       "      <td>0.0</td>\n",
       "    </tr>\n",
       "  </tbody>\n",
       "</table>\n",
       "<p>5 rows × 260 columns</p>\n",
       "</div>"
      ],
      "text/plain": [
       "product      AV13O1A8GV-KLJ3akUyj  AV14LG0R-jtxr-f38QfS  AV16khLE-jtxr-f38VFn  \\\n",
       "username                                                                        \n",
       "00dog3                        0.0                   0.0                   0.0   \n",
       "00sab00                       0.0                   0.0                   0.0   \n",
       "02dakota                      0.0                   0.0                   0.0   \n",
       "02deuce                       0.0                   0.0                   0.0   \n",
       "06stidriver                   0.0                   0.0                   0.0   \n",
       "\n",
       "product      AV1YGDqsGV-KLJ3adc-O  AV1YlENIglJLPUi8IHsX  AV1YmBrdGV-KLJ3adewb  \\\n",
       "username                                                                        \n",
       "00dog3                        0.0                   0.0                   0.0   \n",
       "00sab00                       0.0                   0.0                   0.0   \n",
       "02dakota                      0.0                   0.0                   0.0   \n",
       "02deuce                       0.0                   0.0                   0.0   \n",
       "06stidriver                   0.0                   0.0                   0.0   \n",
       "\n",
       "product      AV1YmDL9vKc47QAVgr7_  AV1Ymf_rglJLPUi8II2v  AV1Yn94nvKc47QAVgtst  \\\n",
       "username                                                                        \n",
       "00dog3                        0.0                   0.0                   0.0   \n",
       "00sab00                       0.0                   0.0                   0.0   \n",
       "02dakota                      0.0                   0.0                   0.0   \n",
       "02deuce                       0.0                   0.0                   0.0   \n",
       "06stidriver                   0.0                   0.0                   0.0   \n",
       "\n",
       "product      AV1YnUMYglJLPUi8IJpK  ...  AVpfrfHF1cnluZ0-pRai  \\\n",
       "username                           ...                         \n",
       "00dog3                        0.0  ...                   0.0   \n",
       "00sab00                       0.0  ...                   0.0   \n",
       "02dakota                      0.0  ...                   0.0   \n",
       "02deuce                       0.0  ...                   0.0   \n",
       "06stidriver                   0.0  ...                   0.0   \n",
       "\n",
       "product      AVpfrgjFLJeJML43BvCc  AVpfs0tUilAPnD_xgqN2  AVpfsQoeilAPnD_xgfx5  \\\n",
       "username                                                                        \n",
       "00dog3                        0.0                   0.0                   0.0   \n",
       "00sab00                       0.0                   0.0                   0.0   \n",
       "02dakota                      0.0                   0.0                   0.0   \n",
       "02deuce                       0.0                   0.0                   0.0   \n",
       "06stidriver                   0.0                   0.0                   0.0   \n",
       "\n",
       "product      AVpfshNsLJeJML43CB8q  AVpfthSailAPnD_xg3ON  AVpftikC1cnluZ0-p31V  \\\n",
       "username                                                                        \n",
       "00dog3                        0.0                   0.0                   0.0   \n",
       "00sab00                       0.0                   0.0                   0.0   \n",
       "02dakota                      0.0                   0.0                   0.0   \n",
       "02deuce                       0.0                   0.0                   0.0   \n",
       "06stidriver                   0.0                   0.0                   0.0   \n",
       "\n",
       "product      AVpftymALJeJML43CZ6y  AVpfv4TlilAPnD_xhjNS  AVpfvieo1cnluZ0-qdnu  \n",
       "username                                                                       \n",
       "00dog3                        0.0                   0.0                   0.0  \n",
       "00sab00                       0.0                   0.0                   0.0  \n",
       "02dakota                      0.0                   0.0                   0.0  \n",
       "02deuce                       0.0                   0.0                   0.0  \n",
       "06stidriver                   0.0                   0.0                   0.0  \n",
       "\n",
       "[5 rows x 260 columns]"
      ]
     },
     "execution_count": 606,
     "metadata": {},
     "output_type": "execute_result"
    }
   ],
   "source": [
    "## Checking the data set after pivoting the data frame\n",
    "df_product_features.head()"
   ]
  },
  {
   "cell_type": "markdown",
   "metadata": {
    "id": "-S0ZSSth5TAj"
   },
   "source": [
    "# Copy train and test dataset\n",
    "\n",
    "### These dataset will be used for prediction and evaluation.\n",
    "\n",
    "\n",
    "*   Dummy train will be used later for prediction of the products which has not been rated by the user. To ignore the products rated by the user, we will mark it as 0 during prediction. The products not rated by user is marked as 1 for prediction.\n",
    "*   Dummy test will be used for evaluation. To evaluate, we will only make prediction on the products rated by the user. So, this is marked as 1. This is just opposite of dummy_train\n",
    "\n"
   ]
  },
  {
   "cell_type": "code",
   "execution_count": 607,
   "metadata": {
    "id": "nwGCNfPZ9VCy"
   },
   "outputs": [],
   "source": [
    "## Taking the copy of train and test data sets\n",
    "dummy_train = train.copy()\n",
    "dummy_test = test.copy()"
   ]
  },
  {
   "cell_type": "code",
   "execution_count": 608,
   "metadata": {
    "id": "_mNnEXzm9XTJ"
   },
   "outputs": [],
   "source": [
    "## Changing the rating value to '0' if the user provided rating\n",
    "dummy_train['rating'] = dummy_train['rating'].apply(lambda x: 0 if x>=1 else 1)\n",
    "## Changing the rating value to '1' if the user provided rating\n",
    "dummy_test['rating'] = dummy_test['rating'].apply(lambda x: 1 if x>=1 else 0)"
   ]
  },
  {
   "cell_type": "code",
   "execution_count": 609,
   "metadata": {
    "id": "21RBa46E9cZj"
   },
   "outputs": [],
   "source": [
    "# The products not rated by user is marked as 1 for prediction. \n",
    "dummy_train = dummy_train.pivot(\n",
    "    index='username',\n",
    "    columns='product',\n",
    "    values='rating'\n",
    ").fillna(1)\n",
    "\n",
    "# The products not rated by user is marked as 0 for evaluation. \n",
    "dummy_test = dummy_test.pivot(\n",
    "    index='username',\n",
    "    columns='product',\n",
    "    values='rating'\n",
    ").fillna(0)"
   ]
  },
  {
   "cell_type": "code",
   "execution_count": 610,
   "metadata": {
    "colab": {
     "base_uri": "https://localhost:8080/",
     "height": 322
    },
    "id": "amC6qSk69lgT",
    "outputId": "107f4b24-4951-4d5f-cbb6-b76801ca5997"
   },
   "outputs": [
    {
     "data": {
      "text/html": [
       "<div>\n",
       "<style scoped>\n",
       "    .dataframe tbody tr th:only-of-type {\n",
       "        vertical-align: middle;\n",
       "    }\n",
       "\n",
       "    .dataframe tbody tr th {\n",
       "        vertical-align: top;\n",
       "    }\n",
       "\n",
       "    .dataframe thead th {\n",
       "        text-align: right;\n",
       "    }\n",
       "</style>\n",
       "<table border=\"1\" class=\"dataframe\">\n",
       "  <thead>\n",
       "    <tr style=\"text-align: right;\">\n",
       "      <th>product</th>\n",
       "      <th>AV13O1A8GV-KLJ3akUyj</th>\n",
       "      <th>AV14LG0R-jtxr-f38QfS</th>\n",
       "      <th>AV16khLE-jtxr-f38VFn</th>\n",
       "      <th>AV1YGDqsGV-KLJ3adc-O</th>\n",
       "      <th>AV1YlENIglJLPUi8IHsX</th>\n",
       "      <th>AV1YmBrdGV-KLJ3adewb</th>\n",
       "      <th>AV1YmDL9vKc47QAVgr7_</th>\n",
       "      <th>AV1Ymf_rglJLPUi8II2v</th>\n",
       "      <th>AV1Yn94nvKc47QAVgtst</th>\n",
       "      <th>AV1YnUMYglJLPUi8IJpK</th>\n",
       "      <th>...</th>\n",
       "      <th>AVpfrfHF1cnluZ0-pRai</th>\n",
       "      <th>AVpfrgjFLJeJML43BvCc</th>\n",
       "      <th>AVpfs0tUilAPnD_xgqN2</th>\n",
       "      <th>AVpfsQoeilAPnD_xgfx5</th>\n",
       "      <th>AVpfshNsLJeJML43CB8q</th>\n",
       "      <th>AVpfthSailAPnD_xg3ON</th>\n",
       "      <th>AVpftikC1cnluZ0-p31V</th>\n",
       "      <th>AVpftymALJeJML43CZ6y</th>\n",
       "      <th>AVpfv4TlilAPnD_xhjNS</th>\n",
       "      <th>AVpfvieo1cnluZ0-qdnu</th>\n",
       "    </tr>\n",
       "    <tr>\n",
       "      <th>username</th>\n",
       "      <th></th>\n",
       "      <th></th>\n",
       "      <th></th>\n",
       "      <th></th>\n",
       "      <th></th>\n",
       "      <th></th>\n",
       "      <th></th>\n",
       "      <th></th>\n",
       "      <th></th>\n",
       "      <th></th>\n",
       "      <th></th>\n",
       "      <th></th>\n",
       "      <th></th>\n",
       "      <th></th>\n",
       "      <th></th>\n",
       "      <th></th>\n",
       "      <th></th>\n",
       "      <th></th>\n",
       "      <th></th>\n",
       "      <th></th>\n",
       "      <th></th>\n",
       "    </tr>\n",
       "  </thead>\n",
       "  <tbody>\n",
       "    <tr>\n",
       "      <td>00dog3</td>\n",
       "      <td>1.0</td>\n",
       "      <td>1.0</td>\n",
       "      <td>1.0</td>\n",
       "      <td>1.0</td>\n",
       "      <td>1.0</td>\n",
       "      <td>1.0</td>\n",
       "      <td>1.0</td>\n",
       "      <td>1.0</td>\n",
       "      <td>1.0</td>\n",
       "      <td>1.0</td>\n",
       "      <td>...</td>\n",
       "      <td>1.0</td>\n",
       "      <td>1.0</td>\n",
       "      <td>1.0</td>\n",
       "      <td>1.0</td>\n",
       "      <td>1.0</td>\n",
       "      <td>1.0</td>\n",
       "      <td>1.0</td>\n",
       "      <td>1.0</td>\n",
       "      <td>1.0</td>\n",
       "      <td>1.0</td>\n",
       "    </tr>\n",
       "    <tr>\n",
       "      <td>00sab00</td>\n",
       "      <td>1.0</td>\n",
       "      <td>1.0</td>\n",
       "      <td>1.0</td>\n",
       "      <td>1.0</td>\n",
       "      <td>1.0</td>\n",
       "      <td>1.0</td>\n",
       "      <td>1.0</td>\n",
       "      <td>1.0</td>\n",
       "      <td>1.0</td>\n",
       "      <td>1.0</td>\n",
       "      <td>...</td>\n",
       "      <td>1.0</td>\n",
       "      <td>1.0</td>\n",
       "      <td>1.0</td>\n",
       "      <td>1.0</td>\n",
       "      <td>1.0</td>\n",
       "      <td>1.0</td>\n",
       "      <td>1.0</td>\n",
       "      <td>1.0</td>\n",
       "      <td>1.0</td>\n",
       "      <td>1.0</td>\n",
       "    </tr>\n",
       "    <tr>\n",
       "      <td>02dakota</td>\n",
       "      <td>1.0</td>\n",
       "      <td>1.0</td>\n",
       "      <td>1.0</td>\n",
       "      <td>1.0</td>\n",
       "      <td>1.0</td>\n",
       "      <td>1.0</td>\n",
       "      <td>1.0</td>\n",
       "      <td>1.0</td>\n",
       "      <td>1.0</td>\n",
       "      <td>1.0</td>\n",
       "      <td>...</td>\n",
       "      <td>1.0</td>\n",
       "      <td>1.0</td>\n",
       "      <td>1.0</td>\n",
       "      <td>1.0</td>\n",
       "      <td>1.0</td>\n",
       "      <td>1.0</td>\n",
       "      <td>1.0</td>\n",
       "      <td>1.0</td>\n",
       "      <td>1.0</td>\n",
       "      <td>1.0</td>\n",
       "    </tr>\n",
       "    <tr>\n",
       "      <td>02deuce</td>\n",
       "      <td>1.0</td>\n",
       "      <td>1.0</td>\n",
       "      <td>1.0</td>\n",
       "      <td>1.0</td>\n",
       "      <td>1.0</td>\n",
       "      <td>1.0</td>\n",
       "      <td>1.0</td>\n",
       "      <td>1.0</td>\n",
       "      <td>1.0</td>\n",
       "      <td>1.0</td>\n",
       "      <td>...</td>\n",
       "      <td>1.0</td>\n",
       "      <td>1.0</td>\n",
       "      <td>1.0</td>\n",
       "      <td>1.0</td>\n",
       "      <td>1.0</td>\n",
       "      <td>1.0</td>\n",
       "      <td>1.0</td>\n",
       "      <td>1.0</td>\n",
       "      <td>1.0</td>\n",
       "      <td>1.0</td>\n",
       "    </tr>\n",
       "    <tr>\n",
       "      <td>06stidriver</td>\n",
       "      <td>1.0</td>\n",
       "      <td>1.0</td>\n",
       "      <td>1.0</td>\n",
       "      <td>1.0</td>\n",
       "      <td>1.0</td>\n",
       "      <td>1.0</td>\n",
       "      <td>1.0</td>\n",
       "      <td>1.0</td>\n",
       "      <td>1.0</td>\n",
       "      <td>1.0</td>\n",
       "      <td>...</td>\n",
       "      <td>1.0</td>\n",
       "      <td>1.0</td>\n",
       "      <td>1.0</td>\n",
       "      <td>1.0</td>\n",
       "      <td>1.0</td>\n",
       "      <td>1.0</td>\n",
       "      <td>1.0</td>\n",
       "      <td>1.0</td>\n",
       "      <td>1.0</td>\n",
       "      <td>1.0</td>\n",
       "    </tr>\n",
       "  </tbody>\n",
       "</table>\n",
       "<p>5 rows × 260 columns</p>\n",
       "</div>"
      ],
      "text/plain": [
       "product      AV13O1A8GV-KLJ3akUyj  AV14LG0R-jtxr-f38QfS  AV16khLE-jtxr-f38VFn  \\\n",
       "username                                                                        \n",
       "00dog3                        1.0                   1.0                   1.0   \n",
       "00sab00                       1.0                   1.0                   1.0   \n",
       "02dakota                      1.0                   1.0                   1.0   \n",
       "02deuce                       1.0                   1.0                   1.0   \n",
       "06stidriver                   1.0                   1.0                   1.0   \n",
       "\n",
       "product      AV1YGDqsGV-KLJ3adc-O  AV1YlENIglJLPUi8IHsX  AV1YmBrdGV-KLJ3adewb  \\\n",
       "username                                                                        \n",
       "00dog3                        1.0                   1.0                   1.0   \n",
       "00sab00                       1.0                   1.0                   1.0   \n",
       "02dakota                      1.0                   1.0                   1.0   \n",
       "02deuce                       1.0                   1.0                   1.0   \n",
       "06stidriver                   1.0                   1.0                   1.0   \n",
       "\n",
       "product      AV1YmDL9vKc47QAVgr7_  AV1Ymf_rglJLPUi8II2v  AV1Yn94nvKc47QAVgtst  \\\n",
       "username                                                                        \n",
       "00dog3                        1.0                   1.0                   1.0   \n",
       "00sab00                       1.0                   1.0                   1.0   \n",
       "02dakota                      1.0                   1.0                   1.0   \n",
       "02deuce                       1.0                   1.0                   1.0   \n",
       "06stidriver                   1.0                   1.0                   1.0   \n",
       "\n",
       "product      AV1YnUMYglJLPUi8IJpK  ...  AVpfrfHF1cnluZ0-pRai  \\\n",
       "username                           ...                         \n",
       "00dog3                        1.0  ...                   1.0   \n",
       "00sab00                       1.0  ...                   1.0   \n",
       "02dakota                      1.0  ...                   1.0   \n",
       "02deuce                       1.0  ...                   1.0   \n",
       "06stidriver                   1.0  ...                   1.0   \n",
       "\n",
       "product      AVpfrgjFLJeJML43BvCc  AVpfs0tUilAPnD_xgqN2  AVpfsQoeilAPnD_xgfx5  \\\n",
       "username                                                                        \n",
       "00dog3                        1.0                   1.0                   1.0   \n",
       "00sab00                       1.0                   1.0                   1.0   \n",
       "02dakota                      1.0                   1.0                   1.0   \n",
       "02deuce                       1.0                   1.0                   1.0   \n",
       "06stidriver                   1.0                   1.0                   1.0   \n",
       "\n",
       "product      AVpfshNsLJeJML43CB8q  AVpfthSailAPnD_xg3ON  AVpftikC1cnluZ0-p31V  \\\n",
       "username                                                                        \n",
       "00dog3                        1.0                   1.0                   1.0   \n",
       "00sab00                       1.0                   1.0                   1.0   \n",
       "02dakota                      1.0                   1.0                   1.0   \n",
       "02deuce                       1.0                   1.0                   1.0   \n",
       "06stidriver                   1.0                   1.0                   1.0   \n",
       "\n",
       "product      AVpftymALJeJML43CZ6y  AVpfv4TlilAPnD_xhjNS  AVpfvieo1cnluZ0-qdnu  \n",
       "username                                                                       \n",
       "00dog3                        1.0                   1.0                   1.0  \n",
       "00sab00                       1.0                   1.0                   1.0  \n",
       "02dakota                      1.0                   1.0                   1.0  \n",
       "02deuce                       1.0                   1.0                   1.0  \n",
       "06stidriver                   1.0                   1.0                   1.0  \n",
       "\n",
       "[5 rows x 260 columns]"
      ]
     },
     "execution_count": 610,
     "metadata": {},
     "output_type": "execute_result"
    }
   ],
   "source": [
    "## Lets check the train data set\n",
    "dummy_train.head()"
   ]
  },
  {
   "cell_type": "code",
   "execution_count": 611,
   "metadata": {
    "colab": {
     "base_uri": "https://localhost:8080/",
     "height": 322
    },
    "id": "4zTGTz9_9psX",
    "outputId": "d4449ea1-dd09-4916-f67d-45e87dd02b6d"
   },
   "outputs": [
    {
     "data": {
      "text/html": [
       "<div>\n",
       "<style scoped>\n",
       "    .dataframe tbody tr th:only-of-type {\n",
       "        vertical-align: middle;\n",
       "    }\n",
       "\n",
       "    .dataframe tbody tr th {\n",
       "        vertical-align: top;\n",
       "    }\n",
       "\n",
       "    .dataframe thead th {\n",
       "        text-align: right;\n",
       "    }\n",
       "</style>\n",
       "<table border=\"1\" class=\"dataframe\">\n",
       "  <thead>\n",
       "    <tr style=\"text-align: right;\">\n",
       "      <th>product</th>\n",
       "      <th>AV16khLE-jtxr-f38VFn</th>\n",
       "      <th>AV1YGDqsGV-KLJ3adc-O</th>\n",
       "      <th>AV1YIch7GV-KLJ3addeG</th>\n",
       "      <th>AV1YlENIglJLPUi8IHsX</th>\n",
       "      <th>AV1YmBrdGV-KLJ3adewb</th>\n",
       "      <th>AV1YmDL9vKc47QAVgr7_</th>\n",
       "      <th>AV1Ymf_rglJLPUi8II2v</th>\n",
       "      <th>AV1Yn94nvKc47QAVgtst</th>\n",
       "      <th>AV1Ynb3bglJLPUi8IJxJ</th>\n",
       "      <th>AV1YneDPglJLPUi8IJyQ</th>\n",
       "      <th>...</th>\n",
       "      <th>AVpfpM2yilAPnD_xfmDG</th>\n",
       "      <th>AVpfqW4WilAPnD_xf7a_</th>\n",
       "      <th>AVpfr5cb1cnluZ0-pZFp</th>\n",
       "      <th>AVpfrFDZLJeJML43Bmv0</th>\n",
       "      <th>AVpfrTyiLJeJML43BrSI</th>\n",
       "      <th>AVpfrfHF1cnluZ0-pRai</th>\n",
       "      <th>AVpfs0tUilAPnD_xgqN2</th>\n",
       "      <th>AVpfthSailAPnD_xg3ON</th>\n",
       "      <th>AVpftikC1cnluZ0-p31V</th>\n",
       "      <th>AVpfvieo1cnluZ0-qdnu</th>\n",
       "    </tr>\n",
       "    <tr>\n",
       "      <th>username</th>\n",
       "      <th></th>\n",
       "      <th></th>\n",
       "      <th></th>\n",
       "      <th></th>\n",
       "      <th></th>\n",
       "      <th></th>\n",
       "      <th></th>\n",
       "      <th></th>\n",
       "      <th></th>\n",
       "      <th></th>\n",
       "      <th></th>\n",
       "      <th></th>\n",
       "      <th></th>\n",
       "      <th></th>\n",
       "      <th></th>\n",
       "      <th></th>\n",
       "      <th></th>\n",
       "      <th></th>\n",
       "      <th></th>\n",
       "      <th></th>\n",
       "      <th></th>\n",
       "    </tr>\n",
       "  </thead>\n",
       "  <tbody>\n",
       "    <tr>\n",
       "      <td>01impala</td>\n",
       "      <td>0.0</td>\n",
       "      <td>0.0</td>\n",
       "      <td>0.0</td>\n",
       "      <td>0.0</td>\n",
       "      <td>0.0</td>\n",
       "      <td>0.0</td>\n",
       "      <td>0.0</td>\n",
       "      <td>0.0</td>\n",
       "      <td>0.0</td>\n",
       "      <td>0.0</td>\n",
       "      <td>...</td>\n",
       "      <td>0.0</td>\n",
       "      <td>0.0</td>\n",
       "      <td>0.0</td>\n",
       "      <td>0.0</td>\n",
       "      <td>0.0</td>\n",
       "      <td>0.0</td>\n",
       "      <td>0.0</td>\n",
       "      <td>0.0</td>\n",
       "      <td>0.0</td>\n",
       "      <td>0.0</td>\n",
       "    </tr>\n",
       "    <tr>\n",
       "      <td>0325home</td>\n",
       "      <td>0.0</td>\n",
       "      <td>0.0</td>\n",
       "      <td>0.0</td>\n",
       "      <td>0.0</td>\n",
       "      <td>0.0</td>\n",
       "      <td>0.0</td>\n",
       "      <td>0.0</td>\n",
       "      <td>0.0</td>\n",
       "      <td>0.0</td>\n",
       "      <td>0.0</td>\n",
       "      <td>...</td>\n",
       "      <td>0.0</td>\n",
       "      <td>0.0</td>\n",
       "      <td>0.0</td>\n",
       "      <td>0.0</td>\n",
       "      <td>0.0</td>\n",
       "      <td>0.0</td>\n",
       "      <td>0.0</td>\n",
       "      <td>0.0</td>\n",
       "      <td>0.0</td>\n",
       "      <td>0.0</td>\n",
       "    </tr>\n",
       "    <tr>\n",
       "      <td>1234</td>\n",
       "      <td>0.0</td>\n",
       "      <td>0.0</td>\n",
       "      <td>0.0</td>\n",
       "      <td>0.0</td>\n",
       "      <td>0.0</td>\n",
       "      <td>0.0</td>\n",
       "      <td>0.0</td>\n",
       "      <td>0.0</td>\n",
       "      <td>0.0</td>\n",
       "      <td>0.0</td>\n",
       "      <td>...</td>\n",
       "      <td>0.0</td>\n",
       "      <td>0.0</td>\n",
       "      <td>0.0</td>\n",
       "      <td>0.0</td>\n",
       "      <td>0.0</td>\n",
       "      <td>0.0</td>\n",
       "      <td>0.0</td>\n",
       "      <td>0.0</td>\n",
       "      <td>0.0</td>\n",
       "      <td>0.0</td>\n",
       "    </tr>\n",
       "    <tr>\n",
       "      <td>123cat123</td>\n",
       "      <td>0.0</td>\n",
       "      <td>0.0</td>\n",
       "      <td>0.0</td>\n",
       "      <td>0.0</td>\n",
       "      <td>0.0</td>\n",
       "      <td>0.0</td>\n",
       "      <td>0.0</td>\n",
       "      <td>0.0</td>\n",
       "      <td>0.0</td>\n",
       "      <td>0.0</td>\n",
       "      <td>...</td>\n",
       "      <td>0.0</td>\n",
       "      <td>0.0</td>\n",
       "      <td>0.0</td>\n",
       "      <td>0.0</td>\n",
       "      <td>0.0</td>\n",
       "      <td>0.0</td>\n",
       "      <td>0.0</td>\n",
       "      <td>0.0</td>\n",
       "      <td>0.0</td>\n",
       "      <td>0.0</td>\n",
       "    </tr>\n",
       "    <tr>\n",
       "      <td>123too</td>\n",
       "      <td>0.0</td>\n",
       "      <td>0.0</td>\n",
       "      <td>0.0</td>\n",
       "      <td>0.0</td>\n",
       "      <td>0.0</td>\n",
       "      <td>0.0</td>\n",
       "      <td>0.0</td>\n",
       "      <td>1.0</td>\n",
       "      <td>0.0</td>\n",
       "      <td>0.0</td>\n",
       "      <td>...</td>\n",
       "      <td>0.0</td>\n",
       "      <td>0.0</td>\n",
       "      <td>0.0</td>\n",
       "      <td>0.0</td>\n",
       "      <td>0.0</td>\n",
       "      <td>0.0</td>\n",
       "      <td>0.0</td>\n",
       "      <td>0.0</td>\n",
       "      <td>0.0</td>\n",
       "      <td>0.0</td>\n",
       "    </tr>\n",
       "  </tbody>\n",
       "</table>\n",
       "<p>5 rows × 193 columns</p>\n",
       "</div>"
      ],
      "text/plain": [
       "product    AV16khLE-jtxr-f38VFn  AV1YGDqsGV-KLJ3adc-O  AV1YIch7GV-KLJ3addeG  \\\n",
       "username                                                                      \n",
       "01impala                    0.0                   0.0                   0.0   \n",
       "0325home                    0.0                   0.0                   0.0   \n",
       "1234                        0.0                   0.0                   0.0   \n",
       "123cat123                   0.0                   0.0                   0.0   \n",
       "123too                      0.0                   0.0                   0.0   \n",
       "\n",
       "product    AV1YlENIglJLPUi8IHsX  AV1YmBrdGV-KLJ3adewb  AV1YmDL9vKc47QAVgr7_  \\\n",
       "username                                                                      \n",
       "01impala                    0.0                   0.0                   0.0   \n",
       "0325home                    0.0                   0.0                   0.0   \n",
       "1234                        0.0                   0.0                   0.0   \n",
       "123cat123                   0.0                   0.0                   0.0   \n",
       "123too                      0.0                   0.0                   0.0   \n",
       "\n",
       "product    AV1Ymf_rglJLPUi8II2v  AV1Yn94nvKc47QAVgtst  AV1Ynb3bglJLPUi8IJxJ  \\\n",
       "username                                                                      \n",
       "01impala                    0.0                   0.0                   0.0   \n",
       "0325home                    0.0                   0.0                   0.0   \n",
       "1234                        0.0                   0.0                   0.0   \n",
       "123cat123                   0.0                   0.0                   0.0   \n",
       "123too                      0.0                   1.0                   0.0   \n",
       "\n",
       "product    AV1YneDPglJLPUi8IJyQ  ...  AVpfpM2yilAPnD_xfmDG  \\\n",
       "username                         ...                         \n",
       "01impala                    0.0  ...                   0.0   \n",
       "0325home                    0.0  ...                   0.0   \n",
       "1234                        0.0  ...                   0.0   \n",
       "123cat123                   0.0  ...                   0.0   \n",
       "123too                      0.0  ...                   0.0   \n",
       "\n",
       "product    AVpfqW4WilAPnD_xf7a_  AVpfr5cb1cnluZ0-pZFp  AVpfrFDZLJeJML43Bmv0  \\\n",
       "username                                                                      \n",
       "01impala                    0.0                   0.0                   0.0   \n",
       "0325home                    0.0                   0.0                   0.0   \n",
       "1234                        0.0                   0.0                   0.0   \n",
       "123cat123                   0.0                   0.0                   0.0   \n",
       "123too                      0.0                   0.0                   0.0   \n",
       "\n",
       "product    AVpfrTyiLJeJML43BrSI  AVpfrfHF1cnluZ0-pRai  AVpfs0tUilAPnD_xgqN2  \\\n",
       "username                                                                      \n",
       "01impala                    0.0                   0.0                   0.0   \n",
       "0325home                    0.0                   0.0                   0.0   \n",
       "1234                        0.0                   0.0                   0.0   \n",
       "123cat123                   0.0                   0.0                   0.0   \n",
       "123too                      0.0                   0.0                   0.0   \n",
       "\n",
       "product    AVpfthSailAPnD_xg3ON  AVpftikC1cnluZ0-p31V  AVpfvieo1cnluZ0-qdnu  \n",
       "username                                                                     \n",
       "01impala                    0.0                   0.0                   0.0  \n",
       "0325home                    0.0                   0.0                   0.0  \n",
       "1234                        0.0                   0.0                   0.0  \n",
       "123cat123                   0.0                   0.0                   0.0  \n",
       "123too                      0.0                   0.0                   0.0  \n",
       "\n",
       "[5 rows x 193 columns]"
      ]
     },
     "execution_count": 611,
     "metadata": {},
     "output_type": "execute_result"
    }
   ],
   "source": [
    "## Lets check the test data set\n",
    "dummy_test.head()"
   ]
  },
  {
   "cell_type": "markdown",
   "metadata": {
    "id": "ViKgOaGa_3kj"
   },
   "source": [
    "# Item Based Similarity"
   ]
  },
  {
   "cell_type": "code",
   "execution_count": 612,
   "metadata": {
    "colab": {
     "base_uri": "https://localhost:8080/",
     "height": 322
    },
    "id": "ibXRzhgG_x5N",
    "outputId": "3c6af57c-cb8c-4ffe-fd08-5823ad5d8cae"
   },
   "outputs": [
    {
     "data": {
      "text/html": [
       "<div>\n",
       "<style scoped>\n",
       "    .dataframe tbody tr th:only-of-type {\n",
       "        vertical-align: middle;\n",
       "    }\n",
       "\n",
       "    .dataframe tbody tr th {\n",
       "        vertical-align: top;\n",
       "    }\n",
       "\n",
       "    .dataframe thead th {\n",
       "        text-align: right;\n",
       "    }\n",
       "</style>\n",
       "<table border=\"1\" class=\"dataframe\">\n",
       "  <thead>\n",
       "    <tr style=\"text-align: right;\">\n",
       "      <th>username</th>\n",
       "      <th>00dog3</th>\n",
       "      <th>00sab00</th>\n",
       "      <th>02dakota</th>\n",
       "      <th>02deuce</th>\n",
       "      <th>06stidriver</th>\n",
       "      <th>08dallas</th>\n",
       "      <th>09mommy11</th>\n",
       "      <th>1.11E+24</th>\n",
       "      <th>1085</th>\n",
       "      <th>10ten</th>\n",
       "      <th>...</th>\n",
       "      <th>zpalma</th>\n",
       "      <th>zsarah</th>\n",
       "      <th>zsazsa</th>\n",
       "      <th>zt313</th>\n",
       "      <th>zubb</th>\n",
       "      <th>zuttle</th>\n",
       "      <th>zwithanx</th>\n",
       "      <th>zxjki</th>\n",
       "      <th>zzdiane</th>\n",
       "      <th>zzz1127</th>\n",
       "    </tr>\n",
       "    <tr>\n",
       "      <th>product</th>\n",
       "      <th></th>\n",
       "      <th></th>\n",
       "      <th></th>\n",
       "      <th></th>\n",
       "      <th></th>\n",
       "      <th></th>\n",
       "      <th></th>\n",
       "      <th></th>\n",
       "      <th></th>\n",
       "      <th></th>\n",
       "      <th></th>\n",
       "      <th></th>\n",
       "      <th></th>\n",
       "      <th></th>\n",
       "      <th></th>\n",
       "      <th></th>\n",
       "      <th></th>\n",
       "      <th></th>\n",
       "      <th></th>\n",
       "      <th></th>\n",
       "      <th></th>\n",
       "    </tr>\n",
       "  </thead>\n",
       "  <tbody>\n",
       "    <tr>\n",
       "      <td>AV13O1A8GV-KLJ3akUyj</td>\n",
       "      <td>NaN</td>\n",
       "      <td>NaN</td>\n",
       "      <td>NaN</td>\n",
       "      <td>NaN</td>\n",
       "      <td>NaN</td>\n",
       "      <td>NaN</td>\n",
       "      <td>NaN</td>\n",
       "      <td>NaN</td>\n",
       "      <td>NaN</td>\n",
       "      <td>NaN</td>\n",
       "      <td>...</td>\n",
       "      <td>NaN</td>\n",
       "      <td>NaN</td>\n",
       "      <td>NaN</td>\n",
       "      <td>NaN</td>\n",
       "      <td>NaN</td>\n",
       "      <td>NaN</td>\n",
       "      <td>NaN</td>\n",
       "      <td>NaN</td>\n",
       "      <td>NaN</td>\n",
       "      <td>NaN</td>\n",
       "    </tr>\n",
       "    <tr>\n",
       "      <td>AV14LG0R-jtxr-f38QfS</td>\n",
       "      <td>NaN</td>\n",
       "      <td>NaN</td>\n",
       "      <td>NaN</td>\n",
       "      <td>NaN</td>\n",
       "      <td>NaN</td>\n",
       "      <td>NaN</td>\n",
       "      <td>NaN</td>\n",
       "      <td>NaN</td>\n",
       "      <td>NaN</td>\n",
       "      <td>NaN</td>\n",
       "      <td>...</td>\n",
       "      <td>NaN</td>\n",
       "      <td>NaN</td>\n",
       "      <td>NaN</td>\n",
       "      <td>NaN</td>\n",
       "      <td>NaN</td>\n",
       "      <td>NaN</td>\n",
       "      <td>NaN</td>\n",
       "      <td>NaN</td>\n",
       "      <td>NaN</td>\n",
       "      <td>NaN</td>\n",
       "    </tr>\n",
       "    <tr>\n",
       "      <td>AV16khLE-jtxr-f38VFn</td>\n",
       "      <td>NaN</td>\n",
       "      <td>NaN</td>\n",
       "      <td>NaN</td>\n",
       "      <td>NaN</td>\n",
       "      <td>NaN</td>\n",
       "      <td>NaN</td>\n",
       "      <td>NaN</td>\n",
       "      <td>NaN</td>\n",
       "      <td>NaN</td>\n",
       "      <td>NaN</td>\n",
       "      <td>...</td>\n",
       "      <td>NaN</td>\n",
       "      <td>NaN</td>\n",
       "      <td>NaN</td>\n",
       "      <td>NaN</td>\n",
       "      <td>NaN</td>\n",
       "      <td>NaN</td>\n",
       "      <td>NaN</td>\n",
       "      <td>NaN</td>\n",
       "      <td>NaN</td>\n",
       "      <td>NaN</td>\n",
       "    </tr>\n",
       "    <tr>\n",
       "      <td>AV1YGDqsGV-KLJ3adc-O</td>\n",
       "      <td>NaN</td>\n",
       "      <td>NaN</td>\n",
       "      <td>NaN</td>\n",
       "      <td>NaN</td>\n",
       "      <td>NaN</td>\n",
       "      <td>NaN</td>\n",
       "      <td>NaN</td>\n",
       "      <td>NaN</td>\n",
       "      <td>NaN</td>\n",
       "      <td>NaN</td>\n",
       "      <td>...</td>\n",
       "      <td>NaN</td>\n",
       "      <td>NaN</td>\n",
       "      <td>NaN</td>\n",
       "      <td>NaN</td>\n",
       "      <td>NaN</td>\n",
       "      <td>NaN</td>\n",
       "      <td>NaN</td>\n",
       "      <td>NaN</td>\n",
       "      <td>NaN</td>\n",
       "      <td>NaN</td>\n",
       "    </tr>\n",
       "    <tr>\n",
       "      <td>AV1YlENIglJLPUi8IHsX</td>\n",
       "      <td>NaN</td>\n",
       "      <td>NaN</td>\n",
       "      <td>NaN</td>\n",
       "      <td>NaN</td>\n",
       "      <td>NaN</td>\n",
       "      <td>NaN</td>\n",
       "      <td>NaN</td>\n",
       "      <td>NaN</td>\n",
       "      <td>NaN</td>\n",
       "      <td>NaN</td>\n",
       "      <td>...</td>\n",
       "      <td>NaN</td>\n",
       "      <td>NaN</td>\n",
       "      <td>NaN</td>\n",
       "      <td>NaN</td>\n",
       "      <td>NaN</td>\n",
       "      <td>NaN</td>\n",
       "      <td>NaN</td>\n",
       "      <td>NaN</td>\n",
       "      <td>NaN</td>\n",
       "      <td>NaN</td>\n",
       "    </tr>\n",
       "  </tbody>\n",
       "</table>\n",
       "<p>5 rows × 20254 columns</p>\n",
       "</div>"
      ],
      "text/plain": [
       "username              00dog3  00sab00  02dakota  02deuce  06stidriver  \\\n",
       "product                                                                 \n",
       "AV13O1A8GV-KLJ3akUyj     NaN      NaN       NaN      NaN          NaN   \n",
       "AV14LG0R-jtxr-f38QfS     NaN      NaN       NaN      NaN          NaN   \n",
       "AV16khLE-jtxr-f38VFn     NaN      NaN       NaN      NaN          NaN   \n",
       "AV1YGDqsGV-KLJ3adc-O     NaN      NaN       NaN      NaN          NaN   \n",
       "AV1YlENIglJLPUi8IHsX     NaN      NaN       NaN      NaN          NaN   \n",
       "\n",
       "username              08dallas  09mommy11  1.11E+24  1085  10ten  ...  zpalma  \\\n",
       "product                                                           ...           \n",
       "AV13O1A8GV-KLJ3akUyj       NaN        NaN       NaN   NaN    NaN  ...     NaN   \n",
       "AV14LG0R-jtxr-f38QfS       NaN        NaN       NaN   NaN    NaN  ...     NaN   \n",
       "AV16khLE-jtxr-f38VFn       NaN        NaN       NaN   NaN    NaN  ...     NaN   \n",
       "AV1YGDqsGV-KLJ3adc-O       NaN        NaN       NaN   NaN    NaN  ...     NaN   \n",
       "AV1YlENIglJLPUi8IHsX       NaN        NaN       NaN   NaN    NaN  ...     NaN   \n",
       "\n",
       "username              zsarah  zsazsa  zt313  zubb  zuttle  zwithanx  zxjki  \\\n",
       "product                                                                      \n",
       "AV13O1A8GV-KLJ3akUyj     NaN     NaN    NaN   NaN     NaN       NaN    NaN   \n",
       "AV14LG0R-jtxr-f38QfS     NaN     NaN    NaN   NaN     NaN       NaN    NaN   \n",
       "AV16khLE-jtxr-f38VFn     NaN     NaN    NaN   NaN     NaN       NaN    NaN   \n",
       "AV1YGDqsGV-KLJ3adc-O     NaN     NaN    NaN   NaN     NaN       NaN    NaN   \n",
       "AV1YlENIglJLPUi8IHsX     NaN     NaN    NaN   NaN     NaN       NaN    NaN   \n",
       "\n",
       "username              zzdiane  zzz1127  \n",
       "product                                 \n",
       "AV13O1A8GV-KLJ3akUyj      NaN      NaN  \n",
       "AV14LG0R-jtxr-f38QfS      NaN      NaN  \n",
       "AV16khLE-jtxr-f38VFn      NaN      NaN  \n",
       "AV1YGDqsGV-KLJ3adc-O      NaN      NaN  \n",
       "AV1YlENIglJLPUi8IHsX      NaN      NaN  \n",
       "\n",
       "[5 rows x 20254 columns]"
      ]
     },
     "execution_count": 612,
     "metadata": {},
     "output_type": "execute_result"
    }
   ],
   "source": [
    "## Taking the transpose of the reviews matrix to normalize the rating around the mean for different product ID. \n",
    "## In the user based similarity, we had taken mean for each user intead of each product. \n",
    "product_features = train.pivot(\n",
    "    index='username',\n",
    "    columns='product',\n",
    "    values='rating'\n",
    ").T\n",
    "\n",
    "product_features.head()"
   ]
  },
  {
   "cell_type": "code",
   "execution_count": 613,
   "metadata": {
    "id": "-LykfpMGAM_j"
   },
   "outputs": [],
   "source": [
    "## Normalising the product rating for each product\n",
    "mean = np.nanmean(product_features, axis=1)\n",
    "df_subtracted = (product_features.T-mean).T"
   ]
  },
  {
   "cell_type": "code",
   "execution_count": 614,
   "metadata": {
    "colab": {
     "base_uri": "https://localhost:8080/",
     "height": 322
    },
    "id": "NaZPooIKr03h",
    "outputId": "b83c44cd-4e36-4cba-fae2-7560f8e322b5"
   },
   "outputs": [
    {
     "data": {
      "text/html": [
       "<div>\n",
       "<style scoped>\n",
       "    .dataframe tbody tr th:only-of-type {\n",
       "        vertical-align: middle;\n",
       "    }\n",
       "\n",
       "    .dataframe tbody tr th {\n",
       "        vertical-align: top;\n",
       "    }\n",
       "\n",
       "    .dataframe thead th {\n",
       "        text-align: right;\n",
       "    }\n",
       "</style>\n",
       "<table border=\"1\" class=\"dataframe\">\n",
       "  <thead>\n",
       "    <tr style=\"text-align: right;\">\n",
       "      <th>username</th>\n",
       "      <th>00dog3</th>\n",
       "      <th>00sab00</th>\n",
       "      <th>02dakota</th>\n",
       "      <th>02deuce</th>\n",
       "      <th>06stidriver</th>\n",
       "      <th>08dallas</th>\n",
       "      <th>09mommy11</th>\n",
       "      <th>1.11E+24</th>\n",
       "      <th>1085</th>\n",
       "      <th>10ten</th>\n",
       "      <th>...</th>\n",
       "      <th>zpalma</th>\n",
       "      <th>zsarah</th>\n",
       "      <th>zsazsa</th>\n",
       "      <th>zt313</th>\n",
       "      <th>zubb</th>\n",
       "      <th>zuttle</th>\n",
       "      <th>zwithanx</th>\n",
       "      <th>zxjki</th>\n",
       "      <th>zzdiane</th>\n",
       "      <th>zzz1127</th>\n",
       "    </tr>\n",
       "    <tr>\n",
       "      <th>product</th>\n",
       "      <th></th>\n",
       "      <th></th>\n",
       "      <th></th>\n",
       "      <th></th>\n",
       "      <th></th>\n",
       "      <th></th>\n",
       "      <th></th>\n",
       "      <th></th>\n",
       "      <th></th>\n",
       "      <th></th>\n",
       "      <th></th>\n",
       "      <th></th>\n",
       "      <th></th>\n",
       "      <th></th>\n",
       "      <th></th>\n",
       "      <th></th>\n",
       "      <th></th>\n",
       "      <th></th>\n",
       "      <th></th>\n",
       "      <th></th>\n",
       "      <th></th>\n",
       "    </tr>\n",
       "  </thead>\n",
       "  <tbody>\n",
       "    <tr>\n",
       "      <td>AV13O1A8GV-KLJ3akUyj</td>\n",
       "      <td>NaN</td>\n",
       "      <td>NaN</td>\n",
       "      <td>NaN</td>\n",
       "      <td>NaN</td>\n",
       "      <td>NaN</td>\n",
       "      <td>NaN</td>\n",
       "      <td>NaN</td>\n",
       "      <td>NaN</td>\n",
       "      <td>NaN</td>\n",
       "      <td>NaN</td>\n",
       "      <td>...</td>\n",
       "      <td>NaN</td>\n",
       "      <td>NaN</td>\n",
       "      <td>NaN</td>\n",
       "      <td>NaN</td>\n",
       "      <td>NaN</td>\n",
       "      <td>NaN</td>\n",
       "      <td>NaN</td>\n",
       "      <td>NaN</td>\n",
       "      <td>NaN</td>\n",
       "      <td>NaN</td>\n",
       "    </tr>\n",
       "    <tr>\n",
       "      <td>AV14LG0R-jtxr-f38QfS</td>\n",
       "      <td>NaN</td>\n",
       "      <td>NaN</td>\n",
       "      <td>NaN</td>\n",
       "      <td>NaN</td>\n",
       "      <td>NaN</td>\n",
       "      <td>NaN</td>\n",
       "      <td>NaN</td>\n",
       "      <td>NaN</td>\n",
       "      <td>NaN</td>\n",
       "      <td>NaN</td>\n",
       "      <td>...</td>\n",
       "      <td>NaN</td>\n",
       "      <td>NaN</td>\n",
       "      <td>NaN</td>\n",
       "      <td>NaN</td>\n",
       "      <td>NaN</td>\n",
       "      <td>NaN</td>\n",
       "      <td>NaN</td>\n",
       "      <td>NaN</td>\n",
       "      <td>NaN</td>\n",
       "      <td>NaN</td>\n",
       "    </tr>\n",
       "    <tr>\n",
       "      <td>AV16khLE-jtxr-f38VFn</td>\n",
       "      <td>NaN</td>\n",
       "      <td>NaN</td>\n",
       "      <td>NaN</td>\n",
       "      <td>NaN</td>\n",
       "      <td>NaN</td>\n",
       "      <td>NaN</td>\n",
       "      <td>NaN</td>\n",
       "      <td>NaN</td>\n",
       "      <td>NaN</td>\n",
       "      <td>NaN</td>\n",
       "      <td>...</td>\n",
       "      <td>NaN</td>\n",
       "      <td>NaN</td>\n",
       "      <td>NaN</td>\n",
       "      <td>NaN</td>\n",
       "      <td>NaN</td>\n",
       "      <td>NaN</td>\n",
       "      <td>NaN</td>\n",
       "      <td>NaN</td>\n",
       "      <td>NaN</td>\n",
       "      <td>NaN</td>\n",
       "    </tr>\n",
       "    <tr>\n",
       "      <td>AV1YGDqsGV-KLJ3adc-O</td>\n",
       "      <td>NaN</td>\n",
       "      <td>NaN</td>\n",
       "      <td>NaN</td>\n",
       "      <td>NaN</td>\n",
       "      <td>NaN</td>\n",
       "      <td>NaN</td>\n",
       "      <td>NaN</td>\n",
       "      <td>NaN</td>\n",
       "      <td>NaN</td>\n",
       "      <td>NaN</td>\n",
       "      <td>...</td>\n",
       "      <td>NaN</td>\n",
       "      <td>NaN</td>\n",
       "      <td>NaN</td>\n",
       "      <td>NaN</td>\n",
       "      <td>NaN</td>\n",
       "      <td>NaN</td>\n",
       "      <td>NaN</td>\n",
       "      <td>NaN</td>\n",
       "      <td>NaN</td>\n",
       "      <td>NaN</td>\n",
       "    </tr>\n",
       "    <tr>\n",
       "      <td>AV1YlENIglJLPUi8IHsX</td>\n",
       "      <td>NaN</td>\n",
       "      <td>NaN</td>\n",
       "      <td>NaN</td>\n",
       "      <td>NaN</td>\n",
       "      <td>NaN</td>\n",
       "      <td>NaN</td>\n",
       "      <td>NaN</td>\n",
       "      <td>NaN</td>\n",
       "      <td>NaN</td>\n",
       "      <td>NaN</td>\n",
       "      <td>...</td>\n",
       "      <td>NaN</td>\n",
       "      <td>NaN</td>\n",
       "      <td>NaN</td>\n",
       "      <td>NaN</td>\n",
       "      <td>NaN</td>\n",
       "      <td>NaN</td>\n",
       "      <td>NaN</td>\n",
       "      <td>NaN</td>\n",
       "      <td>NaN</td>\n",
       "      <td>NaN</td>\n",
       "    </tr>\n",
       "  </tbody>\n",
       "</table>\n",
       "<p>5 rows × 20254 columns</p>\n",
       "</div>"
      ],
      "text/plain": [
       "username              00dog3  00sab00  02dakota  02deuce  06stidriver  \\\n",
       "product                                                                 \n",
       "AV13O1A8GV-KLJ3akUyj     NaN      NaN       NaN      NaN          NaN   \n",
       "AV14LG0R-jtxr-f38QfS     NaN      NaN       NaN      NaN          NaN   \n",
       "AV16khLE-jtxr-f38VFn     NaN      NaN       NaN      NaN          NaN   \n",
       "AV1YGDqsGV-KLJ3adc-O     NaN      NaN       NaN      NaN          NaN   \n",
       "AV1YlENIglJLPUi8IHsX     NaN      NaN       NaN      NaN          NaN   \n",
       "\n",
       "username              08dallas  09mommy11  1.11E+24  1085  10ten  ...  zpalma  \\\n",
       "product                                                           ...           \n",
       "AV13O1A8GV-KLJ3akUyj       NaN        NaN       NaN   NaN    NaN  ...     NaN   \n",
       "AV14LG0R-jtxr-f38QfS       NaN        NaN       NaN   NaN    NaN  ...     NaN   \n",
       "AV16khLE-jtxr-f38VFn       NaN        NaN       NaN   NaN    NaN  ...     NaN   \n",
       "AV1YGDqsGV-KLJ3adc-O       NaN        NaN       NaN   NaN    NaN  ...     NaN   \n",
       "AV1YlENIglJLPUi8IHsX       NaN        NaN       NaN   NaN    NaN  ...     NaN   \n",
       "\n",
       "username              zsarah  zsazsa  zt313  zubb  zuttle  zwithanx  zxjki  \\\n",
       "product                                                                      \n",
       "AV13O1A8GV-KLJ3akUyj     NaN     NaN    NaN   NaN     NaN       NaN    NaN   \n",
       "AV14LG0R-jtxr-f38QfS     NaN     NaN    NaN   NaN     NaN       NaN    NaN   \n",
       "AV16khLE-jtxr-f38VFn     NaN     NaN    NaN   NaN     NaN       NaN    NaN   \n",
       "AV1YGDqsGV-KLJ3adc-O     NaN     NaN    NaN   NaN     NaN       NaN    NaN   \n",
       "AV1YlENIglJLPUi8IHsX     NaN     NaN    NaN   NaN     NaN       NaN    NaN   \n",
       "\n",
       "username              zzdiane  zzz1127  \n",
       "product                                 \n",
       "AV13O1A8GV-KLJ3akUyj      NaN      NaN  \n",
       "AV14LG0R-jtxr-f38QfS      NaN      NaN  \n",
       "AV16khLE-jtxr-f38VFn      NaN      NaN  \n",
       "AV1YGDqsGV-KLJ3adc-O      NaN      NaN  \n",
       "AV1YlENIglJLPUi8IHsX      NaN      NaN  \n",
       "\n",
       "[5 rows x 20254 columns]"
      ]
     },
     "execution_count": 614,
     "metadata": {},
     "output_type": "execute_result"
    }
   ],
   "source": [
    "df_subtracted.head()"
   ]
  },
  {
   "cell_type": "code",
   "execution_count": 615,
   "metadata": {
    "colab": {
     "base_uri": "https://localhost:8080/"
    },
    "id": "XjH2j9ynr3fT",
    "outputId": "922c6410-70bf-4ba5-dd17-ee9cb35f32f6"
   },
   "outputs": [
    {
     "name": "stdout",
     "output_type": "stream",
     "text": [
      "[[0. 0. 0. ... 0. 0. 0.]\n",
      " [0. 0. 0. ... 0. 0. 0.]\n",
      " [0. 0. 1. ... 0. 0. 0.]\n",
      " ...\n",
      " [0. 0. 0. ... 0. 0. 0.]\n",
      " [0. 0. 0. ... 0. 1. 0.]\n",
      " [0. 0. 0. ... 0. 0. 1.]]\n"
     ]
    }
   ],
   "source": [
    "## Finding the cosine similarity. Note that since the data is normalised, both the cosine metric and correlation metric will give the same value. \n",
    "from sklearn.metrics.pairwise import pairwise_distances\n",
    "\n",
    "# User Similarity Matrix\n",
    "item_correlation = 1 - pairwise_distances(df_subtracted.fillna(0), metric='cosine')\n",
    "item_correlation[np.isnan(item_correlation)] = 0\n",
    "print(item_correlation)"
   ]
  },
  {
   "cell_type": "code",
   "execution_count": 616,
   "metadata": {
    "colab": {
     "base_uri": "https://localhost:8080/"
    },
    "id": "PDEgcQ_AsFmx",
    "outputId": "bfe25c3b-980c-4101-9deb-f56be34646d8"
   },
   "outputs": [
    {
     "data": {
      "text/plain": [
       "array([[0., 0., 0., ..., 0., 0., 0.],\n",
       "       [0., 0., 0., ..., 0., 0., 0.],\n",
       "       [0., 0., 1., ..., 0., 0., 0.],\n",
       "       ...,\n",
       "       [0., 0., 0., ..., 0., 0., 0.],\n",
       "       [0., 0., 0., ..., 0., 1., 0.],\n",
       "       [0., 0., 0., ..., 0., 0., 1.]])"
      ]
     },
     "execution_count": 616,
     "metadata": {},
     "output_type": "execute_result"
    }
   ],
   "source": [
    "## Filtering the correlation only for which the value is greater than 0. (Positively correlated)\n",
    "item_correlation[item_correlation<0]=0\n",
    "item_correlation"
   ]
  },
  {
   "cell_type": "markdown",
   "metadata": {
    "id": "QDp3irp8sRN0"
   },
   "source": [
    "# Prediction"
   ]
  },
  {
   "cell_type": "code",
   "execution_count": 617,
   "metadata": {
    "colab": {
     "base_uri": "https://localhost:8080/"
    },
    "id": "ei7pcGO0sLtm",
    "outputId": "4cb08e5f-0e12-4ae4-9e67-85af47576dd0"
   },
   "outputs": [
    {
     "data": {
      "text/plain": [
       "array([[0.        , 0.        , 0.        , ..., 0.        , 0.        ,\n",
       "        0.        ],\n",
       "       [0.        , 0.        , 0.        , ..., 0.        , 0.03458652,\n",
       "        0.        ],\n",
       "       [0.        , 0.        , 0.01153019, ..., 0.        , 0.        ,\n",
       "        0.        ],\n",
       "       ...,\n",
       "       [0.        , 0.        , 0.        , ..., 0.        , 0.        ,\n",
       "        0.0029185 ],\n",
       "       [0.        , 0.        , 0.        , ..., 0.        , 0.0576442 ,\n",
       "        0.        ],\n",
       "       [0.        , 0.        , 0.        , ..., 0.        , 0.        ,\n",
       "        0.00583699]])"
      ]
     },
     "execution_count": 617,
     "metadata": {},
     "output_type": "execute_result"
    }
   ],
   "source": [
    "item_predicted_ratings = np.dot((product_features.fillna(0).T),item_correlation)\n",
    "item_predicted_ratings"
   ]
  },
  {
   "cell_type": "code",
   "execution_count": 618,
   "metadata": {
    "colab": {
     "base_uri": "https://localhost:8080/"
    },
    "id": "7Pq0VJnhseDb",
    "outputId": "268805af-ce59-49a2-ab76-8f9b3fd02d35"
   },
   "outputs": [
    {
     "data": {
      "text/plain": [
       "(20254, 260)"
      ]
     },
     "execution_count": 618,
     "metadata": {},
     "output_type": "execute_result"
    }
   ],
   "source": [
    "item_predicted_ratings.shape"
   ]
  },
  {
   "cell_type": "code",
   "execution_count": 619,
   "metadata": {
    "colab": {
     "base_uri": "https://localhost:8080/"
    },
    "id": "ii2ZF4ACshpj",
    "outputId": "53bbeaf0-0ea5-41b4-c7c8-d166f8ad0dac"
   },
   "outputs": [
    {
     "data": {
      "text/plain": [
       "(20254, 260)"
      ]
     },
     "execution_count": 619,
     "metadata": {},
     "output_type": "execute_result"
    }
   ],
   "source": [
    "dummy_train.shape"
   ]
  },
  {
   "cell_type": "markdown",
   "metadata": {
    "id": "lnw4D51gsn2p"
   },
   "source": [
    "### Filtering the rating only for the products not rated by the user for recommendation"
   ]
  },
  {
   "cell_type": "code",
   "execution_count": 620,
   "metadata": {
    "colab": {
     "base_uri": "https://localhost:8080/",
     "height": 322
    },
    "id": "QZ0MRaDaskaV",
    "outputId": "47865b91-d12e-426f-ac32-8188cb7d298f"
   },
   "outputs": [
    {
     "data": {
      "text/html": [
       "<div>\n",
       "<style scoped>\n",
       "    .dataframe tbody tr th:only-of-type {\n",
       "        vertical-align: middle;\n",
       "    }\n",
       "\n",
       "    .dataframe tbody tr th {\n",
       "        vertical-align: top;\n",
       "    }\n",
       "\n",
       "    .dataframe thead th {\n",
       "        text-align: right;\n",
       "    }\n",
       "</style>\n",
       "<table border=\"1\" class=\"dataframe\">\n",
       "  <thead>\n",
       "    <tr style=\"text-align: right;\">\n",
       "      <th>product</th>\n",
       "      <th>AV13O1A8GV-KLJ3akUyj</th>\n",
       "      <th>AV14LG0R-jtxr-f38QfS</th>\n",
       "      <th>AV16khLE-jtxr-f38VFn</th>\n",
       "      <th>AV1YGDqsGV-KLJ3adc-O</th>\n",
       "      <th>AV1YlENIglJLPUi8IHsX</th>\n",
       "      <th>AV1YmBrdGV-KLJ3adewb</th>\n",
       "      <th>AV1YmDL9vKc47QAVgr7_</th>\n",
       "      <th>AV1Ymf_rglJLPUi8II2v</th>\n",
       "      <th>AV1Yn94nvKc47QAVgtst</th>\n",
       "      <th>AV1YnUMYglJLPUi8IJpK</th>\n",
       "      <th>...</th>\n",
       "      <th>AVpfrfHF1cnluZ0-pRai</th>\n",
       "      <th>AVpfrgjFLJeJML43BvCc</th>\n",
       "      <th>AVpfs0tUilAPnD_xgqN2</th>\n",
       "      <th>AVpfsQoeilAPnD_xgfx5</th>\n",
       "      <th>AVpfshNsLJeJML43CB8q</th>\n",
       "      <th>AVpfthSailAPnD_xg3ON</th>\n",
       "      <th>AVpftikC1cnluZ0-p31V</th>\n",
       "      <th>AVpftymALJeJML43CZ6y</th>\n",
       "      <th>AVpfv4TlilAPnD_xhjNS</th>\n",
       "      <th>AVpfvieo1cnluZ0-qdnu</th>\n",
       "    </tr>\n",
       "    <tr>\n",
       "      <th>username</th>\n",
       "      <th></th>\n",
       "      <th></th>\n",
       "      <th></th>\n",
       "      <th></th>\n",
       "      <th></th>\n",
       "      <th></th>\n",
       "      <th></th>\n",
       "      <th></th>\n",
       "      <th></th>\n",
       "      <th></th>\n",
       "      <th></th>\n",
       "      <th></th>\n",
       "      <th></th>\n",
       "      <th></th>\n",
       "      <th></th>\n",
       "      <th></th>\n",
       "      <th></th>\n",
       "      <th></th>\n",
       "      <th></th>\n",
       "      <th></th>\n",
       "      <th></th>\n",
       "    </tr>\n",
       "  </thead>\n",
       "  <tbody>\n",
       "    <tr>\n",
       "      <td>00dog3</td>\n",
       "      <td>0.0</td>\n",
       "      <td>0.0</td>\n",
       "      <td>0.000000</td>\n",
       "      <td>0.000000</td>\n",
       "      <td>0.0</td>\n",
       "      <td>0.0</td>\n",
       "      <td>0.0</td>\n",
       "      <td>0.000000</td>\n",
       "      <td>0.000000</td>\n",
       "      <td>0.0</td>\n",
       "      <td>...</td>\n",
       "      <td>0.000000</td>\n",
       "      <td>0.0</td>\n",
       "      <td>0.0</td>\n",
       "      <td>0.0</td>\n",
       "      <td>0.0</td>\n",
       "      <td>0.000000</td>\n",
       "      <td>0.000000</td>\n",
       "      <td>0.0</td>\n",
       "      <td>0.000000</td>\n",
       "      <td>0.000000</td>\n",
       "    </tr>\n",
       "    <tr>\n",
       "      <td>00sab00</td>\n",
       "      <td>0.0</td>\n",
       "      <td>0.0</td>\n",
       "      <td>0.000000</td>\n",
       "      <td>0.000000</td>\n",
       "      <td>0.0</td>\n",
       "      <td>0.0</td>\n",
       "      <td>0.0</td>\n",
       "      <td>0.000000</td>\n",
       "      <td>0.005956</td>\n",
       "      <td>0.0</td>\n",
       "      <td>...</td>\n",
       "      <td>0.008078</td>\n",
       "      <td>0.0</td>\n",
       "      <td>0.0</td>\n",
       "      <td>0.0</td>\n",
       "      <td>0.0</td>\n",
       "      <td>0.038316</td>\n",
       "      <td>0.002263</td>\n",
       "      <td>0.0</td>\n",
       "      <td>0.034587</td>\n",
       "      <td>0.000000</td>\n",
       "    </tr>\n",
       "    <tr>\n",
       "      <td>02dakota</td>\n",
       "      <td>0.0</td>\n",
       "      <td>0.0</td>\n",
       "      <td>0.011530</td>\n",
       "      <td>0.000000</td>\n",
       "      <td>0.0</td>\n",
       "      <td>0.0</td>\n",
       "      <td>0.0</td>\n",
       "      <td>0.000000</td>\n",
       "      <td>0.000000</td>\n",
       "      <td>0.0</td>\n",
       "      <td>...</td>\n",
       "      <td>0.000000</td>\n",
       "      <td>0.0</td>\n",
       "      <td>0.0</td>\n",
       "      <td>0.0</td>\n",
       "      <td>0.0</td>\n",
       "      <td>0.000000</td>\n",
       "      <td>0.000000</td>\n",
       "      <td>0.0</td>\n",
       "      <td>0.000000</td>\n",
       "      <td>0.000000</td>\n",
       "    </tr>\n",
       "    <tr>\n",
       "      <td>02deuce</td>\n",
       "      <td>0.0</td>\n",
       "      <td>0.0</td>\n",
       "      <td>0.009224</td>\n",
       "      <td>0.000000</td>\n",
       "      <td>0.0</td>\n",
       "      <td>0.0</td>\n",
       "      <td>0.0</td>\n",
       "      <td>0.000000</td>\n",
       "      <td>0.000000</td>\n",
       "      <td>0.0</td>\n",
       "      <td>...</td>\n",
       "      <td>0.000000</td>\n",
       "      <td>0.0</td>\n",
       "      <td>0.0</td>\n",
       "      <td>0.0</td>\n",
       "      <td>0.0</td>\n",
       "      <td>0.000000</td>\n",
       "      <td>0.000000</td>\n",
       "      <td>0.0</td>\n",
       "      <td>0.000000</td>\n",
       "      <td>0.000000</td>\n",
       "    </tr>\n",
       "    <tr>\n",
       "      <td>06stidriver</td>\n",
       "      <td>0.0</td>\n",
       "      <td>0.0</td>\n",
       "      <td>0.000000</td>\n",
       "      <td>0.003866</td>\n",
       "      <td>0.0</td>\n",
       "      <td>0.0</td>\n",
       "      <td>0.0</td>\n",
       "      <td>0.002081</td>\n",
       "      <td>0.003646</td>\n",
       "      <td>0.0</td>\n",
       "      <td>...</td>\n",
       "      <td>0.002472</td>\n",
       "      <td>0.0</td>\n",
       "      <td>0.0</td>\n",
       "      <td>0.0</td>\n",
       "      <td>0.0</td>\n",
       "      <td>0.011727</td>\n",
       "      <td>0.001303</td>\n",
       "      <td>0.0</td>\n",
       "      <td>0.000000</td>\n",
       "      <td>0.007296</td>\n",
       "    </tr>\n",
       "  </tbody>\n",
       "</table>\n",
       "<p>5 rows × 260 columns</p>\n",
       "</div>"
      ],
      "text/plain": [
       "product      AV13O1A8GV-KLJ3akUyj  AV14LG0R-jtxr-f38QfS  AV16khLE-jtxr-f38VFn  \\\n",
       "username                                                                        \n",
       "00dog3                        0.0                   0.0              0.000000   \n",
       "00sab00                       0.0                   0.0              0.000000   \n",
       "02dakota                      0.0                   0.0              0.011530   \n",
       "02deuce                       0.0                   0.0              0.009224   \n",
       "06stidriver                   0.0                   0.0              0.000000   \n",
       "\n",
       "product      AV1YGDqsGV-KLJ3adc-O  AV1YlENIglJLPUi8IHsX  AV1YmBrdGV-KLJ3adewb  \\\n",
       "username                                                                        \n",
       "00dog3                   0.000000                   0.0                   0.0   \n",
       "00sab00                  0.000000                   0.0                   0.0   \n",
       "02dakota                 0.000000                   0.0                   0.0   \n",
       "02deuce                  0.000000                   0.0                   0.0   \n",
       "06stidriver              0.003866                   0.0                   0.0   \n",
       "\n",
       "product      AV1YmDL9vKc47QAVgr7_  AV1Ymf_rglJLPUi8II2v  AV1Yn94nvKc47QAVgtst  \\\n",
       "username                                                                        \n",
       "00dog3                        0.0              0.000000              0.000000   \n",
       "00sab00                       0.0              0.000000              0.005956   \n",
       "02dakota                      0.0              0.000000              0.000000   \n",
       "02deuce                       0.0              0.000000              0.000000   \n",
       "06stidriver                   0.0              0.002081              0.003646   \n",
       "\n",
       "product      AV1YnUMYglJLPUi8IJpK  ...  AVpfrfHF1cnluZ0-pRai  \\\n",
       "username                           ...                         \n",
       "00dog3                        0.0  ...              0.000000   \n",
       "00sab00                       0.0  ...              0.008078   \n",
       "02dakota                      0.0  ...              0.000000   \n",
       "02deuce                       0.0  ...              0.000000   \n",
       "06stidriver                   0.0  ...              0.002472   \n",
       "\n",
       "product      AVpfrgjFLJeJML43BvCc  AVpfs0tUilAPnD_xgqN2  AVpfsQoeilAPnD_xgfx5  \\\n",
       "username                                                                        \n",
       "00dog3                        0.0                   0.0                   0.0   \n",
       "00sab00                       0.0                   0.0                   0.0   \n",
       "02dakota                      0.0                   0.0                   0.0   \n",
       "02deuce                       0.0                   0.0                   0.0   \n",
       "06stidriver                   0.0                   0.0                   0.0   \n",
       "\n",
       "product      AVpfshNsLJeJML43CB8q  AVpfthSailAPnD_xg3ON  AVpftikC1cnluZ0-p31V  \\\n",
       "username                                                                        \n",
       "00dog3                        0.0              0.000000              0.000000   \n",
       "00sab00                       0.0              0.038316              0.002263   \n",
       "02dakota                      0.0              0.000000              0.000000   \n",
       "02deuce                       0.0              0.000000              0.000000   \n",
       "06stidriver                   0.0              0.011727              0.001303   \n",
       "\n",
       "product      AVpftymALJeJML43CZ6y  AVpfv4TlilAPnD_xhjNS  AVpfvieo1cnluZ0-qdnu  \n",
       "username                                                                       \n",
       "00dog3                        0.0              0.000000              0.000000  \n",
       "00sab00                       0.0              0.034587              0.000000  \n",
       "02dakota                      0.0              0.000000              0.000000  \n",
       "02deuce                       0.0              0.000000              0.000000  \n",
       "06stidriver                   0.0              0.000000              0.007296  \n",
       "\n",
       "[5 rows x 260 columns]"
      ]
     },
     "execution_count": 620,
     "metadata": {},
     "output_type": "execute_result"
    }
   ],
   "source": [
    "item_final_rating = np.multiply(item_predicted_ratings,dummy_train)\n",
    "item_final_rating.head()"
   ]
  },
  {
   "cell_type": "markdown",
   "metadata": {
    "id": "UUiwwpZStBzq"
   },
   "source": [
    "## Top 15 prediction for the user -1"
   ]
  },
  {
   "cell_type": "code",
   "execution_count": 621,
   "metadata": {
    "colab": {
     "base_uri": "https://localhost:8080/"
    },
    "id": "eXPFtt1IszDZ",
    "outputId": "43ade70a-976d-433a-f916-c30d2a8ba58a"
   },
   "outputs": [
    {
     "data": {
      "text/plain": [
       "product\n",
       "AVpfE7puilAPnD_xUcCW    0.120537\n",
       "AVpfNc9cLJeJML434tza    0.042088\n",
       "AVpf5ujMilAPnD_xkQVi    0.040216\n",
       "AVpfoSS51cnluZ0-oVH9    0.039377\n",
       "AVpfthSailAPnD_xg3ON    0.038316\n",
       "AVpfv4TlilAPnD_xhjNS    0.034587\n",
       "AVpe6FfKilAPnD_xQmHi    0.031271\n",
       "AVpe6PCDLJeJML43yFQH    0.029658\n",
       "AVpfOmKwLJeJML435GM7    0.025282\n",
       "AVpfJcHuLJeJML433ZrY    0.023106\n",
       "AVpf0thK1cnluZ0-r8vR    0.021604\n",
       "AVpf7aUAilAPnD_xkqbP    0.018944\n",
       "AVpf9_3MLJeJML43GvdB    0.018559\n",
       "AVpe8gsILJeJML43y6Ed    0.017407\n",
       "AVpe31o71cnluZ0-YrSD    0.016873\n",
       "Name: 00sab00, dtype: float64"
      ]
     },
     "execution_count": 621,
     "metadata": {},
     "output_type": "execute_result"
    }
   ],
   "source": [
    "item_final_rating.iloc[1].sort_values(ascending=False)[0:15]"
   ]
  },
  {
   "cell_type": "markdown",
   "metadata": {
    "id": "Dz92lTnutewB"
   },
   "source": [
    "# Evaluation"
   ]
  },
  {
   "cell_type": "markdown",
   "metadata": {
    "id": "SV5_Dvi-t0Od"
   },
   "source": [
    "### Here lets evaluate for the product which is already rated by the user insead of predicting it for the product not rated by the user. "
   ]
  },
  {
   "cell_type": "markdown",
   "metadata": {
    "id": "lE9fRGIYvStV"
   },
   "source": [
    "# Using Item similarity"
   ]
  },
  {
   "cell_type": "code",
   "execution_count": 622,
   "metadata": {
    "id": "KJcxOEy3vOyH"
   },
   "outputs": [],
   "source": [
    "test_product_features = test.pivot(\n",
    "    index='username',\n",
    "    columns='product',\n",
    "    values='rating'\n",
    ").T\n",
    "\n",
    "mean = np.nanmean(test_product_features, axis=1)\n",
    "test_df_subtracted = (test_product_features.T-mean).T\n",
    "\n",
    "test_item_correlation = 1 - pairwise_distances(test_df_subtracted.fillna(0), metric='cosine')\n",
    "test_item_correlation[np.isnan(test_item_correlation)] = 0\n",
    "test_item_correlation[test_item_correlation<0]=0"
   ]
  },
  {
   "cell_type": "code",
   "execution_count": 623,
   "metadata": {
    "colab": {
     "base_uri": "https://localhost:8080/"
    },
    "id": "dwOTl70Rvcnp",
    "outputId": "ac425bbf-321d-4b9d-ece8-629910e0f54d"
   },
   "outputs": [
    {
     "data": {
      "text/plain": [
       "(193, 193)"
      ]
     },
     "execution_count": 623,
     "metadata": {},
     "output_type": "execute_result"
    }
   ],
   "source": [
    "test_item_correlation.shape"
   ]
  },
  {
   "cell_type": "code",
   "execution_count": 624,
   "metadata": {
    "colab": {
     "base_uri": "https://localhost:8080/"
    },
    "id": "HCry3JcivkbB",
    "outputId": "67c69133-52b0-4c61-b516-3c8bd310afc1"
   },
   "outputs": [
    {
     "data": {
      "text/plain": [
       "(193, 5355)"
      ]
     },
     "execution_count": 624,
     "metadata": {},
     "output_type": "execute_result"
    }
   ],
   "source": [
    "test_product_features.shape"
   ]
  },
  {
   "cell_type": "code",
   "execution_count": 625,
   "metadata": {
    "colab": {
     "base_uri": "https://localhost:8080/",
     "height": 322
    },
    "id": "V1HkpqN7vni_",
    "outputId": "01540570-757f-4b0a-dad0-002b28346da5"
   },
   "outputs": [
    {
     "data": {
      "text/html": [
       "<div>\n",
       "<style scoped>\n",
       "    .dataframe tbody tr th:only-of-type {\n",
       "        vertical-align: middle;\n",
       "    }\n",
       "\n",
       "    .dataframe tbody tr th {\n",
       "        vertical-align: top;\n",
       "    }\n",
       "\n",
       "    .dataframe thead th {\n",
       "        text-align: right;\n",
       "    }\n",
       "</style>\n",
       "<table border=\"1\" class=\"dataframe\">\n",
       "  <thead>\n",
       "    <tr style=\"text-align: right;\">\n",
       "      <th>product</th>\n",
       "      <th>AV16khLE-jtxr-f38VFn</th>\n",
       "      <th>AV1YGDqsGV-KLJ3adc-O</th>\n",
       "      <th>AV1YIch7GV-KLJ3addeG</th>\n",
       "      <th>AV1YlENIglJLPUi8IHsX</th>\n",
       "      <th>AV1YmBrdGV-KLJ3adewb</th>\n",
       "      <th>AV1YmDL9vKc47QAVgr7_</th>\n",
       "      <th>AV1Ymf_rglJLPUi8II2v</th>\n",
       "      <th>AV1Yn94nvKc47QAVgtst</th>\n",
       "      <th>AV1Ynb3bglJLPUi8IJxJ</th>\n",
       "      <th>AV1YneDPglJLPUi8IJyQ</th>\n",
       "      <th>...</th>\n",
       "      <th>AVpfpM2yilAPnD_xfmDG</th>\n",
       "      <th>AVpfqW4WilAPnD_xf7a_</th>\n",
       "      <th>AVpfr5cb1cnluZ0-pZFp</th>\n",
       "      <th>AVpfrFDZLJeJML43Bmv0</th>\n",
       "      <th>AVpfrTyiLJeJML43BrSI</th>\n",
       "      <th>AVpfrfHF1cnluZ0-pRai</th>\n",
       "      <th>AVpfs0tUilAPnD_xgqN2</th>\n",
       "      <th>AVpfthSailAPnD_xg3ON</th>\n",
       "      <th>AVpftikC1cnluZ0-p31V</th>\n",
       "      <th>AVpfvieo1cnluZ0-qdnu</th>\n",
       "    </tr>\n",
       "    <tr>\n",
       "      <th>username</th>\n",
       "      <th></th>\n",
       "      <th></th>\n",
       "      <th></th>\n",
       "      <th></th>\n",
       "      <th></th>\n",
       "      <th></th>\n",
       "      <th></th>\n",
       "      <th></th>\n",
       "      <th></th>\n",
       "      <th></th>\n",
       "      <th></th>\n",
       "      <th></th>\n",
       "      <th></th>\n",
       "      <th></th>\n",
       "      <th></th>\n",
       "      <th></th>\n",
       "      <th></th>\n",
       "      <th></th>\n",
       "      <th></th>\n",
       "      <th></th>\n",
       "      <th></th>\n",
       "    </tr>\n",
       "  </thead>\n",
       "  <tbody>\n",
       "    <tr>\n",
       "      <td>01impala</td>\n",
       "      <td>0.0</td>\n",
       "      <td>0.0</td>\n",
       "      <td>0.0</td>\n",
       "      <td>0.0</td>\n",
       "      <td>0.0</td>\n",
       "      <td>0.0</td>\n",
       "      <td>0.0</td>\n",
       "      <td>0.0</td>\n",
       "      <td>0.0</td>\n",
       "      <td>0.0</td>\n",
       "      <td>...</td>\n",
       "      <td>0.0</td>\n",
       "      <td>0.0</td>\n",
       "      <td>0.0</td>\n",
       "      <td>0.0</td>\n",
       "      <td>0.0</td>\n",
       "      <td>0.0</td>\n",
       "      <td>0.0</td>\n",
       "      <td>0.0</td>\n",
       "      <td>0.0</td>\n",
       "      <td>0.0</td>\n",
       "    </tr>\n",
       "    <tr>\n",
       "      <td>0325home</td>\n",
       "      <td>0.0</td>\n",
       "      <td>0.0</td>\n",
       "      <td>0.0</td>\n",
       "      <td>0.0</td>\n",
       "      <td>0.0</td>\n",
       "      <td>0.0</td>\n",
       "      <td>0.0</td>\n",
       "      <td>0.0</td>\n",
       "      <td>0.0</td>\n",
       "      <td>0.0</td>\n",
       "      <td>...</td>\n",
       "      <td>0.0</td>\n",
       "      <td>0.0</td>\n",
       "      <td>0.0</td>\n",
       "      <td>0.0</td>\n",
       "      <td>0.0</td>\n",
       "      <td>0.0</td>\n",
       "      <td>0.0</td>\n",
       "      <td>0.0</td>\n",
       "      <td>0.0</td>\n",
       "      <td>0.0</td>\n",
       "    </tr>\n",
       "    <tr>\n",
       "      <td>1234</td>\n",
       "      <td>0.0</td>\n",
       "      <td>0.0</td>\n",
       "      <td>0.0</td>\n",
       "      <td>0.0</td>\n",
       "      <td>0.0</td>\n",
       "      <td>0.0</td>\n",
       "      <td>0.0</td>\n",
       "      <td>0.0</td>\n",
       "      <td>0.0</td>\n",
       "      <td>0.0</td>\n",
       "      <td>...</td>\n",
       "      <td>0.0</td>\n",
       "      <td>0.0</td>\n",
       "      <td>0.0</td>\n",
       "      <td>0.0</td>\n",
       "      <td>0.0</td>\n",
       "      <td>0.0</td>\n",
       "      <td>0.0</td>\n",
       "      <td>0.0</td>\n",
       "      <td>0.0</td>\n",
       "      <td>0.0</td>\n",
       "    </tr>\n",
       "    <tr>\n",
       "      <td>123cat123</td>\n",
       "      <td>0.0</td>\n",
       "      <td>0.0</td>\n",
       "      <td>0.0</td>\n",
       "      <td>0.0</td>\n",
       "      <td>0.0</td>\n",
       "      <td>0.0</td>\n",
       "      <td>0.0</td>\n",
       "      <td>0.0</td>\n",
       "      <td>0.0</td>\n",
       "      <td>0.0</td>\n",
       "      <td>...</td>\n",
       "      <td>0.0</td>\n",
       "      <td>0.0</td>\n",
       "      <td>0.0</td>\n",
       "      <td>0.0</td>\n",
       "      <td>0.0</td>\n",
       "      <td>0.0</td>\n",
       "      <td>0.0</td>\n",
       "      <td>0.0</td>\n",
       "      <td>0.0</td>\n",
       "      <td>0.0</td>\n",
       "    </tr>\n",
       "    <tr>\n",
       "      <td>123too</td>\n",
       "      <td>0.0</td>\n",
       "      <td>0.0</td>\n",
       "      <td>0.0</td>\n",
       "      <td>0.0</td>\n",
       "      <td>0.0</td>\n",
       "      <td>0.0</td>\n",
       "      <td>0.0</td>\n",
       "      <td>5.0</td>\n",
       "      <td>0.0</td>\n",
       "      <td>0.0</td>\n",
       "      <td>...</td>\n",
       "      <td>0.0</td>\n",
       "      <td>0.0</td>\n",
       "      <td>0.0</td>\n",
       "      <td>0.0</td>\n",
       "      <td>0.0</td>\n",
       "      <td>0.0</td>\n",
       "      <td>0.0</td>\n",
       "      <td>0.0</td>\n",
       "      <td>0.0</td>\n",
       "      <td>0.0</td>\n",
       "    </tr>\n",
       "  </tbody>\n",
       "</table>\n",
       "<p>5 rows × 193 columns</p>\n",
       "</div>"
      ],
      "text/plain": [
       "product    AV16khLE-jtxr-f38VFn  AV1YGDqsGV-KLJ3adc-O  AV1YIch7GV-KLJ3addeG  \\\n",
       "username                                                                      \n",
       "01impala                    0.0                   0.0                   0.0   \n",
       "0325home                    0.0                   0.0                   0.0   \n",
       "1234                        0.0                   0.0                   0.0   \n",
       "123cat123                   0.0                   0.0                   0.0   \n",
       "123too                      0.0                   0.0                   0.0   \n",
       "\n",
       "product    AV1YlENIglJLPUi8IHsX  AV1YmBrdGV-KLJ3adewb  AV1YmDL9vKc47QAVgr7_  \\\n",
       "username                                                                      \n",
       "01impala                    0.0                   0.0                   0.0   \n",
       "0325home                    0.0                   0.0                   0.0   \n",
       "1234                        0.0                   0.0                   0.0   \n",
       "123cat123                   0.0                   0.0                   0.0   \n",
       "123too                      0.0                   0.0                   0.0   \n",
       "\n",
       "product    AV1Ymf_rglJLPUi8II2v  AV1Yn94nvKc47QAVgtst  AV1Ynb3bglJLPUi8IJxJ  \\\n",
       "username                                                                      \n",
       "01impala                    0.0                   0.0                   0.0   \n",
       "0325home                    0.0                   0.0                   0.0   \n",
       "1234                        0.0                   0.0                   0.0   \n",
       "123cat123                   0.0                   0.0                   0.0   \n",
       "123too                      0.0                   5.0                   0.0   \n",
       "\n",
       "product    AV1YneDPglJLPUi8IJyQ  ...  AVpfpM2yilAPnD_xfmDG  \\\n",
       "username                         ...                         \n",
       "01impala                    0.0  ...                   0.0   \n",
       "0325home                    0.0  ...                   0.0   \n",
       "1234                        0.0  ...                   0.0   \n",
       "123cat123                   0.0  ...                   0.0   \n",
       "123too                      0.0  ...                   0.0   \n",
       "\n",
       "product    AVpfqW4WilAPnD_xf7a_  AVpfr5cb1cnluZ0-pZFp  AVpfrFDZLJeJML43Bmv0  \\\n",
       "username                                                                      \n",
       "01impala                    0.0                   0.0                   0.0   \n",
       "0325home                    0.0                   0.0                   0.0   \n",
       "1234                        0.0                   0.0                   0.0   \n",
       "123cat123                   0.0                   0.0                   0.0   \n",
       "123too                      0.0                   0.0                   0.0   \n",
       "\n",
       "product    AVpfrTyiLJeJML43BrSI  AVpfrfHF1cnluZ0-pRai  AVpfs0tUilAPnD_xgqN2  \\\n",
       "username                                                                      \n",
       "01impala                    0.0                   0.0                   0.0   \n",
       "0325home                    0.0                   0.0                   0.0   \n",
       "1234                        0.0                   0.0                   0.0   \n",
       "123cat123                   0.0                   0.0                   0.0   \n",
       "123too                      0.0                   0.0                   0.0   \n",
       "\n",
       "product    AVpfthSailAPnD_xg3ON  AVpftikC1cnluZ0-p31V  AVpfvieo1cnluZ0-qdnu  \n",
       "username                                                                     \n",
       "01impala                    0.0                   0.0                   0.0  \n",
       "0325home                    0.0                   0.0                   0.0  \n",
       "1234                        0.0                   0.0                   0.0  \n",
       "123cat123                   0.0                   0.0                   0.0  \n",
       "123too                      0.0                   0.0                   0.0  \n",
       "\n",
       "[5 rows x 193 columns]"
      ]
     },
     "execution_count": 625,
     "metadata": {},
     "output_type": "execute_result"
    }
   ],
   "source": [
    "test_item_predicted_ratings = (np.dot(test_item_correlation, test_product_features.fillna(0))).T\n",
    "test_item_final_rating = np.multiply(test_item_predicted_ratings,dummy_test)\n",
    "test_item_final_rating.head()"
   ]
  },
  {
   "cell_type": "code",
   "execution_count": 626,
   "metadata": {
    "id": "gfpKYczPvtd-"
   },
   "outputs": [],
   "source": [
    "test_ = test.pivot(\n",
    "    index='username',\n",
    "    columns='product',\n",
    "    values='rating'\n",
    ")"
   ]
  },
  {
   "cell_type": "code",
   "execution_count": 627,
   "metadata": {
    "colab": {
     "base_uri": "https://localhost:8080/"
    },
    "id": "0oWEPOqXvycv",
    "outputId": "50661cf8-1d5d-4cfc-c29e-92a1656dbf6c"
   },
   "outputs": [
    {
     "name": "stdout",
     "output_type": "stream",
     "text": [
      "MinMaxScaler(feature_range=(1, 5))\n"
     ]
    }
   ],
   "source": [
    "from sklearn.preprocessing import MinMaxScaler\n",
    "from numpy import *\n",
    "\n",
    "X  = test_item_final_rating.copy() \n",
    "X = X[X>0]\n",
    "\n",
    "scaler = MinMaxScaler(feature_range=(1, 5))\n",
    "print(scaler.fit(X))\n",
    "y = (scaler.transform(X))\n",
    "\n",
    "\n",
    "test_ = test.pivot(\n",
    "    index='username',\n",
    "    columns='product',\n",
    "    values='rating'\n",
    ")\n",
    "\n",
    "# Finding total non-NaN value\n",
    "total_non_nan = np.count_nonzero(~np.isnan(y))"
   ]
  },
  {
   "cell_type": "markdown",
   "metadata": {
    "id": "O1LbH-WwwCYK"
   },
   "source": [
    "# Finding RMSE"
   ]
  },
  {
   "cell_type": "code",
   "execution_count": 628,
   "metadata": {
    "colab": {
     "base_uri": "https://localhost:8080/"
    },
    "id": "t1GsBXzpv5nX",
    "outputId": "051e46b9-2697-42d0-b88e-9bb26d52a81f"
   },
   "outputs": [
    {
     "name": "stdout",
     "output_type": "stream",
     "text": [
      "0.38860832588224853\n"
     ]
    }
   ],
   "source": [
    "rmse = (sum(sum((test_ - y )**2))/total_non_nan)**0.5\n",
    "print(rmse)"
   ]
  },
  {
   "cell_type": "code",
   "execution_count": 651,
   "metadata": {},
   "outputs": [
    {
     "data": {
      "text/plain": [
       "'AVpfOmKwLJeJML435GM7'"
      ]
     },
     "execution_count": 651,
     "metadata": {},
     "output_type": "execute_result"
    }
   ],
   "source": [
    "df = item_final_rating.iloc[0].sort_values(ascending=False)[:15]\n",
    "lst = df.index[df.values != 0]\n",
    "lst"
   ]
  },
  {
   "cell_type": "code",
   "execution_count": 629,
   "metadata": {},
   "outputs": [],
   "source": [
    "def product_recommendation(username): \n",
    "    user_idx = username \n",
    "    #sorted_user_ratings\n",
    "    sorted_user_predictions = pd.DataFrame(item_final_rating.loc[user_idx].sort_values(ascending=False)[:15])\n",
    "    sorted_user_predictions.index.name = 'product'\n",
    "    sorted_user_predictions.columns = ['user_ratings'] \n",
    "    sorted_user_predictions = sorted_user_predictions.sort_values('user_ratings', ascending=False)\n",
    "    final_pred_df = sorted_user_predictions\n",
    "    prod_review_df = reviews[['id','name','reviews_text']]\n",
    "    user_recom = prod_review_df.join(final_pred_df,on=['id'],how=\"inner\")\n",
    "    print('\\nBelow are the recommended items for user(user_id = {}):\\n'.format(username))\n",
    "    print(final_pred_df)\n",
    "    return user_recom"
   ]
  },
  {
   "cell_type": "code",
   "execution_count": 630,
   "metadata": {},
   "outputs": [
    {
     "name": "stdout",
     "output_type": "stream",
     "text": [
      "\n",
      "Below are the recommended items for user(user_id = 00dog3):\n",
      "\n",
      "                      user_ratings\n",
      "product                           \n",
      "AVpfOmKwLJeJML435GM7      0.048303\n",
      "AVpe5s3RLJeJML43x4eA      0.040974\n",
      "AVpe8gsILJeJML43y6Ed      0.039106\n",
      "AVpe59io1cnluZ0-ZgDU      0.034743\n",
      "AVpfN6Z71cnluZ0-gZmO      0.027830\n",
      "AVpe41TqilAPnD_xQH3d      0.020857\n",
      "AVpfAgSp1cnluZ0-b2-K      0.018936\n",
      "AVpfRTh1ilAPnD_xYic2      0.012341\n",
      "AVpf63aJLJeJML43F__Q      0.009283\n",
      "AVpfJP1C1cnluZ0-e3Xy      0.004908\n",
      "AVpf3VOfilAPnD_xjpun      0.002627\n",
      "AVpf5CnILJeJML43FjaU      0.000000\n",
      "AVpf4oLxLJeJML43FcxC      0.000000\n",
      "AVpf4WWN1cnluZ0-s7Wj      0.000000\n",
      "AVpf3okQLJeJML43FMif      0.000000\n"
     ]
    }
   ],
   "source": [
    "user_recom = product_recommendation('00dog3')"
   ]
  },
  {
   "cell_type": "code",
   "execution_count": 631,
   "metadata": {},
   "outputs": [
    {
     "data": {
      "text/plain": [
       "(15346, 15571)"
      ]
     },
     "execution_count": 631,
     "metadata": {},
     "output_type": "execute_result"
    }
   ],
   "source": [
    "X_test_user = user_recom['reviews_text']\n",
    "X_test_user = X_test_user.apply(lambda x: re.sub('[^a-zA-Z]+', ' ', x.lower()).strip())\n",
    "X_test_user = tfidf_pickle_model.transform(X_test_user)\n",
    "X_test_user.shape"
   ]
  },
  {
   "cell_type": "code",
   "execution_count": 632,
   "metadata": {},
   "outputs": [],
   "source": [
    "lr_pickle_model = joblib.load('models/lr_model.pkl') \n",
    "y_pred_user = lr_pickle_model.predict(X_test_user)"
   ]
  },
  {
   "cell_type": "code",
   "execution_count": 633,
   "metadata": {},
   "outputs": [
    {
     "data": {
      "text/plain": [
       "array([0, 0, 0, ..., 1, 0, 1])"
      ]
     },
     "execution_count": 633,
     "metadata": {},
     "output_type": "execute_result"
    }
   ],
   "source": [
    "y_pred_user"
   ]
  },
  {
   "cell_type": "code",
   "execution_count": 634,
   "metadata": {},
   "outputs": [
    {
     "data": {
      "text/plain": [
       "(15346, 4)"
      ]
     },
     "execution_count": 634,
     "metadata": {},
     "output_type": "execute_result"
    }
   ],
   "source": [
    "user_recom.shape"
   ]
  },
  {
   "cell_type": "code",
   "execution_count": 635,
   "metadata": {},
   "outputs": [
    {
     "data": {
      "text/plain": [
       "(15346,)"
      ]
     },
     "execution_count": 635,
     "metadata": {},
     "output_type": "execute_result"
    }
   ],
   "source": [
    "y_pred_user.shape"
   ]
  },
  {
   "cell_type": "code",
   "execution_count": 636,
   "metadata": {},
   "outputs": [],
   "source": [
    "user_sentiment = pd.DataFrame(data=y_pred_user, columns=['user_sentiment'], \n",
    "                            index=user_recom.index.copy())"
   ]
  },
  {
   "cell_type": "code",
   "execution_count": 637,
   "metadata": {},
   "outputs": [],
   "source": [
    "result = pd.merge(user_recom, user_sentiment, how ='left',left_index = True, right_index = True)\n"
   ]
  },
  {
   "cell_type": "code",
   "execution_count": 638,
   "metadata": {},
   "outputs": [
    {
     "data": {
      "text/html": [
       "<div>\n",
       "<style scoped>\n",
       "    .dataframe tbody tr th:only-of-type {\n",
       "        vertical-align: middle;\n",
       "    }\n",
       "\n",
       "    .dataframe tbody tr th {\n",
       "        vertical-align: top;\n",
       "    }\n",
       "\n",
       "    .dataframe thead th {\n",
       "        text-align: right;\n",
       "    }\n",
       "</style>\n",
       "<table border=\"1\" class=\"dataframe\">\n",
       "  <thead>\n",
       "    <tr style=\"text-align: right;\">\n",
       "      <th></th>\n",
       "      <th>id</th>\n",
       "      <th>name</th>\n",
       "      <th>reviews_text</th>\n",
       "      <th>user_ratings</th>\n",
       "      <th>user_sentiment</th>\n",
       "    </tr>\n",
       "  </thead>\n",
       "  <tbody>\n",
       "    <tr>\n",
       "      <td>1796</td>\n",
       "      <td>AVpe41TqilAPnD_xQH3d</td>\n",
       "      <td>Mike Dave Need Wedding Dates (dvd + Digital)</td>\n",
       "      <td>I expected more from this movie and more from ...</td>\n",
       "      <td>0.020857</td>\n",
       "      <td>0</td>\n",
       "    </tr>\n",
       "    <tr>\n",
       "      <td>1797</td>\n",
       "      <td>AVpe41TqilAPnD_xQH3d</td>\n",
       "      <td>Mike Dave Need Wedding Dates (dvd + Digital)</td>\n",
       "      <td>Would ABSOLUTELY NOT recommend. We could only ...</td>\n",
       "      <td>0.020857</td>\n",
       "      <td>0</td>\n",
       "    </tr>\n",
       "    <tr>\n",
       "      <td>1798</td>\n",
       "      <td>AVpe41TqilAPnD_xQH3d</td>\n",
       "      <td>Mike Dave Need Wedding Dates (dvd + Digital)</td>\n",
       "      <td>Terrible movie with good actors. Can't believe...</td>\n",
       "      <td>0.020857</td>\n",
       "      <td>0</td>\n",
       "    </tr>\n",
       "    <tr>\n",
       "      <td>1799</td>\n",
       "      <td>AVpe41TqilAPnD_xQH3d</td>\n",
       "      <td>Mike Dave Need Wedding Dates (dvd + Digital)</td>\n",
       "      <td>This movie is terrible with only a few funny s...</td>\n",
       "      <td>0.020857</td>\n",
       "      <td>0</td>\n",
       "    </tr>\n",
       "    <tr>\n",
       "      <td>1800</td>\n",
       "      <td>AVpe41TqilAPnD_xQH3d</td>\n",
       "      <td>Mike Dave Need Wedding Dates (dvd + Digital)</td>\n",
       "      <td>This was a boring movie i couldnt watch 20 min...</td>\n",
       "      <td>0.020857</td>\n",
       "      <td>0</td>\n",
       "    </tr>\n",
       "  </tbody>\n",
       "</table>\n",
       "</div>"
      ],
      "text/plain": [
       "                        id                                          name  \\\n",
       "1796  AVpe41TqilAPnD_xQH3d  Mike Dave Need Wedding Dates (dvd + Digital)   \n",
       "1797  AVpe41TqilAPnD_xQH3d  Mike Dave Need Wedding Dates (dvd + Digital)   \n",
       "1798  AVpe41TqilAPnD_xQH3d  Mike Dave Need Wedding Dates (dvd + Digital)   \n",
       "1799  AVpe41TqilAPnD_xQH3d  Mike Dave Need Wedding Dates (dvd + Digital)   \n",
       "1800  AVpe41TqilAPnD_xQH3d  Mike Dave Need Wedding Dates (dvd + Digital)   \n",
       "\n",
       "                                           reviews_text  user_ratings  \\\n",
       "1796  I expected more from this movie and more from ...      0.020857   \n",
       "1797  Would ABSOLUTELY NOT recommend. We could only ...      0.020857   \n",
       "1798  Terrible movie with good actors. Can't believe...      0.020857   \n",
       "1799  This movie is terrible with only a few funny s...      0.020857   \n",
       "1800  This was a boring movie i couldnt watch 20 min...      0.020857   \n",
       "\n",
       "      user_sentiment  \n",
       "1796               0  \n",
       "1797               0  \n",
       "1798               0  \n",
       "1799               0  \n",
       "1800               0  "
      ]
     },
     "execution_count": 638,
     "metadata": {},
     "output_type": "execute_result"
    }
   ],
   "source": [
    "result.head()"
   ]
  },
  {
   "cell_type": "code",
   "execution_count": 639,
   "metadata": {},
   "outputs": [
    {
     "data": {
      "text/plain": [
       "(15346, 5)"
      ]
     },
     "execution_count": 639,
     "metadata": {},
     "output_type": "execute_result"
    }
   ],
   "source": [
    "result.shape"
   ]
  },
  {
   "cell_type": "code",
   "execution_count": 640,
   "metadata": {},
   "outputs": [
    {
     "data": {
      "text/plain": [
       "(15346, 1)"
      ]
     },
     "execution_count": 640,
     "metadata": {},
     "output_type": "execute_result"
    }
   ],
   "source": [
    "user_sentiment.shape"
   ]
  },
  {
   "cell_type": "code",
   "execution_count": 641,
   "metadata": {},
   "outputs": [],
   "source": [
    "new_df = result.groupby('name')['user_sentiment'].mean()"
   ]
  },
  {
   "cell_type": "code",
   "execution_count": 652,
   "metadata": {},
   "outputs": [
    {
     "data": {
      "text/plain": [
       "name\n",
       "My Big Fat Greek Wedding 2 (blu-Ray + Dvd + Digital)                               0.938623\n",
       "Pantene Pro-V Expert Collection Age Defy Conditioner                               0.933824\n",
       "Avery174 Ready Index Contemporary Table Of Contents Divider, 1-8, Multi, Letter    0.904153\n",
       "Clorox Disinfecting Bathroom Cleaner                                               0.887690\n",
       "Planes: Fire Rescue (2 Discs) (includes Digital Copy) (blu-Ray/dvd)                0.880140\n",
       "Clorox Disinfecting Wipes Value Pack Scented 150 Ct Total                          0.865652\n",
       "WeatherTech 40647 14-15 Outlander Cargo Liners Behind 2nd Row, Black               0.833333\n",
       "Bounce Dryer Sheets, Fresh Linen, 160 sheets                                       0.827586\n",
       "Caress Moisturizing Body Bar Natural Silk, 4.75oz                                  0.823529\n",
       "Burt's Bees Lip Shimmer, Raisin                                                    0.815578\n",
       "Clear Scalp & Hair Therapy Total Care Nourishing Shampoo                           0.790323\n",
       "Mike Dave Need Wedding Dates (dvd + Digital)                                       0.783355\n",
       "Pendaflex174 Divide It Up File Folder, Multi Section, Letter, Assorted, 12/pack    0.687097\n",
       "Chips Deluxe Soft 'n Chewy Cookies                                                 0.666667\n",
       "Tai Pei Sweet & Sour Chicken                                                       0.650000\n",
       "Name: user_sentiment, dtype: float64"
      ]
     },
     "execution_count": 652,
     "metadata": {},
     "output_type": "execute_result"
    }
   ],
   "source": [
    "new_df.sort_values(ascending=False)[:15]"
   ]
  },
  {
   "cell_type": "code",
   "execution_count": 643,
   "metadata": {},
   "outputs": [
    {
     "data": {
      "text/html": [
       "<div>\n",
       "<style scoped>\n",
       "    .dataframe tbody tr th:only-of-type {\n",
       "        vertical-align: middle;\n",
       "    }\n",
       "\n",
       "    .dataframe tbody tr th {\n",
       "        vertical-align: top;\n",
       "    }\n",
       "\n",
       "    .dataframe thead th {\n",
       "        text-align: right;\n",
       "    }\n",
       "</style>\n",
       "<table border=\"1\" class=\"dataframe\">\n",
       "  <thead>\n",
       "    <tr style=\"text-align: right;\">\n",
       "      <th></th>\n",
       "      <th>id</th>\n",
       "      <th>brand</th>\n",
       "      <th>categories</th>\n",
       "      <th>manufacturer</th>\n",
       "      <th>name</th>\n",
       "      <th>reviews_date</th>\n",
       "      <th>reviews_didPurchase</th>\n",
       "      <th>reviews_doRecommend</th>\n",
       "      <th>reviews_rating</th>\n",
       "      <th>reviews_text</th>\n",
       "      <th>reviews_title</th>\n",
       "      <th>reviews_username</th>\n",
       "      <th>user_sentiment</th>\n",
       "      <th>reviews_year</th>\n",
       "    </tr>\n",
       "  </thead>\n",
       "  <tbody>\n",
       "    <tr>\n",
       "      <td>3499</td>\n",
       "      <td>AVpe6FfKilAPnD_xQmHi</td>\n",
       "      <td>Chex</td>\n",
       "      <td>Food,Packaged Foods,Snacks,Snacks, Cookies &amp; C...</td>\n",
       "      <td>GENERAL MILLS SALES, INC.</td>\n",
       "      <td>Chex Muddy Buddies Brownie Supreme Snack Mix</td>\n",
       "      <td>2013-12-16</td>\n",
       "      <td>True</td>\n",
       "      <td>True</td>\n",
       "      <td>4</td>\n",
       "      <td>Very chocolaty taste to them. It hits the swee...</td>\n",
       "      <td>something different</td>\n",
       "      <td>00dog3</td>\n",
       "      <td>1</td>\n",
       "      <td>2013</td>\n",
       "    </tr>\n",
       "  </tbody>\n",
       "</table>\n",
       "</div>"
      ],
      "text/plain": [
       "                        id brand  \\\n",
       "3499  AVpe6FfKilAPnD_xQmHi  Chex   \n",
       "\n",
       "                                             categories  \\\n",
       "3499  Food,Packaged Foods,Snacks,Snacks, Cookies & C...   \n",
       "\n",
       "                   manufacturer                                          name  \\\n",
       "3499  GENERAL MILLS SALES, INC.  Chex Muddy Buddies Brownie Supreme Snack Mix   \n",
       "\n",
       "     reviews_date reviews_didPurchase reviews_doRecommend  reviews_rating  \\\n",
       "3499   2013-12-16                True                True               4   \n",
       "\n",
       "                                           reviews_text        reviews_title  \\\n",
       "3499  Very chocolaty taste to them. It hits the swee...  something different   \n",
       "\n",
       "     reviews_username  user_sentiment  reviews_year  \n",
       "3499           00dog3               1          2013  "
      ]
     },
     "execution_count": 643,
     "metadata": {},
     "output_type": "execute_result"
    }
   ],
   "source": [
    "reviews[reviews['reviews_username'] == '00dog3']"
   ]
  },
  {
   "cell_type": "code",
   "execution_count": 644,
   "metadata": {},
   "outputs": [
    {
     "data": {
      "text/html": [
       "<div>\n",
       "<style scoped>\n",
       "    .dataframe tbody tr th:only-of-type {\n",
       "        vertical-align: middle;\n",
       "    }\n",
       "\n",
       "    .dataframe tbody tr th {\n",
       "        vertical-align: top;\n",
       "    }\n",
       "\n",
       "    .dataframe thead th {\n",
       "        text-align: right;\n",
       "    }\n",
       "</style>\n",
       "<table border=\"1\" class=\"dataframe\">\n",
       "  <thead>\n",
       "    <tr style=\"text-align: right;\">\n",
       "      <th></th>\n",
       "      <th>id</th>\n",
       "      <th>name</th>\n",
       "      <th>reviews_text</th>\n",
       "      <th>user_ratings</th>\n",
       "      <th>user_sentiment</th>\n",
       "    </tr>\n",
       "  </thead>\n",
       "  <tbody>\n",
       "    <tr>\n",
       "      <td>22351</td>\n",
       "      <td>AVpfOmKwLJeJML435GM7</td>\n",
       "      <td>Clear Scalp &amp; Hair Therapy Total Care Nourishi...</td>\n",
       "      <td>Bring back the old formula! This new formula i...</td>\n",
       "      <td>0.048303</td>\n",
       "      <td>0</td>\n",
       "    </tr>\n",
       "    <tr>\n",
       "      <td>22352</td>\n",
       "      <td>AVpfOmKwLJeJML435GM7</td>\n",
       "      <td>Clear Scalp &amp; Hair Therapy Total Care Nourishi...</td>\n",
       "      <td>The total care original formula was the best! ...</td>\n",
       "      <td>0.048303</td>\n",
       "      <td>1</td>\n",
       "    </tr>\n",
       "    <tr>\n",
       "      <td>22353</td>\n",
       "      <td>AVpfOmKwLJeJML435GM7</td>\n",
       "      <td>Clear Scalp &amp; Hair Therapy Total Care Nourishi...</td>\n",
       "      <td>I'm very disappointed with the new formula. I ...</td>\n",
       "      <td>0.048303</td>\n",
       "      <td>1</td>\n",
       "    </tr>\n",
       "    <tr>\n",
       "      <td>22354</td>\n",
       "      <td>AVpfOmKwLJeJML435GM7</td>\n",
       "      <td>Clear Scalp &amp; Hair Therapy Total Care Nourishi...</td>\n",
       "      <td>I'm so glad I'm not the only one completely di...</td>\n",
       "      <td>0.048303</td>\n",
       "      <td>1</td>\n",
       "    </tr>\n",
       "    <tr>\n",
       "      <td>22355</td>\n",
       "      <td>AVpfOmKwLJeJML435GM7</td>\n",
       "      <td>Clear Scalp &amp; Hair Therapy Total Care Nourishi...</td>\n",
       "      <td>I loved this shampoo!!! It used to make my hai...</td>\n",
       "      <td>0.048303</td>\n",
       "      <td>1</td>\n",
       "    </tr>\n",
       "    <tr>\n",
       "      <td>...</td>\n",
       "      <td>...</td>\n",
       "      <td>...</td>\n",
       "      <td>...</td>\n",
       "      <td>...</td>\n",
       "      <td>...</td>\n",
       "    </tr>\n",
       "    <tr>\n",
       "      <td>22718</td>\n",
       "      <td>AVpfOmKwLJeJML435GM7</td>\n",
       "      <td>Clear Scalp &amp; Hair Therapy Total Care Nourishi...</td>\n",
       "      <td>I have had an issue with psoriasis for years. ...</td>\n",
       "      <td>0.048303</td>\n",
       "      <td>1</td>\n",
       "    </tr>\n",
       "    <tr>\n",
       "      <td>22719</td>\n",
       "      <td>AVpfOmKwLJeJML435GM7</td>\n",
       "      <td>Clear Scalp &amp; Hair Therapy Total Care Nourishi...</td>\n",
       "      <td>Mostly all brands (cheaper to most expensive) ...</td>\n",
       "      <td>0.048303</td>\n",
       "      <td>1</td>\n",
       "    </tr>\n",
       "    <tr>\n",
       "      <td>22720</td>\n",
       "      <td>AVpfOmKwLJeJML435GM7</td>\n",
       "      <td>Clear Scalp &amp; Hair Therapy Total Care Nourishi...</td>\n",
       "      <td>I was curious when this shampoo came out so I ...</td>\n",
       "      <td>0.048303</td>\n",
       "      <td>1</td>\n",
       "    </tr>\n",
       "    <tr>\n",
       "      <td>22721</td>\n",
       "      <td>AVpfOmKwLJeJML435GM7</td>\n",
       "      <td>Clear Scalp &amp; Hair Therapy Total Care Nourishi...</td>\n",
       "      <td>I love this product, this is the ONLY one I us...</td>\n",
       "      <td>0.048303</td>\n",
       "      <td>1</td>\n",
       "    </tr>\n",
       "    <tr>\n",
       "      <td>22722</td>\n",
       "      <td>AVpfOmKwLJeJML435GM7</td>\n",
       "      <td>Clear Scalp &amp; Hair Therapy Total Care Nourishi...</td>\n",
       "      <td>Item is an excellent shampoo.</td>\n",
       "      <td>0.048303</td>\n",
       "      <td>1</td>\n",
       "    </tr>\n",
       "  </tbody>\n",
       "</table>\n",
       "<p>372 rows × 5 columns</p>\n",
       "</div>"
      ],
      "text/plain": [
       "                         id  \\\n",
       "22351  AVpfOmKwLJeJML435GM7   \n",
       "22352  AVpfOmKwLJeJML435GM7   \n",
       "22353  AVpfOmKwLJeJML435GM7   \n",
       "22354  AVpfOmKwLJeJML435GM7   \n",
       "22355  AVpfOmKwLJeJML435GM7   \n",
       "...                     ...   \n",
       "22718  AVpfOmKwLJeJML435GM7   \n",
       "22719  AVpfOmKwLJeJML435GM7   \n",
       "22720  AVpfOmKwLJeJML435GM7   \n",
       "22721  AVpfOmKwLJeJML435GM7   \n",
       "22722  AVpfOmKwLJeJML435GM7   \n",
       "\n",
       "                                                    name  \\\n",
       "22351  Clear Scalp & Hair Therapy Total Care Nourishi...   \n",
       "22352  Clear Scalp & Hair Therapy Total Care Nourishi...   \n",
       "22353  Clear Scalp & Hair Therapy Total Care Nourishi...   \n",
       "22354  Clear Scalp & Hair Therapy Total Care Nourishi...   \n",
       "22355  Clear Scalp & Hair Therapy Total Care Nourishi...   \n",
       "...                                                  ...   \n",
       "22718  Clear Scalp & Hair Therapy Total Care Nourishi...   \n",
       "22719  Clear Scalp & Hair Therapy Total Care Nourishi...   \n",
       "22720  Clear Scalp & Hair Therapy Total Care Nourishi...   \n",
       "22721  Clear Scalp & Hair Therapy Total Care Nourishi...   \n",
       "22722  Clear Scalp & Hair Therapy Total Care Nourishi...   \n",
       "\n",
       "                                            reviews_text  user_ratings  \\\n",
       "22351  Bring back the old formula! This new formula i...      0.048303   \n",
       "22352  The total care original formula was the best! ...      0.048303   \n",
       "22353  I'm very disappointed with the new formula. I ...      0.048303   \n",
       "22354  I'm so glad I'm not the only one completely di...      0.048303   \n",
       "22355  I loved this shampoo!!! It used to make my hai...      0.048303   \n",
       "...                                                  ...           ...   \n",
       "22718  I have had an issue with psoriasis for years. ...      0.048303   \n",
       "22719  Mostly all brands (cheaper to most expensive) ...      0.048303   \n",
       "22720  I was curious when this shampoo came out so I ...      0.048303   \n",
       "22721  I love this product, this is the ONLY one I us...      0.048303   \n",
       "22722                      Item is an excellent shampoo.      0.048303   \n",
       "\n",
       "       user_sentiment  \n",
       "22351               0  \n",
       "22352               1  \n",
       "22353               1  \n",
       "22354               1  \n",
       "22355               1  \n",
       "...               ...  \n",
       "22718               1  \n",
       "22719               1  \n",
       "22720               1  \n",
       "22721               1  \n",
       "22722               1  \n",
       "\n",
       "[372 rows x 5 columns]"
      ]
     },
     "execution_count": 644,
     "metadata": {},
     "output_type": "execute_result"
    }
   ],
   "source": [
    "result[result['id'] == 'AVpfOmKwLJeJML435GM7']"
   ]
  },
  {
   "cell_type": "code",
   "execution_count": null,
   "metadata": {},
   "outputs": [],
   "source": []
  }
 ],
 "metadata": {
  "colab": {
   "collapsed_sections": [],
   "name": "SentimentAnalysis.ipynb",
   "provenance": []
  },
  "kernelspec": {
   "display_name": "Python 3",
   "language": "python",
   "name": "python3"
  },
  "language_info": {
   "codemirror_mode": {
    "name": "ipython",
    "version": 3
   },
   "file_extension": ".py",
   "mimetype": "text/x-python",
   "name": "python",
   "nbconvert_exporter": "python",
   "pygments_lexer": "ipython3",
   "version": "3.7.4"
  }
 },
 "nbformat": 4,
 "nbformat_minor": 1
}
